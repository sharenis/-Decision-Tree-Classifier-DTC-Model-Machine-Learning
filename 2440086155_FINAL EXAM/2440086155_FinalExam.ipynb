{
  "cells": [
    {
      "cell_type": "markdown",
      "metadata": {
        "id": "rzoAe-GJ3Rl-"
      },
      "source": [
        "# 2440086155_FinalExam"
      ]
    },
    {
      "cell_type": "markdown",
      "metadata": {
        "id": "XFYiWPlm3RmE"
      },
      "source": [
        "**Thursday, July 14, 2022.**"
      ]
    },
    {
      "cell_type": "markdown",
      "metadata": {
        "id": "sHcSkuB83RmF"
      },
      "source": [
        "**Student Name**  :SHAREN IVANA   \n",
        "**Student ID**    :2440086155     \n",
        "**Video Link**    :.................    "
      ]
    },
    {
      "cell_type": "markdown",
      "metadata": {
        "id": "RVnge5633RmG"
      },
      "source": [
        "* [Dataset Link](https://data.cityofchicago.org/Public-Safety/Crimes-2001-to-present/ijzp-q8t2/data)\n",
        "## <strong>Dataset Description</strong>\n",
        "<br>\n",
        " <strong>a record of the crimes that have occurred in Chicago</strong>\n",
        " <br>\n",
        "<ul><li><strong>Domestic :</strong> Indicates whether the incident was domestic-related as defined by the Illinois Domestic Violence Act.</li>\n",
        "    <li><strong>Beat :</strong> Indicates the beat where the incident occurred. A beat is the smallest police geographic area – each beat has a dedicated police beat car. Three to five beats make up a police sector, and three sectors make up a police district. The Chicago Police Department has 22 police districts.</li>\n",
        "    <li><strong>District :</strong> Indicates the police district where the incident occurred</li>\n",
        "    <li><strong>Ward :</strong> The ward(City Council District) where the incident occurred</li>\n",
        "    <li><strong>Community Are :</strong> Indicates the community area where the incident occurred. Chicago has 77 community areas.</li>\n",
        "    <li><strong>FBI Code :</strong> Indicates the crime classification as outlined in the FBI's National Incident-Based Reporting System (NIBRS).</li>\n",
        "    <li><strong>Date :</strong> A given month (1 : January, 12 : December); a given hour (1 to 23)</li>\n",
        "</ul>"
      ]
    },
    {
      "cell_type": "markdown",
      "metadata": {
        "id": "6KVQgG8T3RmI"
      },
      "source": [
        "**NOTES:**\n",
        "<li>You are required to build <strong>'the BEST and suitable'</strong> supervised machine learning model for the given dataset. The model may be used for the effective deployment of police officers in a city across several districts regarding the degree to which each area is prone to crime at a particular hour, day, and month. </li>\n",
        "<li>Build multiple potentially suitable machine learning models (at least 2 different machine learning models).</li>\n",
        "<li>You have to evaluate the models using at least 2 performance metrics before choose what you assume to be the `\"best\"` model for the given dataset.</li>"
      ]
    },
    {
      "cell_type": "markdown",
      "metadata": {
        "id": "t7LZevQt3RmI"
      },
      "source": [
        "**HINT:** \n",
        "1. You need to generate the target feature by **performing feature engineering on `Date` and `Primary Type` features** to group crimes together\n",
        "<br>\n",
        "2. Level of Crime Rate:\n",
        "<ul><li><strong>0-14 : </strong>Low Crime Rate</li>\n",
        "<li><strong>15-33 : </strong>Medium Crime Rate</li>\n",
        "<li><strong>34 and above : </strong>High Crime Rate</li>\n",
        "<br>\n",
        "3. You may need to check the data proportion in each class (imbalance/not)"
      ]
    },
    {
      "cell_type": "markdown",
      "metadata": {
        "id": "J8qExpSC3RmK"
      },
      "source": [
        "## 1. Load the neccessary Libraries and Data (2 pts.)"
      ]
    },
    {
      "cell_type": "code",
      "execution_count": 1,
      "metadata": {
        "id": "urwffU043RmL",
        "colab": {
          "base_uri": "https://localhost:8080/",
          "height": 0
        },
        "outputId": "97841725-7928-4936-db3a-9ef5e405f95e"
      },
      "outputs": [
        {
          "output_type": "stream",
          "name": "stderr",
          "text": [
            "/usr/local/lib/python3.7/dist-packages/statsmodels/tools/_testing.py:19: FutureWarning: pandas.util.testing is deprecated. Use the functions in the public API at pandas.testing instead.\n",
            "  import pandas.util.testing as tm\n"
          ]
        }
      ],
      "source": [
        "import pandas as pd\n",
        "import matplotlib.pyplot as plt\n",
        "import seaborn as sns\n",
        "import numpy as np\n",
        "import warnings\n",
        "import statsmodels.api as sm\n",
        "import statsmodels.formula.api as smf\n",
        "import sklearn\n",
        "\n",
        "from sklearn import preprocessing\n",
        "from sklearn.preprocessing import StandardScaler\n",
        "from sklearn.datasets import make_classification\n",
        "from sklearn.model_selection import train_test_split, cross_val_predict\n",
        "from sklearn.pipeline import Pipeline\n",
        "from sklearn.compose import ColumnTransformer\n",
        "from sklearn.impute import SimpleImputer\n",
        "from sklearn.preprocessing import OneHotEncoder\n",
        "from math import remainder\n",
        "from sklearn import svm, datasets\n",
        "from sklearn.model_selection import GridSearchCV\n",
        "from sklearn.linear_model import LogisticRegression\n",
        "from sklearn.model_selection import KFold, cross_val_score\n",
        "from sklearn.linear_model import LinearRegression\n",
        "from sklearn.preprocessing import LabelEncoder\n",
        "from sklearn.datasets import load_breast_cancer\n",
        "from sklearn.neighbors import KNeighborsClassifier as KNN\n",
        "from sklearn.metrics import classification_report\n",
        "from sklearn import metrics\n",
        "from sklearn.metrics import precision_score,recall_score, confusion_matrix, classification_report,accuracy_score, f1_score\n",
        "from sklearn.ensemble import RandomForestClassifier"
      ]
    },
    {
      "cell_type": "markdown",
      "metadata": {
        "id": "M-fHiLYZ3RmO"
      },
      "source": [
        "## 2. Data Exploration (15 pts.)"
      ]
    },
    {
      "cell_type": "markdown",
      "source": [
        "**Import dataset Sharen_Odd**"
      ],
      "metadata": {
        "id": "PYTBACkKMQwk"
      }
    },
    {
      "cell_type": "code",
      "execution_count": 2,
      "metadata": {
        "colab": {
          "base_uri": "https://localhost:8080/",
          "height": 887
        },
        "id": "TG4_Cyxn3RmP",
        "outputId": "d28fa5ad-0886-40c3-be5e-5bf8f28aa1a1"
      },
      "outputs": [
        {
          "output_type": "stream",
          "name": "stdout",
          "text": [
            "Drive already mounted at /content/gdrive; to attempt to forcibly remount, call drive.mount(\"/content/gdrive\", force_remount=True).\n"
          ]
        },
        {
          "output_type": "execute_result",
          "data": {
            "text/plain": [
              "         Unnamed: 0        ID Case Number                    Date  \\\n",
              "0           1024161  11254362    JB183495  03/12/2018 07:32:00 PM   \n",
              "1            428801  10540177    HZ285387  05/29/2016 11:28:00 PM   \n",
              "2           1099812  11624449    JC187320  03/16/2019 02:10:00 AM   \n",
              "3            595228  11109388    JA459177  10/05/2017 11:00:00 AM   \n",
              "4           1033611  11241624    JB166623  02/26/2018 07:51:00 PM   \n",
              "...             ...       ...         ...                     ...   \n",
              "1031739      540482  11182652    JA556030  12/19/2017 08:10:00 PM   \n",
              "1031740      750276  10880463    JA189513  03/16/2017 01:00:00 PM   \n",
              "1031741      122985  10157277    HY346558  07/18/2015 09:30:00 PM   \n",
              "1031742      929773  11383727    JB354262  07/17/2018 10:56:00 PM   \n",
              "1031743      337187  10689428    HZ443522  09/21/2016 01:10:00 PM   \n",
              "\n",
              "                             Block  IUCR       Primary Type  \\\n",
              "0              017XX W CHICAGO AVE  0560            ASSAULT   \n",
              "1                 027XX S STATE ST  0454            BATTERY   \n",
              "2            101XX S PRINCETON AVE  031A            ROBBERY   \n",
              "3                019XX W OGDEN AVE  0810              THEFT   \n",
              "4        067XX S COTTAGE GROVE AVE  1330  CRIMINAL TRESPASS   \n",
              "...                            ...   ...                ...   \n",
              "1031739         076XX S DREXEL AVE  0486            BATTERY   \n",
              "1031740         028XX N MOBILE AVE  0486            BATTERY   \n",
              "1031741           072XX S LOWE AVE  0620           BURGLARY   \n",
              "1031742          063XX S PEORIA DR  2021          NARCOTICS   \n",
              "1031743           029XX N BROADWAY  1330  CRIMINAL TRESPASS   \n",
              "\n",
              "                        Description       Location Description  Arrest  ...  \\\n",
              "0                            SIMPLE                 RESTAURANT   False  ...   \n",
              "1        AGG PO HANDS NO/MIN INJURY              CHA APARTMENT    True  ...   \n",
              "2                    ARMED: HANDGUN                     STREET   False  ...   \n",
              "3                         OVER $500  HOSPITAL BUILDING/GROUNDS   False  ...   \n",
              "4                           TO LAND                GAS STATION    True  ...   \n",
              "...                             ...                        ...     ...  ...   \n",
              "1031739     DOMESTIC BATTERY SIMPLE                  APARTMENT   False  ...   \n",
              "1031740     DOMESTIC BATTERY SIMPLE                  RESIDENCE   False  ...   \n",
              "1031741              UNLAWFUL ENTRY                  APARTMENT   False  ...   \n",
              "1031742           POSS: BARBITUATES                     STREET    True  ...   \n",
              "1031743                     TO LAND         SMALL RETAIL STORE   False  ...   \n",
              "\n",
              "         Ward  Community Area  FBI Code  X Coordinate  Y Coordinate  Year  \\\n",
              "0         1.0            24.0       08A     1164432.0     1905388.0  2018   \n",
              "1         3.0            35.0       08B     1176730.0     1886544.0  2016   \n",
              "2         9.0            49.0        03     1176072.0     1837879.0  2019   \n",
              "3         2.0            28.0        06     1163312.0     1897077.0  2017   \n",
              "4        20.0            42.0        26     1182717.0     1860597.0  2018   \n",
              "...       ...             ...       ...           ...           ...   ...   \n",
              "1031739   8.0            69.0       08B     1183553.0     1854644.0  2017   \n",
              "1031740  29.0            19.0       08B     1133917.0     1918303.0  2017   \n",
              "1031741  17.0            68.0        05     1173398.0     1856921.0  2015   \n",
              "1031742  16.0            68.0        18     1171390.0     1862990.0  2018   \n",
              "1031743  44.0             6.0        26     1171744.0     1919789.0  2016   \n",
              "\n",
              "                     Updated On   Latitude  Longitude  \\\n",
              "0        05/04/2018 03:51:04 PM  41.896002 -87.671521   \n",
              "1        02/10/2018 03:50:01 PM  41.844024 -87.626923   \n",
              "2        03/23/2019 04:03:16 PM  41.710497 -87.630797   \n",
              "3        02/10/2018 03:50:01 PM  41.873220 -87.675869   \n",
              "4        05/04/2018 03:51:04 PM  41.772686 -87.605758   \n",
              "...                         ...        ...        ...   \n",
              "1031739  05/04/2018 03:51:04 PM  41.756331 -87.602879   \n",
              "1031740  02/10/2018 03:50:01 PM  41.932034 -87.783294   \n",
              "1031741  02/10/2018 03:50:01 PM  41.762810 -87.640028   \n",
              "1031742  07/24/2018 04:15:32 PM  41.779508 -87.647210   \n",
              "1031743  02/10/2018 03:50:01 PM  41.935361 -87.644241   \n",
              "\n",
              "                              Location  \n",
              "0        (41.896002063, -87.671521286)  \n",
              "1        (41.844023772, -87.626923253)  \n",
              "2        (41.710496583, -87.630796959)  \n",
              "3        (41.873219626, -87.675868666)  \n",
              "4         (41.77268594, -87.605758495)  \n",
              "...                                ...  \n",
              "1031739  (41.756330877, -87.602879293)  \n",
              "1031740  (41.932033636, -87.783293785)  \n",
              "1031741  (41.762809823, -87.640027854)  \n",
              "1031742  (41.779508069, -87.647210037)  \n",
              "1031743  (41.935361214, -87.644241031)  \n",
              "\n",
              "[1031744 rows x 23 columns]"
            ],
            "text/html": [
              "\n",
              "  <div id=\"df-b07992d6-5c3a-4a27-8401-4cf904cea67a\">\n",
              "    <div class=\"colab-df-container\">\n",
              "      <div>\n",
              "<style scoped>\n",
              "    .dataframe tbody tr th:only-of-type {\n",
              "        vertical-align: middle;\n",
              "    }\n",
              "\n",
              "    .dataframe tbody tr th {\n",
              "        vertical-align: top;\n",
              "    }\n",
              "\n",
              "    .dataframe thead th {\n",
              "        text-align: right;\n",
              "    }\n",
              "</style>\n",
              "<table border=\"1\" class=\"dataframe\">\n",
              "  <thead>\n",
              "    <tr style=\"text-align: right;\">\n",
              "      <th></th>\n",
              "      <th>Unnamed: 0</th>\n",
              "      <th>ID</th>\n",
              "      <th>Case Number</th>\n",
              "      <th>Date</th>\n",
              "      <th>Block</th>\n",
              "      <th>IUCR</th>\n",
              "      <th>Primary Type</th>\n",
              "      <th>Description</th>\n",
              "      <th>Location Description</th>\n",
              "      <th>Arrest</th>\n",
              "      <th>...</th>\n",
              "      <th>Ward</th>\n",
              "      <th>Community Area</th>\n",
              "      <th>FBI Code</th>\n",
              "      <th>X Coordinate</th>\n",
              "      <th>Y Coordinate</th>\n",
              "      <th>Year</th>\n",
              "      <th>Updated On</th>\n",
              "      <th>Latitude</th>\n",
              "      <th>Longitude</th>\n",
              "      <th>Location</th>\n",
              "    </tr>\n",
              "  </thead>\n",
              "  <tbody>\n",
              "    <tr>\n",
              "      <th>0</th>\n",
              "      <td>1024161</td>\n",
              "      <td>11254362</td>\n",
              "      <td>JB183495</td>\n",
              "      <td>03/12/2018 07:32:00 PM</td>\n",
              "      <td>017XX W CHICAGO AVE</td>\n",
              "      <td>0560</td>\n",
              "      <td>ASSAULT</td>\n",
              "      <td>SIMPLE</td>\n",
              "      <td>RESTAURANT</td>\n",
              "      <td>False</td>\n",
              "      <td>...</td>\n",
              "      <td>1.0</td>\n",
              "      <td>24.0</td>\n",
              "      <td>08A</td>\n",
              "      <td>1164432.0</td>\n",
              "      <td>1905388.0</td>\n",
              "      <td>2018</td>\n",
              "      <td>05/04/2018 03:51:04 PM</td>\n",
              "      <td>41.896002</td>\n",
              "      <td>-87.671521</td>\n",
              "      <td>(41.896002063, -87.671521286)</td>\n",
              "    </tr>\n",
              "    <tr>\n",
              "      <th>1</th>\n",
              "      <td>428801</td>\n",
              "      <td>10540177</td>\n",
              "      <td>HZ285387</td>\n",
              "      <td>05/29/2016 11:28:00 PM</td>\n",
              "      <td>027XX S STATE ST</td>\n",
              "      <td>0454</td>\n",
              "      <td>BATTERY</td>\n",
              "      <td>AGG PO HANDS NO/MIN INJURY</td>\n",
              "      <td>CHA APARTMENT</td>\n",
              "      <td>True</td>\n",
              "      <td>...</td>\n",
              "      <td>3.0</td>\n",
              "      <td>35.0</td>\n",
              "      <td>08B</td>\n",
              "      <td>1176730.0</td>\n",
              "      <td>1886544.0</td>\n",
              "      <td>2016</td>\n",
              "      <td>02/10/2018 03:50:01 PM</td>\n",
              "      <td>41.844024</td>\n",
              "      <td>-87.626923</td>\n",
              "      <td>(41.844023772, -87.626923253)</td>\n",
              "    </tr>\n",
              "    <tr>\n",
              "      <th>2</th>\n",
              "      <td>1099812</td>\n",
              "      <td>11624449</td>\n",
              "      <td>JC187320</td>\n",
              "      <td>03/16/2019 02:10:00 AM</td>\n",
              "      <td>101XX S PRINCETON AVE</td>\n",
              "      <td>031A</td>\n",
              "      <td>ROBBERY</td>\n",
              "      <td>ARMED: HANDGUN</td>\n",
              "      <td>STREET</td>\n",
              "      <td>False</td>\n",
              "      <td>...</td>\n",
              "      <td>9.0</td>\n",
              "      <td>49.0</td>\n",
              "      <td>03</td>\n",
              "      <td>1176072.0</td>\n",
              "      <td>1837879.0</td>\n",
              "      <td>2019</td>\n",
              "      <td>03/23/2019 04:03:16 PM</td>\n",
              "      <td>41.710497</td>\n",
              "      <td>-87.630797</td>\n",
              "      <td>(41.710496583, -87.630796959)</td>\n",
              "    </tr>\n",
              "    <tr>\n",
              "      <th>3</th>\n",
              "      <td>595228</td>\n",
              "      <td>11109388</td>\n",
              "      <td>JA459177</td>\n",
              "      <td>10/05/2017 11:00:00 AM</td>\n",
              "      <td>019XX W OGDEN AVE</td>\n",
              "      <td>0810</td>\n",
              "      <td>THEFT</td>\n",
              "      <td>OVER $500</td>\n",
              "      <td>HOSPITAL BUILDING/GROUNDS</td>\n",
              "      <td>False</td>\n",
              "      <td>...</td>\n",
              "      <td>2.0</td>\n",
              "      <td>28.0</td>\n",
              "      <td>06</td>\n",
              "      <td>1163312.0</td>\n",
              "      <td>1897077.0</td>\n",
              "      <td>2017</td>\n",
              "      <td>02/10/2018 03:50:01 PM</td>\n",
              "      <td>41.873220</td>\n",
              "      <td>-87.675869</td>\n",
              "      <td>(41.873219626, -87.675868666)</td>\n",
              "    </tr>\n",
              "    <tr>\n",
              "      <th>4</th>\n",
              "      <td>1033611</td>\n",
              "      <td>11241624</td>\n",
              "      <td>JB166623</td>\n",
              "      <td>02/26/2018 07:51:00 PM</td>\n",
              "      <td>067XX S COTTAGE GROVE AVE</td>\n",
              "      <td>1330</td>\n",
              "      <td>CRIMINAL TRESPASS</td>\n",
              "      <td>TO LAND</td>\n",
              "      <td>GAS STATION</td>\n",
              "      <td>True</td>\n",
              "      <td>...</td>\n",
              "      <td>20.0</td>\n",
              "      <td>42.0</td>\n",
              "      <td>26</td>\n",
              "      <td>1182717.0</td>\n",
              "      <td>1860597.0</td>\n",
              "      <td>2018</td>\n",
              "      <td>05/04/2018 03:51:04 PM</td>\n",
              "      <td>41.772686</td>\n",
              "      <td>-87.605758</td>\n",
              "      <td>(41.77268594, -87.605758495)</td>\n",
              "    </tr>\n",
              "    <tr>\n",
              "      <th>...</th>\n",
              "      <td>...</td>\n",
              "      <td>...</td>\n",
              "      <td>...</td>\n",
              "      <td>...</td>\n",
              "      <td>...</td>\n",
              "      <td>...</td>\n",
              "      <td>...</td>\n",
              "      <td>...</td>\n",
              "      <td>...</td>\n",
              "      <td>...</td>\n",
              "      <td>...</td>\n",
              "      <td>...</td>\n",
              "      <td>...</td>\n",
              "      <td>...</td>\n",
              "      <td>...</td>\n",
              "      <td>...</td>\n",
              "      <td>...</td>\n",
              "      <td>...</td>\n",
              "      <td>...</td>\n",
              "      <td>...</td>\n",
              "      <td>...</td>\n",
              "    </tr>\n",
              "    <tr>\n",
              "      <th>1031739</th>\n",
              "      <td>540482</td>\n",
              "      <td>11182652</td>\n",
              "      <td>JA556030</td>\n",
              "      <td>12/19/2017 08:10:00 PM</td>\n",
              "      <td>076XX S DREXEL AVE</td>\n",
              "      <td>0486</td>\n",
              "      <td>BATTERY</td>\n",
              "      <td>DOMESTIC BATTERY SIMPLE</td>\n",
              "      <td>APARTMENT</td>\n",
              "      <td>False</td>\n",
              "      <td>...</td>\n",
              "      <td>8.0</td>\n",
              "      <td>69.0</td>\n",
              "      <td>08B</td>\n",
              "      <td>1183553.0</td>\n",
              "      <td>1854644.0</td>\n",
              "      <td>2017</td>\n",
              "      <td>05/04/2018 03:51:04 PM</td>\n",
              "      <td>41.756331</td>\n",
              "      <td>-87.602879</td>\n",
              "      <td>(41.756330877, -87.602879293)</td>\n",
              "    </tr>\n",
              "    <tr>\n",
              "      <th>1031740</th>\n",
              "      <td>750276</td>\n",
              "      <td>10880463</td>\n",
              "      <td>JA189513</td>\n",
              "      <td>03/16/2017 01:00:00 PM</td>\n",
              "      <td>028XX N MOBILE AVE</td>\n",
              "      <td>0486</td>\n",
              "      <td>BATTERY</td>\n",
              "      <td>DOMESTIC BATTERY SIMPLE</td>\n",
              "      <td>RESIDENCE</td>\n",
              "      <td>False</td>\n",
              "      <td>...</td>\n",
              "      <td>29.0</td>\n",
              "      <td>19.0</td>\n",
              "      <td>08B</td>\n",
              "      <td>1133917.0</td>\n",
              "      <td>1918303.0</td>\n",
              "      <td>2017</td>\n",
              "      <td>02/10/2018 03:50:01 PM</td>\n",
              "      <td>41.932034</td>\n",
              "      <td>-87.783294</td>\n",
              "      <td>(41.932033636, -87.783293785)</td>\n",
              "    </tr>\n",
              "    <tr>\n",
              "      <th>1031741</th>\n",
              "      <td>122985</td>\n",
              "      <td>10157277</td>\n",
              "      <td>HY346558</td>\n",
              "      <td>07/18/2015 09:30:00 PM</td>\n",
              "      <td>072XX S LOWE AVE</td>\n",
              "      <td>0620</td>\n",
              "      <td>BURGLARY</td>\n",
              "      <td>UNLAWFUL ENTRY</td>\n",
              "      <td>APARTMENT</td>\n",
              "      <td>False</td>\n",
              "      <td>...</td>\n",
              "      <td>17.0</td>\n",
              "      <td>68.0</td>\n",
              "      <td>05</td>\n",
              "      <td>1173398.0</td>\n",
              "      <td>1856921.0</td>\n",
              "      <td>2015</td>\n",
              "      <td>02/10/2018 03:50:01 PM</td>\n",
              "      <td>41.762810</td>\n",
              "      <td>-87.640028</td>\n",
              "      <td>(41.762809823, -87.640027854)</td>\n",
              "    </tr>\n",
              "    <tr>\n",
              "      <th>1031742</th>\n",
              "      <td>929773</td>\n",
              "      <td>11383727</td>\n",
              "      <td>JB354262</td>\n",
              "      <td>07/17/2018 10:56:00 PM</td>\n",
              "      <td>063XX S PEORIA DR</td>\n",
              "      <td>2021</td>\n",
              "      <td>NARCOTICS</td>\n",
              "      <td>POSS: BARBITUATES</td>\n",
              "      <td>STREET</td>\n",
              "      <td>True</td>\n",
              "      <td>...</td>\n",
              "      <td>16.0</td>\n",
              "      <td>68.0</td>\n",
              "      <td>18</td>\n",
              "      <td>1171390.0</td>\n",
              "      <td>1862990.0</td>\n",
              "      <td>2018</td>\n",
              "      <td>07/24/2018 04:15:32 PM</td>\n",
              "      <td>41.779508</td>\n",
              "      <td>-87.647210</td>\n",
              "      <td>(41.779508069, -87.647210037)</td>\n",
              "    </tr>\n",
              "    <tr>\n",
              "      <th>1031743</th>\n",
              "      <td>337187</td>\n",
              "      <td>10689428</td>\n",
              "      <td>HZ443522</td>\n",
              "      <td>09/21/2016 01:10:00 PM</td>\n",
              "      <td>029XX N BROADWAY</td>\n",
              "      <td>1330</td>\n",
              "      <td>CRIMINAL TRESPASS</td>\n",
              "      <td>TO LAND</td>\n",
              "      <td>SMALL RETAIL STORE</td>\n",
              "      <td>False</td>\n",
              "      <td>...</td>\n",
              "      <td>44.0</td>\n",
              "      <td>6.0</td>\n",
              "      <td>26</td>\n",
              "      <td>1171744.0</td>\n",
              "      <td>1919789.0</td>\n",
              "      <td>2016</td>\n",
              "      <td>02/10/2018 03:50:01 PM</td>\n",
              "      <td>41.935361</td>\n",
              "      <td>-87.644241</td>\n",
              "      <td>(41.935361214, -87.644241031)</td>\n",
              "    </tr>\n",
              "  </tbody>\n",
              "</table>\n",
              "<p>1031744 rows × 23 columns</p>\n",
              "</div>\n",
              "      <button class=\"colab-df-convert\" onclick=\"convertToInteractive('df-b07992d6-5c3a-4a27-8401-4cf904cea67a')\"\n",
              "              title=\"Convert this dataframe to an interactive table.\"\n",
              "              style=\"display:none;\">\n",
              "        \n",
              "  <svg xmlns=\"http://www.w3.org/2000/svg\" height=\"24px\"viewBox=\"0 0 24 24\"\n",
              "       width=\"24px\">\n",
              "    <path d=\"M0 0h24v24H0V0z\" fill=\"none\"/>\n",
              "    <path d=\"M18.56 5.44l.94 2.06.94-2.06 2.06-.94-2.06-.94-.94-2.06-.94 2.06-2.06.94zm-11 1L8.5 8.5l.94-2.06 2.06-.94-2.06-.94L8.5 2.5l-.94 2.06-2.06.94zm10 10l.94 2.06.94-2.06 2.06-.94-2.06-.94-.94-2.06-.94 2.06-2.06.94z\"/><path d=\"M17.41 7.96l-1.37-1.37c-.4-.4-.92-.59-1.43-.59-.52 0-1.04.2-1.43.59L10.3 9.45l-7.72 7.72c-.78.78-.78 2.05 0 2.83L4 21.41c.39.39.9.59 1.41.59.51 0 1.02-.2 1.41-.59l7.78-7.78 2.81-2.81c.8-.78.8-2.07 0-2.86zM5.41 20L4 18.59l7.72-7.72 1.47 1.35L5.41 20z\"/>\n",
              "  </svg>\n",
              "      </button>\n",
              "      \n",
              "  <style>\n",
              "    .colab-df-container {\n",
              "      display:flex;\n",
              "      flex-wrap:wrap;\n",
              "      gap: 12px;\n",
              "    }\n",
              "\n",
              "    .colab-df-convert {\n",
              "      background-color: #E8F0FE;\n",
              "      border: none;\n",
              "      border-radius: 50%;\n",
              "      cursor: pointer;\n",
              "      display: none;\n",
              "      fill: #1967D2;\n",
              "      height: 32px;\n",
              "      padding: 0 0 0 0;\n",
              "      width: 32px;\n",
              "    }\n",
              "\n",
              "    .colab-df-convert:hover {\n",
              "      background-color: #E2EBFA;\n",
              "      box-shadow: 0px 1px 2px rgba(60, 64, 67, 0.3), 0px 1px 3px 1px rgba(60, 64, 67, 0.15);\n",
              "      fill: #174EA6;\n",
              "    }\n",
              "\n",
              "    [theme=dark] .colab-df-convert {\n",
              "      background-color: #3B4455;\n",
              "      fill: #D2E3FC;\n",
              "    }\n",
              "\n",
              "    [theme=dark] .colab-df-convert:hover {\n",
              "      background-color: #434B5C;\n",
              "      box-shadow: 0px 1px 3px 1px rgba(0, 0, 0, 0.15);\n",
              "      filter: drop-shadow(0px 1px 2px rgba(0, 0, 0, 0.3));\n",
              "      fill: #FFFFFF;\n",
              "    }\n",
              "  </style>\n",
              "\n",
              "      <script>\n",
              "        const buttonEl =\n",
              "          document.querySelector('#df-b07992d6-5c3a-4a27-8401-4cf904cea67a button.colab-df-convert');\n",
              "        buttonEl.style.display =\n",
              "          google.colab.kernel.accessAllowed ? 'block' : 'none';\n",
              "\n",
              "        async function convertToInteractive(key) {\n",
              "          const element = document.querySelector('#df-b07992d6-5c3a-4a27-8401-4cf904cea67a');\n",
              "          const dataTable =\n",
              "            await google.colab.kernel.invokeFunction('convertToInteractive',\n",
              "                                                     [key], {});\n",
              "          if (!dataTable) return;\n",
              "\n",
              "          const docLinkHtml = 'Like what you see? Visit the ' +\n",
              "            '<a target=\"_blank\" href=https://colab.research.google.com/notebooks/data_table.ipynb>data table notebook</a>'\n",
              "            + ' to learn more about interactive tables.';\n",
              "          element.innerHTML = '';\n",
              "          dataTable['output_type'] = 'display_data';\n",
              "          await google.colab.output.renderOutput(dataTable, element);\n",
              "          const docLink = document.createElement('div');\n",
              "          docLink.innerHTML = docLinkHtml;\n",
              "          element.appendChild(docLink);\n",
              "        }\n",
              "      </script>\n",
              "    </div>\n",
              "  </div>\n",
              "  "
            ]
          },
          "metadata": {},
          "execution_count": 2
        }
      ],
      "source": [
        "from google.colab import drive\n",
        "drive.mount(\"/content/gdrive\")\n",
        "Sharen_Odd = pd.read_csv('/content/gdrive/My Drive/Dataset UAS ML/OddID.csv')\n",
        "Sharen_Odd"
      ]
    },
    {
      "cell_type": "markdown",
      "source": [
        "**menampilkan 10 data teratas dari dataset Sharen_Odd**"
      ],
      "metadata": {
        "id": "iKwoKNuHL4B2"
      }
    },
    {
      "cell_type": "code",
      "source": [
        "Sharen_Odd.head(10)"
      ],
      "metadata": {
        "colab": {
          "base_uri": "https://localhost:8080/",
          "height": 855
        },
        "id": "KLPFCoooL2Ld",
        "outputId": "2ffd7b2a-2178-4322-9b66-0a48d42bb449"
      },
      "execution_count": 3,
      "outputs": [
        {
          "output_type": "execute_result",
          "data": {
            "text/plain": [
              "   Unnamed: 0        ID Case Number                    Date  \\\n",
              "0     1024161  11254362    JB183495  03/12/2018 07:32:00 PM   \n",
              "1      428801  10540177    HZ285387  05/29/2016 11:28:00 PM   \n",
              "2     1099812  11624449    JC187320  03/16/2019 02:10:00 AM   \n",
              "3      595228  11109388    JA459177  10/05/2017 11:00:00 AM   \n",
              "4     1033611  11241624    JB166623  02/26/2018 07:51:00 PM   \n",
              "5      954838  11349522    JB309088  06/16/2018 07:00:00 AM   \n",
              "6      319779  10716523    HZ474727  10/14/2016 02:00:00 PM   \n",
              "7      886493  11441117    JB428604  09/09/2018 02:10:00 PM   \n",
              "8      918820  11398123    JB372965  07/31/2018 01:00:00 PM   \n",
              "9       17633  10335273    HY526308  12/05/2015 08:10:00 PM   \n",
              "\n",
              "                       Block  IUCR       Primary Type  \\\n",
              "0        017XX W CHICAGO AVE  0560            ASSAULT   \n",
              "1           027XX S STATE ST  0454            BATTERY   \n",
              "2      101XX S PRINCETON AVE  031A            ROBBERY   \n",
              "3          019XX W OGDEN AVE  0810              THEFT   \n",
              "4  067XX S COTTAGE GROVE AVE  1330  CRIMINAL TRESPASS   \n",
              "5          063XX N WAYNE AVE  0810              THEFT   \n",
              "6            042XX W 31ST ST  0820              THEFT   \n",
              "7           0000X S STATE ST  0860              THEFT   \n",
              "8          006XX E GRAND AVE  0484            BATTERY   \n",
              "9          027XX N MOODY AVE  0486            BATTERY   \n",
              "\n",
              "                   Description            Location Description  Arrest  ...  \\\n",
              "0                       SIMPLE                      RESTAURANT   False  ...   \n",
              "1   AGG PO HANDS NO/MIN INJURY                   CHA APARTMENT    True  ...   \n",
              "2               ARMED: HANDGUN                          STREET   False  ...   \n",
              "3                    OVER $500       HOSPITAL BUILDING/GROUNDS   False  ...   \n",
              "4                      TO LAND                     GAS STATION    True  ...   \n",
              "5                    OVER $500          VEHICLE NON-COMMERCIAL   False  ...   \n",
              "6               $500 AND UNDER  PARKING LOT/GARAGE(NON.RESID.)   False  ...   \n",
              "7                 RETAIL THEFT                DEPARTMENT STORE   False  ...   \n",
              "8  PRO EMP HANDS NO/MIN INJURY                        SIDEWALK    True  ...   \n",
              "9      DOMESTIC BATTERY SIMPLE                       RESIDENCE   False  ...   \n",
              "\n",
              "   Ward  Community Area  FBI Code  X Coordinate  Y Coordinate  Year  \\\n",
              "0   1.0            24.0       08A     1164432.0     1905388.0  2018   \n",
              "1   3.0            35.0       08B     1176730.0     1886544.0  2016   \n",
              "2   9.0            49.0        03     1176072.0     1837879.0  2019   \n",
              "3   2.0            28.0        06     1163312.0     1897077.0  2017   \n",
              "4  20.0            42.0        26     1182717.0     1860597.0  2018   \n",
              "5  40.0            77.0        06     1166144.0     1942240.0  2018   \n",
              "6  22.0            30.0        06     1148402.0     1883698.0  2016   \n",
              "7  42.0            32.0        06     1176390.0     1900234.0  2018   \n",
              "8  42.0             8.0       08B     1180796.0     1904058.0  2018   \n",
              "9  29.0            19.0       08B     1134936.0     1917512.0  2015   \n",
              "\n",
              "               Updated On   Latitude  Longitude                       Location  \n",
              "0  05/04/2018 03:51:04 PM  41.896002 -87.671521  (41.896002063, -87.671521286)  \n",
              "1  02/10/2018 03:50:01 PM  41.844024 -87.626923  (41.844023772, -87.626923253)  \n",
              "2  03/23/2019 04:03:16 PM  41.710497 -87.630797  (41.710496583, -87.630796959)  \n",
              "3  02/10/2018 03:50:01 PM  41.873220 -87.675869  (41.873219626, -87.675868666)  \n",
              "4  05/04/2018 03:51:04 PM  41.772686 -87.605758   (41.77268594, -87.605758495)  \n",
              "5  06/23/2018 03:54:12 PM  41.997089 -87.664177  (41.997089263, -87.664176814)  \n",
              "6  02/10/2018 03:50:01 PM  41.836806 -87.730955   (41.836806313, -87.73095549)  \n",
              "7  09/16/2018 04:05:04 PM  41.881598 -87.627758  (41.881597699, -87.627758082)  \n",
              "8  08/07/2018 04:02:59 PM  41.891990 -87.611462  (41.891990384, -87.611461502)  \n",
              "9  02/10/2018 03:50:01 PM  41.929845 -87.779568  (41.929845042, -87.779567812)  \n",
              "\n",
              "[10 rows x 23 columns]"
            ],
            "text/html": [
              "\n",
              "  <div id=\"df-28ab851c-fbd4-4d71-bd4d-0250b80c9fb3\">\n",
              "    <div class=\"colab-df-container\">\n",
              "      <div>\n",
              "<style scoped>\n",
              "    .dataframe tbody tr th:only-of-type {\n",
              "        vertical-align: middle;\n",
              "    }\n",
              "\n",
              "    .dataframe tbody tr th {\n",
              "        vertical-align: top;\n",
              "    }\n",
              "\n",
              "    .dataframe thead th {\n",
              "        text-align: right;\n",
              "    }\n",
              "</style>\n",
              "<table border=\"1\" class=\"dataframe\">\n",
              "  <thead>\n",
              "    <tr style=\"text-align: right;\">\n",
              "      <th></th>\n",
              "      <th>Unnamed: 0</th>\n",
              "      <th>ID</th>\n",
              "      <th>Case Number</th>\n",
              "      <th>Date</th>\n",
              "      <th>Block</th>\n",
              "      <th>IUCR</th>\n",
              "      <th>Primary Type</th>\n",
              "      <th>Description</th>\n",
              "      <th>Location Description</th>\n",
              "      <th>Arrest</th>\n",
              "      <th>...</th>\n",
              "      <th>Ward</th>\n",
              "      <th>Community Area</th>\n",
              "      <th>FBI Code</th>\n",
              "      <th>X Coordinate</th>\n",
              "      <th>Y Coordinate</th>\n",
              "      <th>Year</th>\n",
              "      <th>Updated On</th>\n",
              "      <th>Latitude</th>\n",
              "      <th>Longitude</th>\n",
              "      <th>Location</th>\n",
              "    </tr>\n",
              "  </thead>\n",
              "  <tbody>\n",
              "    <tr>\n",
              "      <th>0</th>\n",
              "      <td>1024161</td>\n",
              "      <td>11254362</td>\n",
              "      <td>JB183495</td>\n",
              "      <td>03/12/2018 07:32:00 PM</td>\n",
              "      <td>017XX W CHICAGO AVE</td>\n",
              "      <td>0560</td>\n",
              "      <td>ASSAULT</td>\n",
              "      <td>SIMPLE</td>\n",
              "      <td>RESTAURANT</td>\n",
              "      <td>False</td>\n",
              "      <td>...</td>\n",
              "      <td>1.0</td>\n",
              "      <td>24.0</td>\n",
              "      <td>08A</td>\n",
              "      <td>1164432.0</td>\n",
              "      <td>1905388.0</td>\n",
              "      <td>2018</td>\n",
              "      <td>05/04/2018 03:51:04 PM</td>\n",
              "      <td>41.896002</td>\n",
              "      <td>-87.671521</td>\n",
              "      <td>(41.896002063, -87.671521286)</td>\n",
              "    </tr>\n",
              "    <tr>\n",
              "      <th>1</th>\n",
              "      <td>428801</td>\n",
              "      <td>10540177</td>\n",
              "      <td>HZ285387</td>\n",
              "      <td>05/29/2016 11:28:00 PM</td>\n",
              "      <td>027XX S STATE ST</td>\n",
              "      <td>0454</td>\n",
              "      <td>BATTERY</td>\n",
              "      <td>AGG PO HANDS NO/MIN INJURY</td>\n",
              "      <td>CHA APARTMENT</td>\n",
              "      <td>True</td>\n",
              "      <td>...</td>\n",
              "      <td>3.0</td>\n",
              "      <td>35.0</td>\n",
              "      <td>08B</td>\n",
              "      <td>1176730.0</td>\n",
              "      <td>1886544.0</td>\n",
              "      <td>2016</td>\n",
              "      <td>02/10/2018 03:50:01 PM</td>\n",
              "      <td>41.844024</td>\n",
              "      <td>-87.626923</td>\n",
              "      <td>(41.844023772, -87.626923253)</td>\n",
              "    </tr>\n",
              "    <tr>\n",
              "      <th>2</th>\n",
              "      <td>1099812</td>\n",
              "      <td>11624449</td>\n",
              "      <td>JC187320</td>\n",
              "      <td>03/16/2019 02:10:00 AM</td>\n",
              "      <td>101XX S PRINCETON AVE</td>\n",
              "      <td>031A</td>\n",
              "      <td>ROBBERY</td>\n",
              "      <td>ARMED: HANDGUN</td>\n",
              "      <td>STREET</td>\n",
              "      <td>False</td>\n",
              "      <td>...</td>\n",
              "      <td>9.0</td>\n",
              "      <td>49.0</td>\n",
              "      <td>03</td>\n",
              "      <td>1176072.0</td>\n",
              "      <td>1837879.0</td>\n",
              "      <td>2019</td>\n",
              "      <td>03/23/2019 04:03:16 PM</td>\n",
              "      <td>41.710497</td>\n",
              "      <td>-87.630797</td>\n",
              "      <td>(41.710496583, -87.630796959)</td>\n",
              "    </tr>\n",
              "    <tr>\n",
              "      <th>3</th>\n",
              "      <td>595228</td>\n",
              "      <td>11109388</td>\n",
              "      <td>JA459177</td>\n",
              "      <td>10/05/2017 11:00:00 AM</td>\n",
              "      <td>019XX W OGDEN AVE</td>\n",
              "      <td>0810</td>\n",
              "      <td>THEFT</td>\n",
              "      <td>OVER $500</td>\n",
              "      <td>HOSPITAL BUILDING/GROUNDS</td>\n",
              "      <td>False</td>\n",
              "      <td>...</td>\n",
              "      <td>2.0</td>\n",
              "      <td>28.0</td>\n",
              "      <td>06</td>\n",
              "      <td>1163312.0</td>\n",
              "      <td>1897077.0</td>\n",
              "      <td>2017</td>\n",
              "      <td>02/10/2018 03:50:01 PM</td>\n",
              "      <td>41.873220</td>\n",
              "      <td>-87.675869</td>\n",
              "      <td>(41.873219626, -87.675868666)</td>\n",
              "    </tr>\n",
              "    <tr>\n",
              "      <th>4</th>\n",
              "      <td>1033611</td>\n",
              "      <td>11241624</td>\n",
              "      <td>JB166623</td>\n",
              "      <td>02/26/2018 07:51:00 PM</td>\n",
              "      <td>067XX S COTTAGE GROVE AVE</td>\n",
              "      <td>1330</td>\n",
              "      <td>CRIMINAL TRESPASS</td>\n",
              "      <td>TO LAND</td>\n",
              "      <td>GAS STATION</td>\n",
              "      <td>True</td>\n",
              "      <td>...</td>\n",
              "      <td>20.0</td>\n",
              "      <td>42.0</td>\n",
              "      <td>26</td>\n",
              "      <td>1182717.0</td>\n",
              "      <td>1860597.0</td>\n",
              "      <td>2018</td>\n",
              "      <td>05/04/2018 03:51:04 PM</td>\n",
              "      <td>41.772686</td>\n",
              "      <td>-87.605758</td>\n",
              "      <td>(41.77268594, -87.605758495)</td>\n",
              "    </tr>\n",
              "    <tr>\n",
              "      <th>5</th>\n",
              "      <td>954838</td>\n",
              "      <td>11349522</td>\n",
              "      <td>JB309088</td>\n",
              "      <td>06/16/2018 07:00:00 AM</td>\n",
              "      <td>063XX N WAYNE AVE</td>\n",
              "      <td>0810</td>\n",
              "      <td>THEFT</td>\n",
              "      <td>OVER $500</td>\n",
              "      <td>VEHICLE NON-COMMERCIAL</td>\n",
              "      <td>False</td>\n",
              "      <td>...</td>\n",
              "      <td>40.0</td>\n",
              "      <td>77.0</td>\n",
              "      <td>06</td>\n",
              "      <td>1166144.0</td>\n",
              "      <td>1942240.0</td>\n",
              "      <td>2018</td>\n",
              "      <td>06/23/2018 03:54:12 PM</td>\n",
              "      <td>41.997089</td>\n",
              "      <td>-87.664177</td>\n",
              "      <td>(41.997089263, -87.664176814)</td>\n",
              "    </tr>\n",
              "    <tr>\n",
              "      <th>6</th>\n",
              "      <td>319779</td>\n",
              "      <td>10716523</td>\n",
              "      <td>HZ474727</td>\n",
              "      <td>10/14/2016 02:00:00 PM</td>\n",
              "      <td>042XX W 31ST ST</td>\n",
              "      <td>0820</td>\n",
              "      <td>THEFT</td>\n",
              "      <td>$500 AND UNDER</td>\n",
              "      <td>PARKING LOT/GARAGE(NON.RESID.)</td>\n",
              "      <td>False</td>\n",
              "      <td>...</td>\n",
              "      <td>22.0</td>\n",
              "      <td>30.0</td>\n",
              "      <td>06</td>\n",
              "      <td>1148402.0</td>\n",
              "      <td>1883698.0</td>\n",
              "      <td>2016</td>\n",
              "      <td>02/10/2018 03:50:01 PM</td>\n",
              "      <td>41.836806</td>\n",
              "      <td>-87.730955</td>\n",
              "      <td>(41.836806313, -87.73095549)</td>\n",
              "    </tr>\n",
              "    <tr>\n",
              "      <th>7</th>\n",
              "      <td>886493</td>\n",
              "      <td>11441117</td>\n",
              "      <td>JB428604</td>\n",
              "      <td>09/09/2018 02:10:00 PM</td>\n",
              "      <td>0000X S STATE ST</td>\n",
              "      <td>0860</td>\n",
              "      <td>THEFT</td>\n",
              "      <td>RETAIL THEFT</td>\n",
              "      <td>DEPARTMENT STORE</td>\n",
              "      <td>False</td>\n",
              "      <td>...</td>\n",
              "      <td>42.0</td>\n",
              "      <td>32.0</td>\n",
              "      <td>06</td>\n",
              "      <td>1176390.0</td>\n",
              "      <td>1900234.0</td>\n",
              "      <td>2018</td>\n",
              "      <td>09/16/2018 04:05:04 PM</td>\n",
              "      <td>41.881598</td>\n",
              "      <td>-87.627758</td>\n",
              "      <td>(41.881597699, -87.627758082)</td>\n",
              "    </tr>\n",
              "    <tr>\n",
              "      <th>8</th>\n",
              "      <td>918820</td>\n",
              "      <td>11398123</td>\n",
              "      <td>JB372965</td>\n",
              "      <td>07/31/2018 01:00:00 PM</td>\n",
              "      <td>006XX E GRAND AVE</td>\n",
              "      <td>0484</td>\n",
              "      <td>BATTERY</td>\n",
              "      <td>PRO EMP HANDS NO/MIN INJURY</td>\n",
              "      <td>SIDEWALK</td>\n",
              "      <td>True</td>\n",
              "      <td>...</td>\n",
              "      <td>42.0</td>\n",
              "      <td>8.0</td>\n",
              "      <td>08B</td>\n",
              "      <td>1180796.0</td>\n",
              "      <td>1904058.0</td>\n",
              "      <td>2018</td>\n",
              "      <td>08/07/2018 04:02:59 PM</td>\n",
              "      <td>41.891990</td>\n",
              "      <td>-87.611462</td>\n",
              "      <td>(41.891990384, -87.611461502)</td>\n",
              "    </tr>\n",
              "    <tr>\n",
              "      <th>9</th>\n",
              "      <td>17633</td>\n",
              "      <td>10335273</td>\n",
              "      <td>HY526308</td>\n",
              "      <td>12/05/2015 08:10:00 PM</td>\n",
              "      <td>027XX N MOODY AVE</td>\n",
              "      <td>0486</td>\n",
              "      <td>BATTERY</td>\n",
              "      <td>DOMESTIC BATTERY SIMPLE</td>\n",
              "      <td>RESIDENCE</td>\n",
              "      <td>False</td>\n",
              "      <td>...</td>\n",
              "      <td>29.0</td>\n",
              "      <td>19.0</td>\n",
              "      <td>08B</td>\n",
              "      <td>1134936.0</td>\n",
              "      <td>1917512.0</td>\n",
              "      <td>2015</td>\n",
              "      <td>02/10/2018 03:50:01 PM</td>\n",
              "      <td>41.929845</td>\n",
              "      <td>-87.779568</td>\n",
              "      <td>(41.929845042, -87.779567812)</td>\n",
              "    </tr>\n",
              "  </tbody>\n",
              "</table>\n",
              "<p>10 rows × 23 columns</p>\n",
              "</div>\n",
              "      <button class=\"colab-df-convert\" onclick=\"convertToInteractive('df-28ab851c-fbd4-4d71-bd4d-0250b80c9fb3')\"\n",
              "              title=\"Convert this dataframe to an interactive table.\"\n",
              "              style=\"display:none;\">\n",
              "        \n",
              "  <svg xmlns=\"http://www.w3.org/2000/svg\" height=\"24px\"viewBox=\"0 0 24 24\"\n",
              "       width=\"24px\">\n",
              "    <path d=\"M0 0h24v24H0V0z\" fill=\"none\"/>\n",
              "    <path d=\"M18.56 5.44l.94 2.06.94-2.06 2.06-.94-2.06-.94-.94-2.06-.94 2.06-2.06.94zm-11 1L8.5 8.5l.94-2.06 2.06-.94-2.06-.94L8.5 2.5l-.94 2.06-2.06.94zm10 10l.94 2.06.94-2.06 2.06-.94-2.06-.94-.94-2.06-.94 2.06-2.06.94z\"/><path d=\"M17.41 7.96l-1.37-1.37c-.4-.4-.92-.59-1.43-.59-.52 0-1.04.2-1.43.59L10.3 9.45l-7.72 7.72c-.78.78-.78 2.05 0 2.83L4 21.41c.39.39.9.59 1.41.59.51 0 1.02-.2 1.41-.59l7.78-7.78 2.81-2.81c.8-.78.8-2.07 0-2.86zM5.41 20L4 18.59l7.72-7.72 1.47 1.35L5.41 20z\"/>\n",
              "  </svg>\n",
              "      </button>\n",
              "      \n",
              "  <style>\n",
              "    .colab-df-container {\n",
              "      display:flex;\n",
              "      flex-wrap:wrap;\n",
              "      gap: 12px;\n",
              "    }\n",
              "\n",
              "    .colab-df-convert {\n",
              "      background-color: #E8F0FE;\n",
              "      border: none;\n",
              "      border-radius: 50%;\n",
              "      cursor: pointer;\n",
              "      display: none;\n",
              "      fill: #1967D2;\n",
              "      height: 32px;\n",
              "      padding: 0 0 0 0;\n",
              "      width: 32px;\n",
              "    }\n",
              "\n",
              "    .colab-df-convert:hover {\n",
              "      background-color: #E2EBFA;\n",
              "      box-shadow: 0px 1px 2px rgba(60, 64, 67, 0.3), 0px 1px 3px 1px rgba(60, 64, 67, 0.15);\n",
              "      fill: #174EA6;\n",
              "    }\n",
              "\n",
              "    [theme=dark] .colab-df-convert {\n",
              "      background-color: #3B4455;\n",
              "      fill: #D2E3FC;\n",
              "    }\n",
              "\n",
              "    [theme=dark] .colab-df-convert:hover {\n",
              "      background-color: #434B5C;\n",
              "      box-shadow: 0px 1px 3px 1px rgba(0, 0, 0, 0.15);\n",
              "      filter: drop-shadow(0px 1px 2px rgba(0, 0, 0, 0.3));\n",
              "      fill: #FFFFFF;\n",
              "    }\n",
              "  </style>\n",
              "\n",
              "      <script>\n",
              "        const buttonEl =\n",
              "          document.querySelector('#df-28ab851c-fbd4-4d71-bd4d-0250b80c9fb3 button.colab-df-convert');\n",
              "        buttonEl.style.display =\n",
              "          google.colab.kernel.accessAllowed ? 'block' : 'none';\n",
              "\n",
              "        async function convertToInteractive(key) {\n",
              "          const element = document.querySelector('#df-28ab851c-fbd4-4d71-bd4d-0250b80c9fb3');\n",
              "          const dataTable =\n",
              "            await google.colab.kernel.invokeFunction('convertToInteractive',\n",
              "                                                     [key], {});\n",
              "          if (!dataTable) return;\n",
              "\n",
              "          const docLinkHtml = 'Like what you see? Visit the ' +\n",
              "            '<a target=\"_blank\" href=https://colab.research.google.com/notebooks/data_table.ipynb>data table notebook</a>'\n",
              "            + ' to learn more about interactive tables.';\n",
              "          element.innerHTML = '';\n",
              "          dataTable['output_type'] = 'display_data';\n",
              "          await google.colab.output.renderOutput(dataTable, element);\n",
              "          const docLink = document.createElement('div');\n",
              "          docLink.innerHTML = docLinkHtml;\n",
              "          element.appendChild(docLink);\n",
              "        }\n",
              "      </script>\n",
              "    </div>\n",
              "  </div>\n",
              "  "
            ]
          },
          "metadata": {},
          "execution_count": 3
        }
      ]
    },
    {
      "cell_type": "markdown",
      "source": [
        "**Menampilkan 10 data terbawah dari dataset Sharen_Odd**"
      ],
      "metadata": {
        "id": "PY19RvOZD950"
      }
    },
    {
      "cell_type": "code",
      "source": [
        "Sharen_Odd.tail(10)"
      ],
      "metadata": {
        "colab": {
          "base_uri": "https://localhost:8080/",
          "height": 821
        },
        "id": "ySwGccu9EDXf",
        "outputId": "c7e16160-d495-42a1-8e09-565b55f47d37"
      },
      "execution_count": 4,
      "outputs": [
        {
          "output_type": "execute_result",
          "data": {
            "text/plain": [
              "         Unnamed: 0        ID Case Number                    Date  \\\n",
              "1031734      998679  11291299    JB231971  04/21/2018 01:12:00 AM   \n",
              "1031735       95349  10205821    HY392671  08/22/2015 09:20:00 AM   \n",
              "1031736      205306  10016465    HY205929  03/31/2015 10:00:00 PM   \n",
              "1031737      249662   9936233    HY124991  01/22/2015 06:25:00 PM   \n",
              "1031738      231171   9969662    HY159284  02/21/2015 06:15:00 PM   \n",
              "1031739      540482  11182652    JA556030  12/19/2017 08:10:00 PM   \n",
              "1031740      750276  10880463    JA189513  03/16/2017 01:00:00 PM   \n",
              "1031741      122985  10157277    HY346558  07/18/2015 09:30:00 PM   \n",
              "1031742      929773  11383727    JB354262  07/17/2018 10:56:00 PM   \n",
              "1031743      337187  10689428    HZ443522  09/21/2016 01:10:00 PM   \n",
              "\n",
              "                         Block  IUCR       Primary Type  \\\n",
              "1031734  058XX S FAIRFIELD AVE  1320    CRIMINAL DAMAGE   \n",
              "1031735        029XX W 63RD ST  0820              THEFT   \n",
              "1031736    037XX W DICKENS AVE  0820              THEFT   \n",
              "1031737      009XX W NORTH AVE  0860              THEFT   \n",
              "1031738     040XX W MADISON ST  031A            ROBBERY   \n",
              "1031739     076XX S DREXEL AVE  0486            BATTERY   \n",
              "1031740     028XX N MOBILE AVE  0486            BATTERY   \n",
              "1031741       072XX S LOWE AVE  0620           BURGLARY   \n",
              "1031742      063XX S PEORIA DR  2021          NARCOTICS   \n",
              "1031743       029XX N BROADWAY  1330  CRIMINAL TRESPASS   \n",
              "\n",
              "                     Description            Location Description  Arrest  ...  \\\n",
              "1031734               TO VEHICLE                          STREET   False  ...   \n",
              "1031735           $500 AND UNDER  PARKING LOT/GARAGE(NON.RESID.)   False  ...   \n",
              "1031736           $500 AND UNDER                          STREET   False  ...   \n",
              "1031737             RETAIL THEFT                DEPARTMENT STORE   False  ...   \n",
              "1031738           ARMED: HANDGUN                        SIDEWALK   False  ...   \n",
              "1031739  DOMESTIC BATTERY SIMPLE                       APARTMENT   False  ...   \n",
              "1031740  DOMESTIC BATTERY SIMPLE                       RESIDENCE   False  ...   \n",
              "1031741           UNLAWFUL ENTRY                       APARTMENT   False  ...   \n",
              "1031742        POSS: BARBITUATES                          STREET    True  ...   \n",
              "1031743                  TO LAND              SMALL RETAIL STORE   False  ...   \n",
              "\n",
              "         Ward  Community Area  FBI Code  X Coordinate  Y Coordinate  Year  \\\n",
              "1031734  16.0            63.0        14     1159043.0     1865731.0  2018   \n",
              "1031735  15.0            66.0        06     1157549.0     1862716.0  2015   \n",
              "1031736  26.0            22.0        06     1151096.0     1913695.0  2015   \n",
              "1031737  32.0             8.0        06     1169678.0     1910842.0  2015   \n",
              "1031738  28.0            26.0        03     1149481.0     1899707.0  2015   \n",
              "1031739   8.0            69.0       08B     1183553.0     1854644.0  2017   \n",
              "1031740  29.0            19.0       08B     1133917.0     1918303.0  2017   \n",
              "1031741  17.0            68.0        05     1173398.0     1856921.0  2015   \n",
              "1031742  16.0            68.0        18     1171390.0     1862990.0  2018   \n",
              "1031743  44.0             6.0        26     1171744.0     1919789.0  2016   \n",
              "\n",
              "                     Updated On   Latitude  Longitude  \\\n",
              "1031734  05/04/2018 03:51:04 PM  41.787291 -87.692401   \n",
              "1031735  02/10/2018 03:50:01 PM  41.779048 -87.697960   \n",
              "1031736  02/10/2018 03:50:01 PM  41.919069 -87.720284   \n",
              "1031737  02/10/2018 03:50:01 PM  41.910856 -87.652095   \n",
              "1031738  02/10/2018 03:50:01 PM  41.880716 -87.726581   \n",
              "1031739  05/04/2018 03:51:04 PM  41.756331 -87.602879   \n",
              "1031740  02/10/2018 03:50:01 PM  41.932034 -87.783294   \n",
              "1031741  02/10/2018 03:50:01 PM  41.762810 -87.640028   \n",
              "1031742  07/24/2018 04:15:32 PM  41.779508 -87.647210   \n",
              "1031743  02/10/2018 03:50:01 PM  41.935361 -87.644241   \n",
              "\n",
              "                              Location  \n",
              "1031734  (41.787291181, -87.692400898)  \n",
              "1031735   (41.77904802, -87.697960471)  \n",
              "1031736  (41.919069102, -87.720283809)  \n",
              "1031737  (41.910855509, -87.652094846)  \n",
              "1031738  (41.880716129, -87.726581034)  \n",
              "1031739  (41.756330877, -87.602879293)  \n",
              "1031740  (41.932033636, -87.783293785)  \n",
              "1031741  (41.762809823, -87.640027854)  \n",
              "1031742  (41.779508069, -87.647210037)  \n",
              "1031743  (41.935361214, -87.644241031)  \n",
              "\n",
              "[10 rows x 23 columns]"
            ],
            "text/html": [
              "\n",
              "  <div id=\"df-f5edeb3e-96c8-40c1-bdbc-4175e6e18b71\">\n",
              "    <div class=\"colab-df-container\">\n",
              "      <div>\n",
              "<style scoped>\n",
              "    .dataframe tbody tr th:only-of-type {\n",
              "        vertical-align: middle;\n",
              "    }\n",
              "\n",
              "    .dataframe tbody tr th {\n",
              "        vertical-align: top;\n",
              "    }\n",
              "\n",
              "    .dataframe thead th {\n",
              "        text-align: right;\n",
              "    }\n",
              "</style>\n",
              "<table border=\"1\" class=\"dataframe\">\n",
              "  <thead>\n",
              "    <tr style=\"text-align: right;\">\n",
              "      <th></th>\n",
              "      <th>Unnamed: 0</th>\n",
              "      <th>ID</th>\n",
              "      <th>Case Number</th>\n",
              "      <th>Date</th>\n",
              "      <th>Block</th>\n",
              "      <th>IUCR</th>\n",
              "      <th>Primary Type</th>\n",
              "      <th>Description</th>\n",
              "      <th>Location Description</th>\n",
              "      <th>Arrest</th>\n",
              "      <th>...</th>\n",
              "      <th>Ward</th>\n",
              "      <th>Community Area</th>\n",
              "      <th>FBI Code</th>\n",
              "      <th>X Coordinate</th>\n",
              "      <th>Y Coordinate</th>\n",
              "      <th>Year</th>\n",
              "      <th>Updated On</th>\n",
              "      <th>Latitude</th>\n",
              "      <th>Longitude</th>\n",
              "      <th>Location</th>\n",
              "    </tr>\n",
              "  </thead>\n",
              "  <tbody>\n",
              "    <tr>\n",
              "      <th>1031734</th>\n",
              "      <td>998679</td>\n",
              "      <td>11291299</td>\n",
              "      <td>JB231971</td>\n",
              "      <td>04/21/2018 01:12:00 AM</td>\n",
              "      <td>058XX S FAIRFIELD AVE</td>\n",
              "      <td>1320</td>\n",
              "      <td>CRIMINAL DAMAGE</td>\n",
              "      <td>TO VEHICLE</td>\n",
              "      <td>STREET</td>\n",
              "      <td>False</td>\n",
              "      <td>...</td>\n",
              "      <td>16.0</td>\n",
              "      <td>63.0</td>\n",
              "      <td>14</td>\n",
              "      <td>1159043.0</td>\n",
              "      <td>1865731.0</td>\n",
              "      <td>2018</td>\n",
              "      <td>05/04/2018 03:51:04 PM</td>\n",
              "      <td>41.787291</td>\n",
              "      <td>-87.692401</td>\n",
              "      <td>(41.787291181, -87.692400898)</td>\n",
              "    </tr>\n",
              "    <tr>\n",
              "      <th>1031735</th>\n",
              "      <td>95349</td>\n",
              "      <td>10205821</td>\n",
              "      <td>HY392671</td>\n",
              "      <td>08/22/2015 09:20:00 AM</td>\n",
              "      <td>029XX W 63RD ST</td>\n",
              "      <td>0820</td>\n",
              "      <td>THEFT</td>\n",
              "      <td>$500 AND UNDER</td>\n",
              "      <td>PARKING LOT/GARAGE(NON.RESID.)</td>\n",
              "      <td>False</td>\n",
              "      <td>...</td>\n",
              "      <td>15.0</td>\n",
              "      <td>66.0</td>\n",
              "      <td>06</td>\n",
              "      <td>1157549.0</td>\n",
              "      <td>1862716.0</td>\n",
              "      <td>2015</td>\n",
              "      <td>02/10/2018 03:50:01 PM</td>\n",
              "      <td>41.779048</td>\n",
              "      <td>-87.697960</td>\n",
              "      <td>(41.77904802, -87.697960471)</td>\n",
              "    </tr>\n",
              "    <tr>\n",
              "      <th>1031736</th>\n",
              "      <td>205306</td>\n",
              "      <td>10016465</td>\n",
              "      <td>HY205929</td>\n",
              "      <td>03/31/2015 10:00:00 PM</td>\n",
              "      <td>037XX W DICKENS AVE</td>\n",
              "      <td>0820</td>\n",
              "      <td>THEFT</td>\n",
              "      <td>$500 AND UNDER</td>\n",
              "      <td>STREET</td>\n",
              "      <td>False</td>\n",
              "      <td>...</td>\n",
              "      <td>26.0</td>\n",
              "      <td>22.0</td>\n",
              "      <td>06</td>\n",
              "      <td>1151096.0</td>\n",
              "      <td>1913695.0</td>\n",
              "      <td>2015</td>\n",
              "      <td>02/10/2018 03:50:01 PM</td>\n",
              "      <td>41.919069</td>\n",
              "      <td>-87.720284</td>\n",
              "      <td>(41.919069102, -87.720283809)</td>\n",
              "    </tr>\n",
              "    <tr>\n",
              "      <th>1031737</th>\n",
              "      <td>249662</td>\n",
              "      <td>9936233</td>\n",
              "      <td>HY124991</td>\n",
              "      <td>01/22/2015 06:25:00 PM</td>\n",
              "      <td>009XX W NORTH AVE</td>\n",
              "      <td>0860</td>\n",
              "      <td>THEFT</td>\n",
              "      <td>RETAIL THEFT</td>\n",
              "      <td>DEPARTMENT STORE</td>\n",
              "      <td>False</td>\n",
              "      <td>...</td>\n",
              "      <td>32.0</td>\n",
              "      <td>8.0</td>\n",
              "      <td>06</td>\n",
              "      <td>1169678.0</td>\n",
              "      <td>1910842.0</td>\n",
              "      <td>2015</td>\n",
              "      <td>02/10/2018 03:50:01 PM</td>\n",
              "      <td>41.910856</td>\n",
              "      <td>-87.652095</td>\n",
              "      <td>(41.910855509, -87.652094846)</td>\n",
              "    </tr>\n",
              "    <tr>\n",
              "      <th>1031738</th>\n",
              "      <td>231171</td>\n",
              "      <td>9969662</td>\n",
              "      <td>HY159284</td>\n",
              "      <td>02/21/2015 06:15:00 PM</td>\n",
              "      <td>040XX W MADISON ST</td>\n",
              "      <td>031A</td>\n",
              "      <td>ROBBERY</td>\n",
              "      <td>ARMED: HANDGUN</td>\n",
              "      <td>SIDEWALK</td>\n",
              "      <td>False</td>\n",
              "      <td>...</td>\n",
              "      <td>28.0</td>\n",
              "      <td>26.0</td>\n",
              "      <td>03</td>\n",
              "      <td>1149481.0</td>\n",
              "      <td>1899707.0</td>\n",
              "      <td>2015</td>\n",
              "      <td>02/10/2018 03:50:01 PM</td>\n",
              "      <td>41.880716</td>\n",
              "      <td>-87.726581</td>\n",
              "      <td>(41.880716129, -87.726581034)</td>\n",
              "    </tr>\n",
              "    <tr>\n",
              "      <th>1031739</th>\n",
              "      <td>540482</td>\n",
              "      <td>11182652</td>\n",
              "      <td>JA556030</td>\n",
              "      <td>12/19/2017 08:10:00 PM</td>\n",
              "      <td>076XX S DREXEL AVE</td>\n",
              "      <td>0486</td>\n",
              "      <td>BATTERY</td>\n",
              "      <td>DOMESTIC BATTERY SIMPLE</td>\n",
              "      <td>APARTMENT</td>\n",
              "      <td>False</td>\n",
              "      <td>...</td>\n",
              "      <td>8.0</td>\n",
              "      <td>69.0</td>\n",
              "      <td>08B</td>\n",
              "      <td>1183553.0</td>\n",
              "      <td>1854644.0</td>\n",
              "      <td>2017</td>\n",
              "      <td>05/04/2018 03:51:04 PM</td>\n",
              "      <td>41.756331</td>\n",
              "      <td>-87.602879</td>\n",
              "      <td>(41.756330877, -87.602879293)</td>\n",
              "    </tr>\n",
              "    <tr>\n",
              "      <th>1031740</th>\n",
              "      <td>750276</td>\n",
              "      <td>10880463</td>\n",
              "      <td>JA189513</td>\n",
              "      <td>03/16/2017 01:00:00 PM</td>\n",
              "      <td>028XX N MOBILE AVE</td>\n",
              "      <td>0486</td>\n",
              "      <td>BATTERY</td>\n",
              "      <td>DOMESTIC BATTERY SIMPLE</td>\n",
              "      <td>RESIDENCE</td>\n",
              "      <td>False</td>\n",
              "      <td>...</td>\n",
              "      <td>29.0</td>\n",
              "      <td>19.0</td>\n",
              "      <td>08B</td>\n",
              "      <td>1133917.0</td>\n",
              "      <td>1918303.0</td>\n",
              "      <td>2017</td>\n",
              "      <td>02/10/2018 03:50:01 PM</td>\n",
              "      <td>41.932034</td>\n",
              "      <td>-87.783294</td>\n",
              "      <td>(41.932033636, -87.783293785)</td>\n",
              "    </tr>\n",
              "    <tr>\n",
              "      <th>1031741</th>\n",
              "      <td>122985</td>\n",
              "      <td>10157277</td>\n",
              "      <td>HY346558</td>\n",
              "      <td>07/18/2015 09:30:00 PM</td>\n",
              "      <td>072XX S LOWE AVE</td>\n",
              "      <td>0620</td>\n",
              "      <td>BURGLARY</td>\n",
              "      <td>UNLAWFUL ENTRY</td>\n",
              "      <td>APARTMENT</td>\n",
              "      <td>False</td>\n",
              "      <td>...</td>\n",
              "      <td>17.0</td>\n",
              "      <td>68.0</td>\n",
              "      <td>05</td>\n",
              "      <td>1173398.0</td>\n",
              "      <td>1856921.0</td>\n",
              "      <td>2015</td>\n",
              "      <td>02/10/2018 03:50:01 PM</td>\n",
              "      <td>41.762810</td>\n",
              "      <td>-87.640028</td>\n",
              "      <td>(41.762809823, -87.640027854)</td>\n",
              "    </tr>\n",
              "    <tr>\n",
              "      <th>1031742</th>\n",
              "      <td>929773</td>\n",
              "      <td>11383727</td>\n",
              "      <td>JB354262</td>\n",
              "      <td>07/17/2018 10:56:00 PM</td>\n",
              "      <td>063XX S PEORIA DR</td>\n",
              "      <td>2021</td>\n",
              "      <td>NARCOTICS</td>\n",
              "      <td>POSS: BARBITUATES</td>\n",
              "      <td>STREET</td>\n",
              "      <td>True</td>\n",
              "      <td>...</td>\n",
              "      <td>16.0</td>\n",
              "      <td>68.0</td>\n",
              "      <td>18</td>\n",
              "      <td>1171390.0</td>\n",
              "      <td>1862990.0</td>\n",
              "      <td>2018</td>\n",
              "      <td>07/24/2018 04:15:32 PM</td>\n",
              "      <td>41.779508</td>\n",
              "      <td>-87.647210</td>\n",
              "      <td>(41.779508069, -87.647210037)</td>\n",
              "    </tr>\n",
              "    <tr>\n",
              "      <th>1031743</th>\n",
              "      <td>337187</td>\n",
              "      <td>10689428</td>\n",
              "      <td>HZ443522</td>\n",
              "      <td>09/21/2016 01:10:00 PM</td>\n",
              "      <td>029XX N BROADWAY</td>\n",
              "      <td>1330</td>\n",
              "      <td>CRIMINAL TRESPASS</td>\n",
              "      <td>TO LAND</td>\n",
              "      <td>SMALL RETAIL STORE</td>\n",
              "      <td>False</td>\n",
              "      <td>...</td>\n",
              "      <td>44.0</td>\n",
              "      <td>6.0</td>\n",
              "      <td>26</td>\n",
              "      <td>1171744.0</td>\n",
              "      <td>1919789.0</td>\n",
              "      <td>2016</td>\n",
              "      <td>02/10/2018 03:50:01 PM</td>\n",
              "      <td>41.935361</td>\n",
              "      <td>-87.644241</td>\n",
              "      <td>(41.935361214, -87.644241031)</td>\n",
              "    </tr>\n",
              "  </tbody>\n",
              "</table>\n",
              "<p>10 rows × 23 columns</p>\n",
              "</div>\n",
              "      <button class=\"colab-df-convert\" onclick=\"convertToInteractive('df-f5edeb3e-96c8-40c1-bdbc-4175e6e18b71')\"\n",
              "              title=\"Convert this dataframe to an interactive table.\"\n",
              "              style=\"display:none;\">\n",
              "        \n",
              "  <svg xmlns=\"http://www.w3.org/2000/svg\" height=\"24px\"viewBox=\"0 0 24 24\"\n",
              "       width=\"24px\">\n",
              "    <path d=\"M0 0h24v24H0V0z\" fill=\"none\"/>\n",
              "    <path d=\"M18.56 5.44l.94 2.06.94-2.06 2.06-.94-2.06-.94-.94-2.06-.94 2.06-2.06.94zm-11 1L8.5 8.5l.94-2.06 2.06-.94-2.06-.94L8.5 2.5l-.94 2.06-2.06.94zm10 10l.94 2.06.94-2.06 2.06-.94-2.06-.94-.94-2.06-.94 2.06-2.06.94z\"/><path d=\"M17.41 7.96l-1.37-1.37c-.4-.4-.92-.59-1.43-.59-.52 0-1.04.2-1.43.59L10.3 9.45l-7.72 7.72c-.78.78-.78 2.05 0 2.83L4 21.41c.39.39.9.59 1.41.59.51 0 1.02-.2 1.41-.59l7.78-7.78 2.81-2.81c.8-.78.8-2.07 0-2.86zM5.41 20L4 18.59l7.72-7.72 1.47 1.35L5.41 20z\"/>\n",
              "  </svg>\n",
              "      </button>\n",
              "      \n",
              "  <style>\n",
              "    .colab-df-container {\n",
              "      display:flex;\n",
              "      flex-wrap:wrap;\n",
              "      gap: 12px;\n",
              "    }\n",
              "\n",
              "    .colab-df-convert {\n",
              "      background-color: #E8F0FE;\n",
              "      border: none;\n",
              "      border-radius: 50%;\n",
              "      cursor: pointer;\n",
              "      display: none;\n",
              "      fill: #1967D2;\n",
              "      height: 32px;\n",
              "      padding: 0 0 0 0;\n",
              "      width: 32px;\n",
              "    }\n",
              "\n",
              "    .colab-df-convert:hover {\n",
              "      background-color: #E2EBFA;\n",
              "      box-shadow: 0px 1px 2px rgba(60, 64, 67, 0.3), 0px 1px 3px 1px rgba(60, 64, 67, 0.15);\n",
              "      fill: #174EA6;\n",
              "    }\n",
              "\n",
              "    [theme=dark] .colab-df-convert {\n",
              "      background-color: #3B4455;\n",
              "      fill: #D2E3FC;\n",
              "    }\n",
              "\n",
              "    [theme=dark] .colab-df-convert:hover {\n",
              "      background-color: #434B5C;\n",
              "      box-shadow: 0px 1px 3px 1px rgba(0, 0, 0, 0.15);\n",
              "      filter: drop-shadow(0px 1px 2px rgba(0, 0, 0, 0.3));\n",
              "      fill: #FFFFFF;\n",
              "    }\n",
              "  </style>\n",
              "\n",
              "      <script>\n",
              "        const buttonEl =\n",
              "          document.querySelector('#df-f5edeb3e-96c8-40c1-bdbc-4175e6e18b71 button.colab-df-convert');\n",
              "        buttonEl.style.display =\n",
              "          google.colab.kernel.accessAllowed ? 'block' : 'none';\n",
              "\n",
              "        async function convertToInteractive(key) {\n",
              "          const element = document.querySelector('#df-f5edeb3e-96c8-40c1-bdbc-4175e6e18b71');\n",
              "          const dataTable =\n",
              "            await google.colab.kernel.invokeFunction('convertToInteractive',\n",
              "                                                     [key], {});\n",
              "          if (!dataTable) return;\n",
              "\n",
              "          const docLinkHtml = 'Like what you see? Visit the ' +\n",
              "            '<a target=\"_blank\" href=https://colab.research.google.com/notebooks/data_table.ipynb>data table notebook</a>'\n",
              "            + ' to learn more about interactive tables.';\n",
              "          element.innerHTML = '';\n",
              "          dataTable['output_type'] = 'display_data';\n",
              "          await google.colab.output.renderOutput(dataTable, element);\n",
              "          const docLink = document.createElement('div');\n",
              "          docLink.innerHTML = docLinkHtml;\n",
              "          element.appendChild(docLink);\n",
              "        }\n",
              "      </script>\n",
              "    </div>\n",
              "  </div>\n",
              "  "
            ]
          },
          "metadata": {},
          "execution_count": 4
        }
      ]
    },
    {
      "cell_type": "markdown",
      "source": [
        "**Menampilkan shape dari dataset Sharen_Odd**"
      ],
      "metadata": {
        "id": "6PxBGkUmMMND"
      }
    },
    {
      "cell_type": "code",
      "source": [
        "Sharen_Odd.shape"
      ],
      "metadata": {
        "colab": {
          "base_uri": "https://localhost:8080/",
          "height": 0
        },
        "id": "F0CeqnalMH9O",
        "outputId": "f65a43d8-84ac-4e32-958a-1a79c04585dc"
      },
      "execution_count": 5,
      "outputs": [
        {
          "output_type": "execute_result",
          "data": {
            "text/plain": [
              "(1031744, 23)"
            ]
          },
          "metadata": {},
          "execution_count": 5
        }
      ]
    },
    {
      "cell_type": "markdown",
      "source": [
        "Sharen_Odd.shape berfungsi untuk menjelaskan bentuk array saat ini. Numpy akan memberi tahu bahwa dataset Sharen_Odd kita terdiri dari 1031744 baris dan 23 kolom."
      ],
      "metadata": {
        "id": "TegfFIqKMY0C"
      }
    },
    {
      "cell_type": "markdown",
      "source": [
        "**Menampilkan info dari dataset Sharen_Odd**"
      ],
      "metadata": {
        "id": "aLXUew2zMvPM"
      }
    },
    {
      "cell_type": "code",
      "source": [
        "Sharen_Odd.info()"
      ],
      "metadata": {
        "colab": {
          "base_uri": "https://localhost:8080/",
          "height": 0
        },
        "id": "SXXkiQ1QMp8c",
        "outputId": "ea239bc1-bd78-4183-8835-a3bdc2f9890f"
      },
      "execution_count": 6,
      "outputs": [
        {
          "output_type": "stream",
          "name": "stdout",
          "text": [
            "<class 'pandas.core.frame.DataFrame'>\n",
            "RangeIndex: 1031744 entries, 0 to 1031743\n",
            "Data columns (total 23 columns):\n",
            " #   Column                Non-Null Count    Dtype  \n",
            "---  ------                --------------    -----  \n",
            " 0   Unnamed: 0            1031744 non-null  int64  \n",
            " 1   ID                    1031744 non-null  int64  \n",
            " 2   Case Number           1031744 non-null  object \n",
            " 3   Date                  1031744 non-null  object \n",
            " 4   Block                 1031744 non-null  object \n",
            " 5   IUCR                  1031744 non-null  object \n",
            " 6   Primary Type          1031744 non-null  object \n",
            " 7   Description           1031744 non-null  object \n",
            " 8   Location Description  1028477 non-null  object \n",
            " 9   Arrest                1031744 non-null  bool   \n",
            " 10  Domestic              1031744 non-null  bool   \n",
            " 11  Beat                  1031744 non-null  int64  \n",
            " 12  District              1031743 non-null  float64\n",
            " 13  Ward                  1031738 non-null  float64\n",
            " 14  Community Area        1031742 non-null  float64\n",
            " 15  FBI Code              1031744 non-null  object \n",
            " 16  X Coordinate          1019181 non-null  float64\n",
            " 17  Y Coordinate          1019181 non-null  float64\n",
            " 18  Year                  1031744 non-null  int64  \n",
            " 19  Updated On            1031744 non-null  object \n",
            " 20  Latitude              1019181 non-null  float64\n",
            " 21  Longitude             1019181 non-null  float64\n",
            " 22  Location              1019181 non-null  object \n",
            "dtypes: bool(2), float64(7), int64(4), object(10)\n",
            "memory usage: 167.3+ MB\n"
          ]
        }
      ]
    },
    {
      "cell_type": "code",
      "source": [
        "Sharen_Odd.dtypes"
      ],
      "metadata": {
        "colab": {
          "base_uri": "https://localhost:8080/",
          "height": 0
        },
        "id": "yd1l6gSVM6Vx",
        "outputId": "8fd629e8-7894-4528-920b-47dd921261dc"
      },
      "execution_count": 7,
      "outputs": [
        {
          "output_type": "execute_result",
          "data": {
            "text/plain": [
              "Unnamed: 0                int64\n",
              "ID                        int64\n",
              "Case Number              object\n",
              "Date                     object\n",
              "Block                    object\n",
              "IUCR                     object\n",
              "Primary Type             object\n",
              "Description              object\n",
              "Location Description     object\n",
              "Arrest                     bool\n",
              "Domestic                   bool\n",
              "Beat                      int64\n",
              "District                float64\n",
              "Ward                    float64\n",
              "Community Area          float64\n",
              "FBI Code                 object\n",
              "X Coordinate            float64\n",
              "Y Coordinate            float64\n",
              "Year                      int64\n",
              "Updated On               object\n",
              "Latitude                float64\n",
              "Longitude               float64\n",
              "Location                 object\n",
              "dtype: object"
            ]
          },
          "metadata": {},
          "execution_count": 7
        }
      ]
    },
    {
      "cell_type": "markdown",
      "source": [
        "Dari hasil diatas, diketahui terdapat 2 variabel dengan tipe data BOOL, 7 variabel dengan tipe data FLOAT, 4 variabel dengan tipe data INT, dan 10 variabel dengan tipe data OBJECT."
      ],
      "metadata": {
        "id": "EcQjg3CZNCis"
      }
    },
    {
      "cell_type": "markdown",
      "source": [
        "**Menampilkan deskripsi data dari dataset Sharen_Odd**"
      ],
      "metadata": {
        "id": "N8s22IqSNdDz"
      }
    },
    {
      "cell_type": "code",
      "source": [
        "Sharen_Odd.describe()"
      ],
      "metadata": {
        "colab": {
          "base_uri": "https://localhost:8080/",
          "height": 381
        },
        "id": "qbG0WW_LNgGD",
        "outputId": "0fd84f60-820f-4ce6-83b9-1bc56fb4e094"
      },
      "execution_count": 8,
      "outputs": [
        {
          "output_type": "execute_result",
          "data": {
            "text/plain": [
              "         Unnamed: 0            ID          Beat      District          Ward  \\\n",
              "count  1.031744e+06  1.031744e+06  1.031744e+06  1.031743e+06  1.031738e+06   \n",
              "mean   5.734502e+05  1.081694e+07  1.144468e+03  1.121607e+01  2.316172e+01   \n",
              "std    3.308943e+05  7.250323e+05  6.942233e+02  6.934780e+00  1.398308e+01   \n",
              "min    0.000000e+00  2.171400e+04  1.110000e+02  1.000000e+00  1.000000e+00   \n",
              "25%    2.869228e+05  1.040797e+07  6.120000e+02  6.000000e+00  1.000000e+01   \n",
              "50%    5.737245e+05  1.087063e+07  1.031000e+03  1.000000e+01  2.400000e+01   \n",
              "75%    8.598735e+05  1.127863e+07  1.713000e+03  1.700000e+01  3.400000e+01   \n",
              "max    1.146380e+06  1.168250e+07  2.535000e+03  3.100000e+01  5.000000e+01   \n",
              "\n",
              "       Community Area  X Coordinate  Y Coordinate          Year      Latitude  \\\n",
              "count    1.031742e+06  1.019181e+06  1.019181e+06  1.031744e+06  1.019181e+06   \n",
              "mean     3.686135e+01  1.164729e+06  1.886285e+06  2.016676e+03  4.184356e+01   \n",
              "std      2.141199e+01  1.622861e+04  3.118423e+04  1.248647e+00  8.576025e-02   \n",
              "min      0.000000e+00  1.092706e+06  1.813897e+06  2.015000e+03  4.164459e+01   \n",
              "25%      2.300000e+01  1.152955e+06  1.859226e+06  2.016000e+03  4.176901e+01   \n",
              "50%      3.200000e+01  1.166471e+06  1.893489e+06  2.017000e+03  4.186338e+01   \n",
              "75%      5.400000e+01  1.176417e+06  1.908739e+06  2.018000e+03  4.190535e+01   \n",
              "max      7.700000e+01  1.205119e+06  1.951535e+06  2.019000e+03  4.202267e+01   \n",
              "\n",
              "          Longitude  \n",
              "count  1.019181e+06  \n",
              "mean  -8.767101e+01  \n",
              "std    5.908040e-02  \n",
              "min   -8.793427e+01  \n",
              "25%   -8.771377e+01  \n",
              "50%   -8.766459e+01  \n",
              "75%   -8.762788e+01  \n",
              "max   -8.752453e+01  "
            ],
            "text/html": [
              "\n",
              "  <div id=\"df-bb6e6a17-f23f-42c1-a10a-faf8fc07bc21\">\n",
              "    <div class=\"colab-df-container\">\n",
              "      <div>\n",
              "<style scoped>\n",
              "    .dataframe tbody tr th:only-of-type {\n",
              "        vertical-align: middle;\n",
              "    }\n",
              "\n",
              "    .dataframe tbody tr th {\n",
              "        vertical-align: top;\n",
              "    }\n",
              "\n",
              "    .dataframe thead th {\n",
              "        text-align: right;\n",
              "    }\n",
              "</style>\n",
              "<table border=\"1\" class=\"dataframe\">\n",
              "  <thead>\n",
              "    <tr style=\"text-align: right;\">\n",
              "      <th></th>\n",
              "      <th>Unnamed: 0</th>\n",
              "      <th>ID</th>\n",
              "      <th>Beat</th>\n",
              "      <th>District</th>\n",
              "      <th>Ward</th>\n",
              "      <th>Community Area</th>\n",
              "      <th>X Coordinate</th>\n",
              "      <th>Y Coordinate</th>\n",
              "      <th>Year</th>\n",
              "      <th>Latitude</th>\n",
              "      <th>Longitude</th>\n",
              "    </tr>\n",
              "  </thead>\n",
              "  <tbody>\n",
              "    <tr>\n",
              "      <th>count</th>\n",
              "      <td>1.031744e+06</td>\n",
              "      <td>1.031744e+06</td>\n",
              "      <td>1.031744e+06</td>\n",
              "      <td>1.031743e+06</td>\n",
              "      <td>1.031738e+06</td>\n",
              "      <td>1.031742e+06</td>\n",
              "      <td>1.019181e+06</td>\n",
              "      <td>1.019181e+06</td>\n",
              "      <td>1.031744e+06</td>\n",
              "      <td>1.019181e+06</td>\n",
              "      <td>1.019181e+06</td>\n",
              "    </tr>\n",
              "    <tr>\n",
              "      <th>mean</th>\n",
              "      <td>5.734502e+05</td>\n",
              "      <td>1.081694e+07</td>\n",
              "      <td>1.144468e+03</td>\n",
              "      <td>1.121607e+01</td>\n",
              "      <td>2.316172e+01</td>\n",
              "      <td>3.686135e+01</td>\n",
              "      <td>1.164729e+06</td>\n",
              "      <td>1.886285e+06</td>\n",
              "      <td>2.016676e+03</td>\n",
              "      <td>4.184356e+01</td>\n",
              "      <td>-8.767101e+01</td>\n",
              "    </tr>\n",
              "    <tr>\n",
              "      <th>std</th>\n",
              "      <td>3.308943e+05</td>\n",
              "      <td>7.250323e+05</td>\n",
              "      <td>6.942233e+02</td>\n",
              "      <td>6.934780e+00</td>\n",
              "      <td>1.398308e+01</td>\n",
              "      <td>2.141199e+01</td>\n",
              "      <td>1.622861e+04</td>\n",
              "      <td>3.118423e+04</td>\n",
              "      <td>1.248647e+00</td>\n",
              "      <td>8.576025e-02</td>\n",
              "      <td>5.908040e-02</td>\n",
              "    </tr>\n",
              "    <tr>\n",
              "      <th>min</th>\n",
              "      <td>0.000000e+00</td>\n",
              "      <td>2.171400e+04</td>\n",
              "      <td>1.110000e+02</td>\n",
              "      <td>1.000000e+00</td>\n",
              "      <td>1.000000e+00</td>\n",
              "      <td>0.000000e+00</td>\n",
              "      <td>1.092706e+06</td>\n",
              "      <td>1.813897e+06</td>\n",
              "      <td>2.015000e+03</td>\n",
              "      <td>4.164459e+01</td>\n",
              "      <td>-8.793427e+01</td>\n",
              "    </tr>\n",
              "    <tr>\n",
              "      <th>25%</th>\n",
              "      <td>2.869228e+05</td>\n",
              "      <td>1.040797e+07</td>\n",
              "      <td>6.120000e+02</td>\n",
              "      <td>6.000000e+00</td>\n",
              "      <td>1.000000e+01</td>\n",
              "      <td>2.300000e+01</td>\n",
              "      <td>1.152955e+06</td>\n",
              "      <td>1.859226e+06</td>\n",
              "      <td>2.016000e+03</td>\n",
              "      <td>4.176901e+01</td>\n",
              "      <td>-8.771377e+01</td>\n",
              "    </tr>\n",
              "    <tr>\n",
              "      <th>50%</th>\n",
              "      <td>5.737245e+05</td>\n",
              "      <td>1.087063e+07</td>\n",
              "      <td>1.031000e+03</td>\n",
              "      <td>1.000000e+01</td>\n",
              "      <td>2.400000e+01</td>\n",
              "      <td>3.200000e+01</td>\n",
              "      <td>1.166471e+06</td>\n",
              "      <td>1.893489e+06</td>\n",
              "      <td>2.017000e+03</td>\n",
              "      <td>4.186338e+01</td>\n",
              "      <td>-8.766459e+01</td>\n",
              "    </tr>\n",
              "    <tr>\n",
              "      <th>75%</th>\n",
              "      <td>8.598735e+05</td>\n",
              "      <td>1.127863e+07</td>\n",
              "      <td>1.713000e+03</td>\n",
              "      <td>1.700000e+01</td>\n",
              "      <td>3.400000e+01</td>\n",
              "      <td>5.400000e+01</td>\n",
              "      <td>1.176417e+06</td>\n",
              "      <td>1.908739e+06</td>\n",
              "      <td>2.018000e+03</td>\n",
              "      <td>4.190535e+01</td>\n",
              "      <td>-8.762788e+01</td>\n",
              "    </tr>\n",
              "    <tr>\n",
              "      <th>max</th>\n",
              "      <td>1.146380e+06</td>\n",
              "      <td>1.168250e+07</td>\n",
              "      <td>2.535000e+03</td>\n",
              "      <td>3.100000e+01</td>\n",
              "      <td>5.000000e+01</td>\n",
              "      <td>7.700000e+01</td>\n",
              "      <td>1.205119e+06</td>\n",
              "      <td>1.951535e+06</td>\n",
              "      <td>2.019000e+03</td>\n",
              "      <td>4.202267e+01</td>\n",
              "      <td>-8.752453e+01</td>\n",
              "    </tr>\n",
              "  </tbody>\n",
              "</table>\n",
              "</div>\n",
              "      <button class=\"colab-df-convert\" onclick=\"convertToInteractive('df-bb6e6a17-f23f-42c1-a10a-faf8fc07bc21')\"\n",
              "              title=\"Convert this dataframe to an interactive table.\"\n",
              "              style=\"display:none;\">\n",
              "        \n",
              "  <svg xmlns=\"http://www.w3.org/2000/svg\" height=\"24px\"viewBox=\"0 0 24 24\"\n",
              "       width=\"24px\">\n",
              "    <path d=\"M0 0h24v24H0V0z\" fill=\"none\"/>\n",
              "    <path d=\"M18.56 5.44l.94 2.06.94-2.06 2.06-.94-2.06-.94-.94-2.06-.94 2.06-2.06.94zm-11 1L8.5 8.5l.94-2.06 2.06-.94-2.06-.94L8.5 2.5l-.94 2.06-2.06.94zm10 10l.94 2.06.94-2.06 2.06-.94-2.06-.94-.94-2.06-.94 2.06-2.06.94z\"/><path d=\"M17.41 7.96l-1.37-1.37c-.4-.4-.92-.59-1.43-.59-.52 0-1.04.2-1.43.59L10.3 9.45l-7.72 7.72c-.78.78-.78 2.05 0 2.83L4 21.41c.39.39.9.59 1.41.59.51 0 1.02-.2 1.41-.59l7.78-7.78 2.81-2.81c.8-.78.8-2.07 0-2.86zM5.41 20L4 18.59l7.72-7.72 1.47 1.35L5.41 20z\"/>\n",
              "  </svg>\n",
              "      </button>\n",
              "      \n",
              "  <style>\n",
              "    .colab-df-container {\n",
              "      display:flex;\n",
              "      flex-wrap:wrap;\n",
              "      gap: 12px;\n",
              "    }\n",
              "\n",
              "    .colab-df-convert {\n",
              "      background-color: #E8F0FE;\n",
              "      border: none;\n",
              "      border-radius: 50%;\n",
              "      cursor: pointer;\n",
              "      display: none;\n",
              "      fill: #1967D2;\n",
              "      height: 32px;\n",
              "      padding: 0 0 0 0;\n",
              "      width: 32px;\n",
              "    }\n",
              "\n",
              "    .colab-df-convert:hover {\n",
              "      background-color: #E2EBFA;\n",
              "      box-shadow: 0px 1px 2px rgba(60, 64, 67, 0.3), 0px 1px 3px 1px rgba(60, 64, 67, 0.15);\n",
              "      fill: #174EA6;\n",
              "    }\n",
              "\n",
              "    [theme=dark] .colab-df-convert {\n",
              "      background-color: #3B4455;\n",
              "      fill: #D2E3FC;\n",
              "    }\n",
              "\n",
              "    [theme=dark] .colab-df-convert:hover {\n",
              "      background-color: #434B5C;\n",
              "      box-shadow: 0px 1px 3px 1px rgba(0, 0, 0, 0.15);\n",
              "      filter: drop-shadow(0px 1px 2px rgba(0, 0, 0, 0.3));\n",
              "      fill: #FFFFFF;\n",
              "    }\n",
              "  </style>\n",
              "\n",
              "      <script>\n",
              "        const buttonEl =\n",
              "          document.querySelector('#df-bb6e6a17-f23f-42c1-a10a-faf8fc07bc21 button.colab-df-convert');\n",
              "        buttonEl.style.display =\n",
              "          google.colab.kernel.accessAllowed ? 'block' : 'none';\n",
              "\n",
              "        async function convertToInteractive(key) {\n",
              "          const element = document.querySelector('#df-bb6e6a17-f23f-42c1-a10a-faf8fc07bc21');\n",
              "          const dataTable =\n",
              "            await google.colab.kernel.invokeFunction('convertToInteractive',\n",
              "                                                     [key], {});\n",
              "          if (!dataTable) return;\n",
              "\n",
              "          const docLinkHtml = 'Like what you see? Visit the ' +\n",
              "            '<a target=\"_blank\" href=https://colab.research.google.com/notebooks/data_table.ipynb>data table notebook</a>'\n",
              "            + ' to learn more about interactive tables.';\n",
              "          element.innerHTML = '';\n",
              "          dataTable['output_type'] = 'display_data';\n",
              "          await google.colab.output.renderOutput(dataTable, element);\n",
              "          const docLink = document.createElement('div');\n",
              "          docLink.innerHTML = docLinkHtml;\n",
              "          element.appendChild(docLink);\n",
              "        }\n",
              "      </script>\n",
              "    </div>\n",
              "  </div>\n",
              "  "
            ]
          },
          "metadata": {},
          "execution_count": 8
        }
      ]
    },
    {
      "cell_type": "markdown",
      "source": [
        "Dari hasil diatas, ditampilkan basic statistical data dari dataset Sharen_Odd, dimana terdapat masing-masing nilai mean, standar deviasi, maximum, minimum, dan masi banyak lagi dari setiap kolomnya."
      ],
      "metadata": {
        "id": "IFnNcZ1DNkQu"
      }
    },
    {
      "cell_type": "markdown",
      "source": [
        "**Menampilkan urutan menurun sehingga elemen pertama adalah elemen yang paling sering muncul**"
      ],
      "metadata": {
        "id": "KnyHsHPvN_qx"
      }
    },
    {
      "cell_type": "code",
      "source": [
        "Sharen_Odd.value_counts()"
      ],
      "metadata": {
        "colab": {
          "base_uri": "https://localhost:8080/",
          "height": 0
        },
        "id": "S9xyR6SkN3ib",
        "outputId": "71f413c8-5f44-49fa-cc9d-54a7cff4e2b0"
      },
      "execution_count": 9,
      "outputs": [
        {
          "output_type": "execute_result",
          "data": {
            "text/plain": [
              "Unnamed: 0  ID        Case Number  Date                    Block                  IUCR  Primary Type        Description                          Location Description               Arrest  Domestic  Beat  District  Ward  Community Area  FBI Code  X Coordinate  Y Coordinate  Year  Updated On              Latitude   Longitude   Location                     \n",
              "1           10365064  HZ100370     12/31/2015 11:59:00 PM  075XX S EMERALD AVE    1320  CRIMINAL DAMAGE     TO VEHICLE                           STREET                             False   False     621   6.0       17.0  68.0            14        1172605.0     1854931.0     2015  02/10/2018 03:50:01 PM  41.757367  -87.642993  (41.757366519, -87.642992854)    1\n",
              "765866      10855197  JA160258     02/20/2017 12:12:00 AM  0000X W JACKSON BLVD   0460  BATTERY             SIMPLE                               STREET                             False   False     113   1.0       42.0  32.0            08B       1176349.0     1898987.0     2017  02/10/2018 03:50:01 PM  41.878177  -87.627946  (41.878176784, -87.627946266)    1\n",
              "765852      10855188  JA160281     02/20/2017 12:54:00 AM  018XX S LAWNDALE AVE   0486  BATTERY             DOMESTIC BATTERY SIMPLE              APARTMENT                          False   True      1014  10.0      24.0  29.0            08B       1151995.0     1890659.0     2017  02/10/2018 03:50:01 PM  41.855838  -87.717588  (41.855838254, -87.717588081)    1\n",
              "765853      10855221  JA160287     02/20/2017 12:45:00 AM  038XX W LEXINGTON ST   1310  CRIMINAL DAMAGE     TO PROPERTY                          APARTMENT                          False   False     1133  11.0      24.0  26.0            14        1150920.0     1896423.0     2017  02/10/2018 03:50:01 PM  41.871676  -87.721383  (41.87167643, -87.721383082)     1\n",
              "765854      10855163  JA160277     02/20/2017 12:40:00 AM  063XX S MOZART ST      0486  BATTERY             DOMESTIC BATTERY SIMPLE              APARTMENT                          False   True      823   8.0       15.0  66.0            08B       1158473.0     1862386.0     2017  02/10/2018 03:50:01 PM  41.778124  -87.694582  (41.778123668, -87.694581962)    1\n",
              "                                                                                                                                                                                                                                                                                                                                                                       ..\n",
              "384680      10609562  HZ362203     07/24/2016 11:33:00 AM  013XX E 75TH ST        502P  OTHER OFFENSE       FALSE/STOLEN/ALTERED TRP             STREET                             True    False     411   4.0       5.0   43.0            26        1186404.0     1855535.0     2016  02/10/2018 03:50:01 PM  41.758709  -87.592403  (41.758708964, -87.592402969)    1\n",
              "384681      10609549  HZ362184     07/24/2016 11:33:00 AM  019XX N KEELER AVE     0560  ASSAULT             SIMPLE                               RESIDENCE                          False   True      2534  25.0      30.0  20.0            08A       1148077.0     1912561.0     2016  02/10/2018 03:50:01 PM  41.916016  -87.731405  (41.916015982, -87.731405299)    1\n",
              "384682      10609621  HZ362237     07/24/2016 11:30:00 AM  069XX S HARPER AVE     0560  ASSAULT             SIMPLE                               CHURCH/SYNAGOGUE/PLACE OF WORSHIP  False   False     332   3.0       5.0   43.0            08A       1187581.0     1859342.0     2016  02/10/2018 03:50:01 PM  41.769128  -87.587969  (41.769127812, -87.587968505)    1\n",
              "384683      10613509  HZ366376     07/24/2016 11:30:00 AM  060XX W GRAND AVE      0620  BURGLARY            UNLAWFUL ENTRY                       NURSING HOME/RETIREMENT HOME       False   False     2512  25.0      29.0  19.0            05        1135581.0     1914244.0     2016  02/10/2018 03:50:01 PM  41.920866  -87.777275  (41.92086582, -87.777275445)     1\n",
              "1146380     11583562  JC137815     01/01/2019 12:00:00 AM  045XX N GREENVIEW AVE  1153  DECEPTIVE PRACTICE  FINANCIAL IDENTITY THEFT OVER $ 300  OTHER                              False   False     1912  19.0      47.0  3.0             11        1165260.0     1930188.0     2019  02/06/2019 04:03:01 PM  41.964037  -87.667773  (41.964037099, -87.667773171)    1\n",
              "Length: 1016837, dtype: int64"
            ]
          },
          "metadata": {},
          "execution_count": 9
        }
      ]
    },
    {
      "cell_type": "markdown",
      "source": [
        "**Melihat kolom-kolom pada dataset Sharen_Odd**"
      ],
      "metadata": {
        "id": "O1VsVhjegUrn"
      }
    },
    {
      "cell_type": "code",
      "source": [
        "Sharen_Odd.columns"
      ],
      "metadata": {
        "colab": {
          "base_uri": "https://localhost:8080/",
          "height": 0
        },
        "id": "3Uc08kQ3gbaG",
        "outputId": "61377154-05c0-47ab-b806-6fced5a2d7bc"
      },
      "execution_count": 10,
      "outputs": [
        {
          "output_type": "execute_result",
          "data": {
            "text/plain": [
              "Index(['Unnamed: 0', 'ID', 'Case Number', 'Date', 'Block', 'IUCR',\n",
              "       'Primary Type', 'Description', 'Location Description', 'Arrest',\n",
              "       'Domestic', 'Beat', 'District', 'Ward', 'Community Area', 'FBI Code',\n",
              "       'X Coordinate', 'Y Coordinate', 'Year', 'Updated On', 'Latitude',\n",
              "       'Longitude', 'Location'],\n",
              "      dtype='object')"
            ]
          },
          "metadata": {},
          "execution_count": 10
        }
      ]
    },
    {
      "cell_type": "markdown",
      "source": [
        "**Mengubah spasi menjadi underscore untuk memudahkan pengerjaan**"
      ],
      "metadata": {
        "id": "LrGdZ-yykkyJ"
      }
    },
    {
      "cell_type": "code",
      "source": [
        "Sharen_Odd.columns = Sharen_Odd.columns.str.replace(' ','_')"
      ],
      "metadata": {
        "id": "LSTFpzvQkYgV"
      },
      "execution_count": 11,
      "outputs": []
    },
    {
      "cell_type": "code",
      "source": [
        "Sharen_Odd.columns"
      ],
      "metadata": {
        "colab": {
          "base_uri": "https://localhost:8080/",
          "height": 0
        },
        "id": "2XagF9hRkh54",
        "outputId": "d1c01353-4c19-455a-f1ef-4898529da5db"
      },
      "execution_count": 12,
      "outputs": [
        {
          "output_type": "execute_result",
          "data": {
            "text/plain": [
              "Index(['Unnamed:_0', 'ID', 'Case_Number', 'Date', 'Block', 'IUCR',\n",
              "       'Primary_Type', 'Description', 'Location_Description', 'Arrest',\n",
              "       'Domestic', 'Beat', 'District', 'Ward', 'Community_Area', 'FBI_Code',\n",
              "       'X_Coordinate', 'Y_Coordinate', 'Year', 'Updated_On', 'Latitude',\n",
              "       'Longitude', 'Location'],\n",
              "      dtype='object')"
            ]
          },
          "metadata": {},
          "execution_count": 12
        }
      ]
    },
    {
      "cell_type": "markdown",
      "source": [
        "**Melihat index pada dataset Sharen_Odd**"
      ],
      "metadata": {
        "id": "R0-GZJMIgkV3"
      }
    },
    {
      "cell_type": "code",
      "source": [
        "Sharen_Odd.index"
      ],
      "metadata": {
        "colab": {
          "base_uri": "https://localhost:8080/",
          "height": 0
        },
        "id": "B9-FJJSvgnAq",
        "outputId": "126f032d-b415-4d6b-c1c8-55a6e5bb83ed"
      },
      "execution_count": 13,
      "outputs": [
        {
          "output_type": "execute_result",
          "data": {
            "text/plain": [
              "RangeIndex(start=0, stop=1031744, step=1)"
            ]
          },
          "metadata": {},
          "execution_count": 13
        }
      ]
    },
    {
      "cell_type": "markdown",
      "source": [
        "**Mengecek missing value pada dataset Sharen_Odd**"
      ],
      "metadata": {
        "id": "yFGhI82iPeib"
      }
    },
    {
      "cell_type": "code",
      "source": [
        "Sharen_Odd.isna().sum()"
      ],
      "metadata": {
        "colab": {
          "base_uri": "https://localhost:8080/",
          "height": 0
        },
        "id": "knT26ic9Ph6p",
        "outputId": "40e88138-fc9b-49ea-aa6d-8fce4be8f8a2"
      },
      "execution_count": 14,
      "outputs": [
        {
          "output_type": "execute_result",
          "data": {
            "text/plain": [
              "Unnamed:_0                  0\n",
              "ID                          0\n",
              "Case_Number                 0\n",
              "Date                        0\n",
              "Block                       0\n",
              "IUCR                        0\n",
              "Primary_Type                0\n",
              "Description                 0\n",
              "Location_Description     3267\n",
              "Arrest                      0\n",
              "Domestic                    0\n",
              "Beat                        0\n",
              "District                    1\n",
              "Ward                        6\n",
              "Community_Area              2\n",
              "FBI_Code                    0\n",
              "X_Coordinate            12563\n",
              "Y_Coordinate            12563\n",
              "Year                        0\n",
              "Updated_On                  0\n",
              "Latitude                12563\n",
              "Longitude               12563\n",
              "Location                12563\n",
              "dtype: int64"
            ]
          },
          "metadata": {},
          "execution_count": 14
        }
      ]
    },
    {
      "cell_type": "markdown",
      "source": [
        "Dari hasil diatas, terdapat missing value pada kolom Location Description, X Coordinate, Y Coordinate, Latitude, Longitude, dan Location."
      ],
      "metadata": {
        "id": "__b9MDuDPnh9"
      }
    },
    {
      "cell_type": "markdown",
      "source": [
        "**Mem-plot histogram dari dataset Sharen_Odd**"
      ],
      "metadata": {
        "id": "HC12MppnfIq0"
      }
    },
    {
      "cell_type": "code",
      "source": [
        "Sharen_Odd.hist(bins = 20, figsize = (20,25), color = 'red');"
      ],
      "metadata": {
        "colab": {
          "base_uri": "https://localhost:8080/",
          "height": 1000
        },
        "id": "3Eo_jinUe5sj",
        "outputId": "9186bee8-9c67-42c9-c03f-072bdb45b5bc"
      },
      "execution_count": 15,
      "outputs": [
        {
          "output_type": "display_data",
          "data": {
            "text/plain": [
              "<Figure size 1440x1800 with 12 Axes>"
            ],
            "image/png": "[encoded data removed]"
          },
          "metadata": {
            "needs_background": "light"
          }
        }
      ]
    },
    {
      "cell_type": "markdown",
      "source": [
        "**Melihat korelasi antar variabel pada dataset Sharen_Odd**"
      ],
      "metadata": {
        "id": "SIEwmMgTiAG2"
      }
    },
    {
      "cell_type": "code",
      "source": [
        "Sharen_Odd.corr(method ='kendall')"
      ],
      "metadata": {
        "colab": {
          "base_uri": "https://localhost:8080/",
          "height": 557
        },
        "id": "Uc833Bnlhy91",
        "outputId": "86e49804-c5bb-4646-ccac-c62309d635bf"
      },
      "execution_count": 16,
      "outputs": [
        {
          "output_type": "stream",
          "name": "stderr",
          "text": [
            "/usr/local/lib/python3.7/dist-packages/scipy/stats/stats.py:4812: RuntimeWarning: overflow encountered in long_scalars\n",
            "  (2 * xtie * ytie) / m + x0 * y0 / (9 * m * (size - 2)))\n"
          ]
        },
        {
          "output_type": "execute_result",
          "data": {
            "text/plain": [
              "                Unnamed:_0        ID    Arrest  Domestic      Beat  District  \\\n",
              "Unnamed:_0        1.000000  0.559896 -0.031282  0.007419 -0.002323 -0.002307   \n",
              "ID                0.559896  1.000000 -0.047354  0.003247 -0.000905 -0.000821   \n",
              "Arrest           -0.031282 -0.047354  1.000000 -0.035033 -0.021422 -0.022149   \n",
              "Domestic          0.007419  0.003247 -0.035033  1.000000 -0.047870 -0.049191   \n",
              "Beat             -0.002323 -0.000905 -0.021422 -0.047870  1.000000  0.977206   \n",
              "District         -0.002307 -0.000821 -0.022149 -0.049191  0.977206  1.000000   \n",
              "Ward              0.009396  0.012025 -0.016414 -0.063943  0.532823  0.551323   \n",
              "Community_Area   -0.008853 -0.012500  0.030693  0.080018 -0.403116 -0.427770   \n",
              "X_Coordinate      0.009591  0.011623 -0.026610  0.010511 -0.408871 -0.437463   \n",
              "Y_Coordinate      0.005769  0.009711 -0.038524 -0.092558  0.496054  0.534512   \n",
              "Year              0.882413  0.872653 -0.042087  0.006490 -0.002374 -0.002336   \n",
              "Latitude          0.005698  0.009618 -0.038288 -0.092282  0.496908  0.535538   \n",
              "Longitude         0.009790  0.011910 -0.027403  0.009004 -0.405916 -0.434233   \n",
              "\n",
              "                    Ward  Community_Area  X_Coordinate  Y_Coordinate  \\\n",
              "Unnamed:_0      0.009396       -0.008853      0.009591      0.005769   \n",
              "ID              0.012025       -0.012500      0.011623      0.009711   \n",
              "Arrest         -0.016414        0.030693     -0.026610     -0.038524   \n",
              "Domestic       -0.063943        0.080018      0.010511     -0.092558   \n",
              "Beat            0.532823       -0.403116     -0.408871      0.496054   \n",
              "District        0.551323       -0.427770     -0.437463      0.534512   \n",
              "Ward            1.000000       -0.391055     -0.305512      0.480243   \n",
              "Community_Area -0.391055        1.000000      0.234338     -0.708108   \n",
              "X_Coordinate   -0.305512        0.234338      1.000000     -0.375282   \n",
              "Y_Coordinate    0.480243       -0.708108     -0.375282      1.000000   \n",
              "Year            0.011683       -0.011703      0.012056      0.008035   \n",
              "Latitude        0.480392       -0.707831     -0.377595      0.997692   \n",
              "Longitude      -0.301118        0.226780      0.991391     -0.366656   \n",
              "\n",
              "                    Year  Latitude  Longitude  \n",
              "Unnamed:_0      0.882413  0.005698   0.009790  \n",
              "ID              0.872653  0.009618   0.011910  \n",
              "Arrest         -0.042087 -0.038288  -0.027403  \n",
              "Domestic        0.006490 -0.092282   0.009004  \n",
              "Beat           -0.002374  0.496908  -0.405916  \n",
              "District       -0.002336  0.535538  -0.434233  \n",
              "Ward            0.011683  0.480392  -0.301118  \n",
              "Community_Area -0.011703 -0.707831   0.226780  \n",
              "X_Coordinate    0.012056 -0.377595   0.991391  \n",
              "Y_Coordinate    0.008035  0.997692  -0.366656  \n",
              "Year            1.000000  0.007945   0.012319  \n",
              "Latitude        0.007945  1.000000  -0.368969  \n",
              "Longitude       0.012319 -0.368969   1.000000  "
            ],
            "text/html": [
              "\n",
              "  <div id=\"df-37953822-a429-4648-b067-280b2502e350\">\n",
              "    <div class=\"colab-df-container\">\n",
              "      <div>\n",
              "<style scoped>\n",
              "    .dataframe tbody tr th:only-of-type {\n",
              "        vertical-align: middle;\n",
              "    }\n",
              "\n",
              "    .dataframe tbody tr th {\n",
              "        vertical-align: top;\n",
              "    }\n",
              "\n",
              "    .dataframe thead th {\n",
              "        text-align: right;\n",
              "    }\n",
              "</style>\n",
              "<table border=\"1\" class=\"dataframe\">\n",
              "  <thead>\n",
              "    <tr style=\"text-align: right;\">\n",
              "      <th></th>\n",
              "      <th>Unnamed:_0</th>\n",
              "      <th>ID</th>\n",
              "      <th>Arrest</th>\n",
              "      <th>Domestic</th>\n",
              "      <th>Beat</th>\n",
              "      <th>District</th>\n",
              "      <th>Ward</th>\n",
              "      <th>Community_Area</th>\n",
              "      <th>X_Coordinate</th>\n",
              "      <th>Y_Coordinate</th>\n",
              "      <th>Year</th>\n",
              "      <th>Latitude</th>\n",
              "      <th>Longitude</th>\n",
              "    </tr>\n",
              "  </thead>\n",
              "  <tbody>\n",
              "    <tr>\n",
              "      <th>Unnamed:_0</th>\n",
              "      <td>1.000000</td>\n",
              "      <td>0.559896</td>\n",
              "      <td>-0.031282</td>\n",
              "      <td>0.007419</td>\n",
              "      <td>-0.002323</td>\n",
              "      <td>-0.002307</td>\n",
              "      <td>0.009396</td>\n",
              "      <td>-0.008853</td>\n",
              "      <td>0.009591</td>\n",
              "      <td>0.005769</td>\n",
              "      <td>0.882413</td>\n",
              "      <td>0.005698</td>\n",
              "      <td>0.009790</td>\n",
              "    </tr>\n",
              "    <tr>\n",
              "      <th>ID</th>\n",
              "      <td>0.559896</td>\n",
              "      <td>1.000000</td>\n",
              "      <td>-0.047354</td>\n",
              "      <td>0.003247</td>\n",
              "      <td>-0.000905</td>\n",
              "      <td>-0.000821</td>\n",
              "      <td>0.012025</td>\n",
              "      <td>-0.012500</td>\n",
              "      <td>0.011623</td>\n",
              "      <td>0.009711</td>\n",
              "      <td>0.872653</td>\n",
              "      <td>0.009618</td>\n",
              "      <td>0.011910</td>\n",
              "    </tr>\n",
              "    <tr>\n",
              "      <th>Arrest</th>\n",
              "      <td>-0.031282</td>\n",
              "      <td>-0.047354</td>\n",
              "      <td>1.000000</td>\n",
              "      <td>-0.035033</td>\n",
              "      <td>-0.021422</td>\n",
              "      <td>-0.022149</td>\n",
              "      <td>-0.016414</td>\n",
              "      <td>0.030693</td>\n",
              "      <td>-0.026610</td>\n",
              "      <td>-0.038524</td>\n",
              "      <td>-0.042087</td>\n",
              "      <td>-0.038288</td>\n",
              "      <td>-0.027403</td>\n",
              "    </tr>\n",
              "    <tr>\n",
              "      <th>Domestic</th>\n",
              "      <td>0.007419</td>\n",
              "      <td>0.003247</td>\n",
              "      <td>-0.035033</td>\n",
              "      <td>1.000000</td>\n",
              "      <td>-0.047870</td>\n",
              "      <td>-0.049191</td>\n",
              "      <td>-0.063943</td>\n",
              "      <td>0.080018</td>\n",
              "      <td>0.010511</td>\n",
              "      <td>-0.092558</td>\n",
              "      <td>0.006490</td>\n",
              "      <td>-0.092282</td>\n",
              "      <td>0.009004</td>\n",
              "    </tr>\n",
              "    <tr>\n",
              "      <th>Beat</th>\n",
              "      <td>-0.002323</td>\n",
              "      <td>-0.000905</td>\n",
              "      <td>-0.021422</td>\n",
              "      <td>-0.047870</td>\n",
              "      <td>1.000000</td>\n",
              "      <td>0.977206</td>\n",
              "      <td>0.532823</td>\n",
              "      <td>-0.403116</td>\n",
              "      <td>-0.408871</td>\n",
              "      <td>0.496054</td>\n",
              "      <td>-0.002374</td>\n",
              "      <td>0.496908</td>\n",
              "      <td>-0.405916</td>\n",
              "    </tr>\n",
              "    <tr>\n",
              "      <th>District</th>\n",
              "      <td>-0.002307</td>\n",
              "      <td>-0.000821</td>\n",
              "      <td>-0.022149</td>\n",
              "      <td>-0.049191</td>\n",
              "      <td>0.977206</td>\n",
              "      <td>1.000000</td>\n",
              "      <td>0.551323</td>\n",
              "      <td>-0.427770</td>\n",
              "      <td>-0.437463</td>\n",
              "      <td>0.534512</td>\n",
              "      <td>-0.002336</td>\n",
              "      <td>0.535538</td>\n",
              "      <td>-0.434233</td>\n",
              "    </tr>\n",
              "    <tr>\n",
              "      <th>Ward</th>\n",
              "      <td>0.009396</td>\n",
              "      <td>0.012025</td>\n",
              "      <td>-0.016414</td>\n",
              "      <td>-0.063943</td>\n",
              "      <td>0.532823</td>\n",
              "      <td>0.551323</td>\n",
              "      <td>1.000000</td>\n",
              "      <td>-0.391055</td>\n",
              "      <td>-0.305512</td>\n",
              "      <td>0.480243</td>\n",
              "      <td>0.011683</td>\n",
              "      <td>0.480392</td>\n",
              "      <td>-0.301118</td>\n",
              "    </tr>\n",
              "    <tr>\n",
              "      <th>Community_Area</th>\n",
              "      <td>-0.008853</td>\n",
              "      <td>-0.012500</td>\n",
              "      <td>0.030693</td>\n",
              "      <td>0.080018</td>\n",
              "      <td>-0.403116</td>\n",
              "      <td>-0.427770</td>\n",
              "      <td>-0.391055</td>\n",
              "      <td>1.000000</td>\n",
              "      <td>0.234338</td>\n",
              "      <td>-0.708108</td>\n",
              "      <td>-0.011703</td>\n",
              "      <td>-0.707831</td>\n",
              "      <td>0.226780</td>\n",
              "    </tr>\n",
              "    <tr>\n",
              "      <th>X_Coordinate</th>\n",
              "      <td>0.009591</td>\n",
              "      <td>0.011623</td>\n",
              "      <td>-0.026610</td>\n",
              "      <td>0.010511</td>\n",
              "      <td>-0.408871</td>\n",
              "      <td>-0.437463</td>\n",
              "      <td>-0.305512</td>\n",
              "      <td>0.234338</td>\n",
              "      <td>1.000000</td>\n",
              "      <td>-0.375282</td>\n",
              "      <td>0.012056</td>\n",
              "      <td>-0.377595</td>\n",
              "      <td>0.991391</td>\n",
              "    </tr>\n",
              "    <tr>\n",
              "      <th>Y_Coordinate</th>\n",
              "      <td>0.005769</td>\n",
              "      <td>0.009711</td>\n",
              "      <td>-0.038524</td>\n",
              "      <td>-0.092558</td>\n",
              "      <td>0.496054</td>\n",
              "      <td>0.534512</td>\n",
              "      <td>0.480243</td>\n",
              "      <td>-0.708108</td>\n",
              "      <td>-0.375282</td>\n",
              "      <td>1.000000</td>\n",
              "      <td>0.008035</td>\n",
              "      <td>0.997692</td>\n",
              "      <td>-0.366656</td>\n",
              "    </tr>\n",
              "    <tr>\n",
              "      <th>Year</th>\n",
              "      <td>0.882413</td>\n",
              "      <td>0.872653</td>\n",
              "      <td>-0.042087</td>\n",
              "      <td>0.006490</td>\n",
              "      <td>-0.002374</td>\n",
              "      <td>-0.002336</td>\n",
              "      <td>0.011683</td>\n",
              "      <td>-0.011703</td>\n",
              "      <td>0.012056</td>\n",
              "      <td>0.008035</td>\n",
              "      <td>1.000000</td>\n",
              "      <td>0.007945</td>\n",
              "      <td>0.012319</td>\n",
              "    </tr>\n",
              "    <tr>\n",
              "      <th>Latitude</th>\n",
              "      <td>0.005698</td>\n",
              "      <td>0.009618</td>\n",
              "      <td>-0.038288</td>\n",
              "      <td>-0.092282</td>\n",
              "      <td>0.496908</td>\n",
              "      <td>0.535538</td>\n",
              "      <td>0.480392</td>\n",
              "      <td>-0.707831</td>\n",
              "      <td>-0.377595</td>\n",
              "      <td>0.997692</td>\n",
              "      <td>0.007945</td>\n",
              "      <td>1.000000</td>\n",
              "      <td>-0.368969</td>\n",
              "    </tr>\n",
              "    <tr>\n",
              "      <th>Longitude</th>\n",
              "      <td>0.009790</td>\n",
              "      <td>0.011910</td>\n",
              "      <td>-0.027403</td>\n",
              "      <td>0.009004</td>\n",
              "      <td>-0.405916</td>\n",
              "      <td>-0.434233</td>\n",
              "      <td>-0.301118</td>\n",
              "      <td>0.226780</td>\n",
              "      <td>0.991391</td>\n",
              "      <td>-0.366656</td>\n",
              "      <td>0.012319</td>\n",
              "      <td>-0.368969</td>\n",
              "      <td>1.000000</td>\n",
              "    </tr>\n",
              "  </tbody>\n",
              "</table>\n",
              "</div>\n",
              "      <button class=\"colab-df-convert\" onclick=\"convertToInteractive('df-37953822-a429-4648-b067-280b2502e350')\"\n",
              "              title=\"Convert this dataframe to an interactive table.\"\n",
              "              style=\"display:none;\">\n",
              "        \n",
              "  <svg xmlns=\"http://www.w3.org/2000/svg\" height=\"24px\"viewBox=\"0 0 24 24\"\n",
              "       width=\"24px\">\n",
              "    <path d=\"M0 0h24v24H0V0z\" fill=\"none\"/>\n",
              "    <path d=\"M18.56 5.44l.94 2.06.94-2.06 2.06-.94-2.06-.94-.94-2.06-.94 2.06-2.06.94zm-11 1L8.5 8.5l.94-2.06 2.06-.94-2.06-.94L8.5 2.5l-.94 2.06-2.06.94zm10 10l.94 2.06.94-2.06 2.06-.94-2.06-.94-.94-2.06-.94 2.06-2.06.94z\"/><path d=\"M17.41 7.96l-1.37-1.37c-.4-.4-.92-.59-1.43-.59-.52 0-1.04.2-1.43.59L10.3 9.45l-7.72 7.72c-.78.78-.78 2.05 0 2.83L4 21.41c.39.39.9.59 1.41.59.51 0 1.02-.2 1.41-.59l7.78-7.78 2.81-2.81c.8-.78.8-2.07 0-2.86zM5.41 20L4 18.59l7.72-7.72 1.47 1.35L5.41 20z\"/>\n",
              "  </svg>\n",
              "      </button>\n",
              "      \n",
              "  <style>\n",
              "    .colab-df-container {\n",
              "      display:flex;\n",
              "      flex-wrap:wrap;\n",
              "      gap: 12px;\n",
              "    }\n",
              "\n",
              "    .colab-df-convert {\n",
              "      background-color: #E8F0FE;\n",
              "      border: none;\n",
              "      border-radius: 50%;\n",
              "      cursor: pointer;\n",
              "      display: none;\n",
              "      fill: #1967D2;\n",
              "      height: 32px;\n",
              "      padding: 0 0 0 0;\n",
              "      width: 32px;\n",
              "    }\n",
              "\n",
              "    .colab-df-convert:hover {\n",
              "      background-color: #E2EBFA;\n",
              "      box-shadow: 0px 1px 2px rgba(60, 64, 67, 0.3), 0px 1px 3px 1px rgba(60, 64, 67, 0.15);\n",
              "      fill: #174EA6;\n",
              "    }\n",
              "\n",
              "    [theme=dark] .colab-df-convert {\n",
              "      background-color: #3B4455;\n",
              "      fill: #D2E3FC;\n",
              "    }\n",
              "\n",
              "    [theme=dark] .colab-df-convert:hover {\n",
              "      background-color: #434B5C;\n",
              "      box-shadow: 0px 1px 3px 1px rgba(0, 0, 0, 0.15);\n",
              "      filter: drop-shadow(0px 1px 2px rgba(0, 0, 0, 0.3));\n",
              "      fill: #FFFFFF;\n",
              "    }\n",
              "  </style>\n",
              "\n",
              "      <script>\n",
              "        const buttonEl =\n",
              "          document.querySelector('#df-37953822-a429-4648-b067-280b2502e350 button.colab-df-convert');\n",
              "        buttonEl.style.display =\n",
              "          google.colab.kernel.accessAllowed ? 'block' : 'none';\n",
              "\n",
              "        async function convertToInteractive(key) {\n",
              "          const element = document.querySelector('#df-37953822-a429-4648-b067-280b2502e350');\n",
              "          const dataTable =\n",
              "            await google.colab.kernel.invokeFunction('convertToInteractive',\n",
              "                                                     [key], {});\n",
              "          if (!dataTable) return;\n",
              "\n",
              "          const docLinkHtml = 'Like what you see? Visit the ' +\n",
              "            '<a target=\"_blank\" href=https://colab.research.google.com/notebooks/data_table.ipynb>data table notebook</a>'\n",
              "            + ' to learn more about interactive tables.';\n",
              "          element.innerHTML = '';\n",
              "          dataTable['output_type'] = 'display_data';\n",
              "          await google.colab.output.renderOutput(dataTable, element);\n",
              "          const docLink = document.createElement('div');\n",
              "          docLink.innerHTML = docLinkHtml;\n",
              "          element.appendChild(docLink);\n",
              "        }\n",
              "      </script>\n",
              "    </div>\n",
              "  </div>\n",
              "  "
            ]
          },
          "metadata": {},
          "execution_count": 16
        }
      ]
    },
    {
      "cell_type": "markdown",
      "source": [
        "Korelasi suatu variabel dengan dirinya sendiri adalah 1. Oleh karena itu semua nilai diagonalnya adalah 1.000000."
      ],
      "metadata": {
        "id": "Z8STNy3BiP7k"
      }
    },
    {
      "cell_type": "markdown",
      "source": [
        "**Membuat data 2D 15x15 dari modul NumPy.**"
      ],
      "metadata": {
        "id": "KFw5yAWciaEc"
      }
    },
    {
      "cell_type": "code",
      "source": [
        "plt.figure(figsize = (15,15))\n",
        "\n",
        "annot = True\n",
        "linewidths = 2\n",
        "linecolor = \"yellow\"\n",
        "\n",
        "sns.heatmap(Sharen_Odd.corr(), \n",
        "            annot = annot, \n",
        "            fmt = '.2f', \n",
        "            cmap = \"binary\", \n",
        "            linewidths = linewidths, \n",
        "            linecolor = linecolor)"
      ],
      "metadata": {
        "colab": {
          "base_uri": "https://localhost:8080/",
          "height": 961
        },
        "id": "Kt7i1QFsiTbz",
        "outputId": "03946690-f05a-4a13-d86b-7bafa8c88fe2"
      },
      "execution_count": 17,
      "outputs": [
        {
          "output_type": "execute_result",
          "data": {
            "text/plain": [
              "<matplotlib.axes._subplots.AxesSubplot at 0x7f71a2b92990>"
            ]
          },
          "metadata": {},
          "execution_count": 17
        },
        {
          "output_type": "display_data",
          "data": {
            "text/plain": [
              "<Figure size 1080x1080 with 2 Axes>"
            ],
            "image/png": "[encoded data removed]"
          },
          "metadata": {
            "needs_background": "light"
          }
        }
      ]
    },
    {
      "cell_type": "markdown",
      "source": [
        "Fungsi .corr() digunakan untuk menemukan korelasi berpasangan dari semua kolom dalam kerangka data. Nilai na apa pun secara otomatis dikecualikan. Untuk kolom tipe data non-numerik apa pun dalam kerangka data, kolom ini diabaikan."
      ],
      "metadata": {
        "id": "tRTQVWORif6Z"
      }
    },
    {
      "cell_type": "markdown",
      "source": [
        "**Menampilkan beberapa scatterplot pada variabel dalam dataset Sharen_Odd**"
      ],
      "metadata": {
        "id": "HRhgtx5O99BU"
      }
    },
    {
      "cell_type": "code",
      "source": [
        "sns.scatterplot(x = Sharen_Odd.X_Coordinate, \n",
        "                y = Sharen_Odd.Y_Coordinate, \n",
        "                color='green');  "
      ],
      "metadata": {
        "colab": {
          "base_uri": "https://localhost:8080/",
          "height": 291
        },
        "id": "SmF4j1g69PW5",
        "outputId": "2a9e0d6e-671a-48a7-e7fa-dd293320f3d5"
      },
      "execution_count": 18,
      "outputs": [
        {
          "output_type": "display_data",
          "data": {
            "text/plain": [
              "<Figure size 432x288 with 1 Axes>"
            ],
            "image/png": "[encoded data removed]"
          },
          "metadata": {
            "needs_background": "light"
          }
        }
      ]
    },
    {
      "cell_type": "code",
      "source": [
        "sns.scatterplot(x = Sharen_Odd.Latitude, \n",
        "                y = Sharen_Odd.Longitude, \n",
        "                color='blue');"
      ],
      "metadata": {
        "colab": {
          "base_uri": "https://localhost:8080/",
          "height": 279
        },
        "id": "IR-thdGU93Ak",
        "outputId": "2d8e087f-7f28-461e-c627-9d9bdfe624e2"
      },
      "execution_count": 19,
      "outputs": [
        {
          "output_type": "display_data",
          "data": {
            "text/plain": [
              "<Figure size 432x288 with 1 Axes>"
            ],
            "image/png": "[encoded data removed]"
          },
          "metadata": {
            "needs_background": "light"
          }
        }
      ]
    },
    {
      "cell_type": "code",
      "source": [
        "sns.scatterplot(x = Sharen_Odd.District, \n",
        "                y = Sharen_Odd.Ward, \n",
        "                color='purple');  "
      ],
      "metadata": {
        "colab": {
          "base_uri": "https://localhost:8080/",
          "height": 279
        },
        "id": "is5euYuv94a6",
        "outputId": "04d7f438-38c2-45cc-98f6-161fccc6ba05"
      },
      "execution_count": 20,
      "outputs": [
        {
          "output_type": "display_data",
          "data": {
            "text/plain": [
              "<Figure size 432x288 with 1 Axes>"
            ],
            "image/png": "[encoded data removed]"
          },
          "metadata": {
            "needs_background": "light"
          }
        }
      ]
    },
    {
      "cell_type": "markdown",
      "source": [
        "Scatterplot digunakan dengan beberapa pengelompokan semantik yang dapat membantu untuk memahami dengan baik dalam grafik dengan mem-plot grafik dua dimensi.Semua parameter kontrol semantik visual yang digunakan untuk mengidentifikasi himpunan bagian yang berbeda. "
      ],
      "metadata": {
        "id": "wkC4YZ38-G5c"
      }
    },
    {
      "cell_type": "markdown",
      "source": [
        "**Menampilkan BLOXPOT**"
      ],
      "metadata": {
        "id": "FgOSvkv9-MOA"
      }
    },
    {
      "cell_type": "code",
      "source": [
        "print(Sharen_Odd.boxplot(column = 'ID'))"
      ],
      "metadata": {
        "colab": {
          "base_uri": "https://localhost:8080/",
          "height": 294
        },
        "id": "IrF2x7BA-LqK",
        "outputId": "4ba12c71-8d63-441b-d84b-829750f611bc"
      },
      "execution_count": 21,
      "outputs": [
        {
          "output_type": "stream",
          "name": "stdout",
          "text": [
            "AxesSubplot(0.125,0.125;0.775x0.755)\n"
          ]
        },
        {
          "output_type": "display_data",
          "data": {
            "text/plain": [
              "<Figure size 432x288 with 1 Axes>"
            ],
            "image/png": "[encoded data removed]"
          },
          "metadata": {
            "needs_background": "light"
          }
        }
      ]
    },
    {
      "cell_type": "code",
      "source": [
        "print(Sharen_Odd.boxplot(column = 'Beat'))"
      ],
      "metadata": {
        "colab": {
          "base_uri": "https://localhost:8080/",
          "height": 283
        },
        "id": "mTpgY9BP-gbY",
        "outputId": "412c70d1-0fd9-45d8-83f7-d4df1716a55a"
      },
      "execution_count": 22,
      "outputs": [
        {
          "output_type": "stream",
          "name": "stdout",
          "text": [
            "AxesSubplot(0.125,0.125;0.775x0.755)\n"
          ]
        },
        {
          "output_type": "display_data",
          "data": {
            "text/plain": [
              "<Figure size 432x288 with 1 Axes>"
            ],
            "image/png": "[encoded data removed]"
          },
          "metadata": {
            "needs_background": "light"
          }
        }
      ]
    },
    {
      "cell_type": "code",
      "source": [
        "print(Sharen_Odd.boxplot(column = 'Year'))"
      ],
      "metadata": {
        "colab": {
          "base_uri": "https://localhost:8080/",
          "height": 283
        },
        "id": "idC4STS2-jAM",
        "outputId": "1d1e8064-6e89-4f1c-f77d-50bd4b77cbe3"
      },
      "execution_count": 23,
      "outputs": [
        {
          "output_type": "stream",
          "name": "stdout",
          "text": [
            "AxesSubplot(0.125,0.125;0.775x0.755)\n"
          ]
        },
        {
          "output_type": "display_data",
          "data": {
            "text/plain": [
              "<Figure size 432x288 with 1 Axes>"
            ],
            "image/png": "[encoded data removed]"
          },
          "metadata": {
            "needs_background": "light"
          }
        }
      ]
    },
    {
      "cell_type": "markdown",
      "source": [
        "Bloxpot adalah representasi visual dari ringkasan statistik dari kumpulan data yang diberikan. Bloxpot secara statistik merepresentasikan distribusi data melalui lima dimensi utama, yaitu nilai minimum, nilai maksimum, kuartil pertama, median (kuartil kedua), kuartil ketiga."
      ],
      "metadata": {
        "id": "JHR8gFbA-n6L"
      }
    },
    {
      "cell_type": "markdown",
      "metadata": {
        "id": "gcYoUrPb3RmQ"
      },
      "source": [
        "## 3. Data Preparation (30 pts.)"
      ]
    },
    {
      "cell_type": "markdown",
      "source": [
        "Dari hasil diatas, terdapat missing value pada kolom Location Description, X Coordinate, Y Coordinate, Latitude, Longitude, dan Location."
      ],
      "metadata": {
        "id": "4lrx8F7B-2SA"
      }
    },
    {
      "cell_type": "markdown",
      "source": [
        "**Men-drop kolom yang memiliki missing value**"
      ],
      "metadata": {
        "id": "zKIsuQBSSC3r"
      }
    },
    {
      "cell_type": "code",
      "source": [
        "Sharen_Odd.dropna()"
      ],
      "metadata": {
        "colab": {
          "base_uri": "https://localhost:8080/",
          "height": 852
        },
        "id": "2MhXh1qzSCFZ",
        "outputId": "83b0e8d4-fefc-4a92-b401-f1924bb1c108"
      },
      "execution_count": 24,
      "outputs": [
        {
          "output_type": "execute_result",
          "data": {
            "text/plain": [
              "         Unnamed:_0        ID Case_Number                    Date  \\\n",
              "0           1024161  11254362    JB183495  03/12/2018 07:32:00 PM   \n",
              "1            428801  10540177    HZ285387  05/29/2016 11:28:00 PM   \n",
              "2           1099812  11624449    JC187320  03/16/2019 02:10:00 AM   \n",
              "3            595228  11109388    JA459177  10/05/2017 11:00:00 AM   \n",
              "4           1033611  11241624    JB166623  02/26/2018 07:51:00 PM   \n",
              "...             ...       ...         ...                     ...   \n",
              "1031739      540482  11182652    JA556030  12/19/2017 08:10:00 PM   \n",
              "1031740      750276  10880463    JA189513  03/16/2017 01:00:00 PM   \n",
              "1031741      122985  10157277    HY346558  07/18/2015 09:30:00 PM   \n",
              "1031742      929773  11383727    JB354262  07/17/2018 10:56:00 PM   \n",
              "1031743      337187  10689428    HZ443522  09/21/2016 01:10:00 PM   \n",
              "\n",
              "                             Block  IUCR       Primary_Type  \\\n",
              "0              017XX W CHICAGO AVE  0560            ASSAULT   \n",
              "1                 027XX S STATE ST  0454            BATTERY   \n",
              "2            101XX S PRINCETON AVE  031A            ROBBERY   \n",
              "3                019XX W OGDEN AVE  0810              THEFT   \n",
              "4        067XX S COTTAGE GROVE AVE  1330  CRIMINAL TRESPASS   \n",
              "...                            ...   ...                ...   \n",
              "1031739         076XX S DREXEL AVE  0486            BATTERY   \n",
              "1031740         028XX N MOBILE AVE  0486            BATTERY   \n",
              "1031741           072XX S LOWE AVE  0620           BURGLARY   \n",
              "1031742          063XX S PEORIA DR  2021          NARCOTICS   \n",
              "1031743           029XX N BROADWAY  1330  CRIMINAL TRESPASS   \n",
              "\n",
              "                        Description       Location_Description  Arrest  ...  \\\n",
              "0                            SIMPLE                 RESTAURANT   False  ...   \n",
              "1        AGG PO HANDS NO/MIN INJURY              CHA APARTMENT    True  ...   \n",
              "2                    ARMED: HANDGUN                     STREET   False  ...   \n",
              "3                         OVER $500  HOSPITAL BUILDING/GROUNDS   False  ...   \n",
              "4                           TO LAND                GAS STATION    True  ...   \n",
              "...                             ...                        ...     ...  ...   \n",
              "1031739     DOMESTIC BATTERY SIMPLE                  APARTMENT   False  ...   \n",
              "1031740     DOMESTIC BATTERY SIMPLE                  RESIDENCE   False  ...   \n",
              "1031741              UNLAWFUL ENTRY                  APARTMENT   False  ...   \n",
              "1031742           POSS: BARBITUATES                     STREET    True  ...   \n",
              "1031743                     TO LAND         SMALL RETAIL STORE   False  ...   \n",
              "\n",
              "         Ward  Community_Area  FBI_Code  X_Coordinate  Y_Coordinate  Year  \\\n",
              "0         1.0            24.0       08A     1164432.0     1905388.0  2018   \n",
              "1         3.0            35.0       08B     1176730.0     1886544.0  2016   \n",
              "2         9.0            49.0        03     1176072.0     1837879.0  2019   \n",
              "3         2.0            28.0        06     1163312.0     1897077.0  2017   \n",
              "4        20.0            42.0        26     1182717.0     1860597.0  2018   \n",
              "...       ...             ...       ...           ...           ...   ...   \n",
              "1031739   8.0            69.0       08B     1183553.0     1854644.0  2017   \n",
              "1031740  29.0            19.0       08B     1133917.0     1918303.0  2017   \n",
              "1031741  17.0            68.0        05     1173398.0     1856921.0  2015   \n",
              "1031742  16.0            68.0        18     1171390.0     1862990.0  2018   \n",
              "1031743  44.0             6.0        26     1171744.0     1919789.0  2016   \n",
              "\n",
              "                     Updated_On   Latitude  Longitude  \\\n",
              "0        05/04/2018 03:51:04 PM  41.896002 -87.671521   \n",
              "1        02/10/2018 03:50:01 PM  41.844024 -87.626923   \n",
              "2        03/23/2019 04:03:16 PM  41.710497 -87.630797   \n",
              "3        02/10/2018 03:50:01 PM  41.873220 -87.675869   \n",
              "4        05/04/2018 03:51:04 PM  41.772686 -87.605758   \n",
              "...                         ...        ...        ...   \n",
              "1031739  05/04/2018 03:51:04 PM  41.756331 -87.602879   \n",
              "1031740  02/10/2018 03:50:01 PM  41.932034 -87.783294   \n",
              "1031741  02/10/2018 03:50:01 PM  41.762810 -87.640028   \n",
              "1031742  07/24/2018 04:15:32 PM  41.779508 -87.647210   \n",
              "1031743  02/10/2018 03:50:01 PM  41.935361 -87.644241   \n",
              "\n",
              "                              Location  \n",
              "0        (41.896002063, -87.671521286)  \n",
              "1        (41.844023772, -87.626923253)  \n",
              "2        (41.710496583, -87.630796959)  \n",
              "3        (41.873219626, -87.675868666)  \n",
              "4         (41.77268594, -87.605758495)  \n",
              "...                                ...  \n",
              "1031739  (41.756330877, -87.602879293)  \n",
              "1031740  (41.932033636, -87.783293785)  \n",
              "1031741  (41.762809823, -87.640027854)  \n",
              "1031742  (41.779508069, -87.647210037)  \n",
              "1031743  (41.935361214, -87.644241031)  \n",
              "\n",
              "[1016837 rows x 23 columns]"
            ],
            "text/html": [
              "\n",
              "  <div id=\"df-c0854c2c-7ed7-437b-810c-f59031a422a0\">\n",
              "    <div class=\"colab-df-container\">\n",
              "      <div>\n",
              "<style scoped>\n",
              "    .dataframe tbody tr th:only-of-type {\n",
              "        vertical-align: middle;\n",
              "    }\n",
              "\n",
              "    .dataframe tbody tr th {\n",
              "        vertical-align: top;\n",
              "    }\n",
              "\n",
              "    .dataframe thead th {\n",
              "        text-align: right;\n",
              "    }\n",
              "</style>\n",
              "<table border=\"1\" class=\"dataframe\">\n",
              "  <thead>\n",
              "    <tr style=\"text-align: right;\">\n",
              "      <th></th>\n",
              "      <th>Unnamed:_0</th>\n",
              "      <th>ID</th>\n",
              "      <th>Case_Number</th>\n",
              "      <th>Date</th>\n",
              "      <th>Block</th>\n",
              "      <th>IUCR</th>\n",
              "      <th>Primary_Type</th>\n",
              "      <th>Description</th>\n",
              "      <th>Location_Description</th>\n",
              "      <th>Arrest</th>\n",
              "      <th>...</th>\n",
              "      <th>Ward</th>\n",
              "      <th>Community_Area</th>\n",
              "      <th>FBI_Code</th>\n",
              "      <th>X_Coordinate</th>\n",
              "      <th>Y_Coordinate</th>\n",
              "      <th>Year</th>\n",
              "      <th>Updated_On</th>\n",
              "      <th>Latitude</th>\n",
              "      <th>Longitude</th>\n",
              "      <th>Location</th>\n",
              "    </tr>\n",
              "  </thead>\n",
              "  <tbody>\n",
              "    <tr>\n",
              "      <th>0</th>\n",
              "      <td>1024161</td>\n",
              "      <td>11254362</td>\n",
              "      <td>JB183495</td>\n",
              "      <td>03/12/2018 07:32:00 PM</td>\n",
              "      <td>017XX W CHICAGO AVE</td>\n",
              "      <td>0560</td>\n",
              "      <td>ASSAULT</td>\n",
              "      <td>SIMPLE</td>\n",
              "      <td>RESTAURANT</td>\n",
              "      <td>False</td>\n",
              "      <td>...</td>\n",
              "      <td>1.0</td>\n",
              "      <td>24.0</td>\n",
              "      <td>08A</td>\n",
              "      <td>1164432.0</td>\n",
              "      <td>1905388.0</td>\n",
              "      <td>2018</td>\n",
              "      <td>05/04/2018 03:51:04 PM</td>\n",
              "      <td>41.896002</td>\n",
              "      <td>-87.671521</td>\n",
              "      <td>(41.896002063, -87.671521286)</td>\n",
              "    </tr>\n",
              "    <tr>\n",
              "      <th>1</th>\n",
              "      <td>428801</td>\n",
              "      <td>10540177</td>\n",
              "      <td>HZ285387</td>\n",
              "      <td>05/29/2016 11:28:00 PM</td>\n",
              "      <td>027XX S STATE ST</td>\n",
              "      <td>0454</td>\n",
              "      <td>BATTERY</td>\n",
              "      <td>AGG PO HANDS NO/MIN INJURY</td>\n",
              "      <td>CHA APARTMENT</td>\n",
              "      <td>True</td>\n",
              "      <td>...</td>\n",
              "      <td>3.0</td>\n",
              "      <td>35.0</td>\n",
              "      <td>08B</td>\n",
              "      <td>1176730.0</td>\n",
              "      <td>1886544.0</td>\n",
              "      <td>2016</td>\n",
              "      <td>02/10/2018 03:50:01 PM</td>\n",
              "      <td>41.844024</td>\n",
              "      <td>-87.626923</td>\n",
              "      <td>(41.844023772, -87.626923253)</td>\n",
              "    </tr>\n",
              "    <tr>\n",
              "      <th>2</th>\n",
              "      <td>1099812</td>\n",
              "      <td>11624449</td>\n",
              "      <td>JC187320</td>\n",
              "      <td>03/16/2019 02:10:00 AM</td>\n",
              "      <td>101XX S PRINCETON AVE</td>\n",
              "      <td>031A</td>\n",
              "      <td>ROBBERY</td>\n",
              "      <td>ARMED: HANDGUN</td>\n",
              "      <td>STREET</td>\n",
              "      <td>False</td>\n",
              "      <td>...</td>\n",
              "      <td>9.0</td>\n",
              "      <td>49.0</td>\n",
              "      <td>03</td>\n",
              "      <td>1176072.0</td>\n",
              "      <td>1837879.0</td>\n",
              "      <td>2019</td>\n",
              "      <td>03/23/2019 04:03:16 PM</td>\n",
              "      <td>41.710497</td>\n",
              "      <td>-87.630797</td>\n",
              "      <td>(41.710496583, -87.630796959)</td>\n",
              "    </tr>\n",
              "    <tr>\n",
              "      <th>3</th>\n",
              "      <td>595228</td>\n",
              "      <td>11109388</td>\n",
              "      <td>JA459177</td>\n",
              "      <td>10/05/2017 11:00:00 AM</td>\n",
              "      <td>019XX W OGDEN AVE</td>\n",
              "      <td>0810</td>\n",
              "      <td>THEFT</td>\n",
              "      <td>OVER $500</td>\n",
              "      <td>HOSPITAL BUILDING/GROUNDS</td>\n",
              "      <td>False</td>\n",
              "      <td>...</td>\n",
              "      <td>2.0</td>\n",
              "      <td>28.0</td>\n",
              "      <td>06</td>\n",
              "      <td>1163312.0</td>\n",
              "      <td>1897077.0</td>\n",
              "      <td>2017</td>\n",
              "      <td>02/10/2018 03:50:01 PM</td>\n",
              "      <td>41.873220</td>\n",
              "      <td>-87.675869</td>\n",
              "      <td>(41.873219626, -87.675868666)</td>\n",
              "    </tr>\n",
              "    <tr>\n",
              "      <th>4</th>\n",
              "      <td>1033611</td>\n",
              "      <td>11241624</td>\n",
              "      <td>JB166623</td>\n",
              "      <td>02/26/2018 07:51:00 PM</td>\n",
              "      <td>067XX S COTTAGE GROVE AVE</td>\n",
              "      <td>1330</td>\n",
              "      <td>CRIMINAL TRESPASS</td>\n",
              "      <td>TO LAND</td>\n",
              "      <td>GAS STATION</td>\n",
              "      <td>True</td>\n",
              "      <td>...</td>\n",
              "      <td>20.0</td>\n",
              "      <td>42.0</td>\n",
              "      <td>26</td>\n",
              "      <td>1182717.0</td>\n",
              "      <td>1860597.0</td>\n",
              "      <td>2018</td>\n",
              "      <td>05/04/2018 03:51:04 PM</td>\n",
              "      <td>41.772686</td>\n",
              "      <td>-87.605758</td>\n",
              "      <td>(41.77268594, -87.605758495)</td>\n",
              "    </tr>\n",
              "    <tr>\n",
              "      <th>...</th>\n",
              "      <td>...</td>\n",
              "      <td>...</td>\n",
              "      <td>...</td>\n",
              "      <td>...</td>\n",
              "      <td>...</td>\n",
              "      <td>...</td>\n",
              "      <td>...</td>\n",
              "      <td>...</td>\n",
              "      <td>...</td>\n",
              "      <td>...</td>\n",
              "      <td>...</td>\n",
              "      <td>...</td>\n",
              "      <td>...</td>\n",
              "      <td>...</td>\n",
              "      <td>...</td>\n",
              "      <td>...</td>\n",
              "      <td>...</td>\n",
              "      <td>...</td>\n",
              "      <td>...</td>\n",
              "      <td>...</td>\n",
              "      <td>...</td>\n",
              "    </tr>\n",
              "    <tr>\n",
              "      <th>1031739</th>\n",
              "      <td>540482</td>\n",
              "      <td>11182652</td>\n",
              "      <td>JA556030</td>\n",
              "      <td>12/19/2017 08:10:00 PM</td>\n",
              "      <td>076XX S DREXEL AVE</td>\n",
              "      <td>0486</td>\n",
              "      <td>BATTERY</td>\n",
              "      <td>DOMESTIC BATTERY SIMPLE</td>\n",
              "      <td>APARTMENT</td>\n",
              "      <td>False</td>\n",
              "      <td>...</td>\n",
              "      <td>8.0</td>\n",
              "      <td>69.0</td>\n",
              "      <td>08B</td>\n",
              "      <td>1183553.0</td>\n",
              "      <td>1854644.0</td>\n",
              "      <td>2017</td>\n",
              "      <td>05/04/2018 03:51:04 PM</td>\n",
              "      <td>41.756331</td>\n",
              "      <td>-87.602879</td>\n",
              "      <td>(41.756330877, -87.602879293)</td>\n",
              "    </tr>\n",
              "    <tr>\n",
              "      <th>1031740</th>\n",
              "      <td>750276</td>\n",
              "      <td>10880463</td>\n",
              "      <td>JA189513</td>\n",
              "      <td>03/16/2017 01:00:00 PM</td>\n",
              "      <td>028XX N MOBILE AVE</td>\n",
              "      <td>0486</td>\n",
              "      <td>BATTERY</td>\n",
              "      <td>DOMESTIC BATTERY SIMPLE</td>\n",
              "      <td>RESIDENCE</td>\n",
              "      <td>False</td>\n",
              "      <td>...</td>\n",
              "      <td>29.0</td>\n",
              "      <td>19.0</td>\n",
              "      <td>08B</td>\n",
              "      <td>1133917.0</td>\n",
              "      <td>1918303.0</td>\n",
              "      <td>2017</td>\n",
              "      <td>02/10/2018 03:50:01 PM</td>\n",
              "      <td>41.932034</td>\n",
              "      <td>-87.783294</td>\n",
              "      <td>(41.932033636, -87.783293785)</td>\n",
              "    </tr>\n",
              "    <tr>\n",
              "      <th>1031741</th>\n",
              "      <td>122985</td>\n",
              "      <td>10157277</td>\n",
              "      <td>HY346558</td>\n",
              "      <td>07/18/2015 09:30:00 PM</td>\n",
              "      <td>072XX S LOWE AVE</td>\n",
              "      <td>0620</td>\n",
              "      <td>BURGLARY</td>\n",
              "      <td>UNLAWFUL ENTRY</td>\n",
              "      <td>APARTMENT</td>\n",
              "      <td>False</td>\n",
              "      <td>...</td>\n",
              "      <td>17.0</td>\n",
              "      <td>68.0</td>\n",
              "      <td>05</td>\n",
              "      <td>1173398.0</td>\n",
              "      <td>1856921.0</td>\n",
              "      <td>2015</td>\n",
              "      <td>02/10/2018 03:50:01 PM</td>\n",
              "      <td>41.762810</td>\n",
              "      <td>-87.640028</td>\n",
              "      <td>(41.762809823, -87.640027854)</td>\n",
              "    </tr>\n",
              "    <tr>\n",
              "      <th>1031742</th>\n",
              "      <td>929773</td>\n",
              "      <td>11383727</td>\n",
              "      <td>JB354262</td>\n",
              "      <td>07/17/2018 10:56:00 PM</td>\n",
              "      <td>063XX S PEORIA DR</td>\n",
              "      <td>2021</td>\n",
              "      <td>NARCOTICS</td>\n",
              "      <td>POSS: BARBITUATES</td>\n",
              "      <td>STREET</td>\n",
              "      <td>True</td>\n",
              "      <td>...</td>\n",
              "      <td>16.0</td>\n",
              "      <td>68.0</td>\n",
              "      <td>18</td>\n",
              "      <td>1171390.0</td>\n",
              "      <td>1862990.0</td>\n",
              "      <td>2018</td>\n",
              "      <td>07/24/2018 04:15:32 PM</td>\n",
              "      <td>41.779508</td>\n",
              "      <td>-87.647210</td>\n",
              "      <td>(41.779508069, -87.647210037)</td>\n",
              "    </tr>\n",
              "    <tr>\n",
              "      <th>1031743</th>\n",
              "      <td>337187</td>\n",
              "      <td>10689428</td>\n",
              "      <td>HZ443522</td>\n",
              "      <td>09/21/2016 01:10:00 PM</td>\n",
              "      <td>029XX N BROADWAY</td>\n",
              "      <td>1330</td>\n",
              "      <td>CRIMINAL TRESPASS</td>\n",
              "      <td>TO LAND</td>\n",
              "      <td>SMALL RETAIL STORE</td>\n",
              "      <td>False</td>\n",
              "      <td>...</td>\n",
              "      <td>44.0</td>\n",
              "      <td>6.0</td>\n",
              "      <td>26</td>\n",
              "      <td>1171744.0</td>\n",
              "      <td>1919789.0</td>\n",
              "      <td>2016</td>\n",
              "      <td>02/10/2018 03:50:01 PM</td>\n",
              "      <td>41.935361</td>\n",
              "      <td>-87.644241</td>\n",
              "      <td>(41.935361214, -87.644241031)</td>\n",
              "    </tr>\n",
              "  </tbody>\n",
              "</table>\n",
              "<p>1016837 rows × 23 columns</p>\n",
              "</div>\n",
              "      <button class=\"colab-df-convert\" onclick=\"convertToInteractive('df-c0854c2c-7ed7-437b-810c-f59031a422a0')\"\n",
              "              title=\"Convert this dataframe to an interactive table.\"\n",
              "              style=\"display:none;\">\n",
              "        \n",
              "  <svg xmlns=\"http://www.w3.org/2000/svg\" height=\"24px\"viewBox=\"0 0 24 24\"\n",
              "       width=\"24px\">\n",
              "    <path d=\"M0 0h24v24H0V0z\" fill=\"none\"/>\n",
              "    <path d=\"M18.56 5.44l.94 2.06.94-2.06 2.06-.94-2.06-.94-.94-2.06-.94 2.06-2.06.94zm-11 1L8.5 8.5l.94-2.06 2.06-.94-2.06-.94L8.5 2.5l-.94 2.06-2.06.94zm10 10l.94 2.06.94-2.06 2.06-.94-2.06-.94-.94-2.06-.94 2.06-2.06.94z\"/><path d=\"M17.41 7.96l-1.37-1.37c-.4-.4-.92-.59-1.43-.59-.52 0-1.04.2-1.43.59L10.3 9.45l-7.72 7.72c-.78.78-.78 2.05 0 2.83L4 21.41c.39.39.9.59 1.41.59.51 0 1.02-.2 1.41-.59l7.78-7.78 2.81-2.81c.8-.78.8-2.07 0-2.86zM5.41 20L4 18.59l7.72-7.72 1.47 1.35L5.41 20z\"/>\n",
              "  </svg>\n",
              "      </button>\n",
              "      \n",
              "  <style>\n",
              "    .colab-df-container {\n",
              "      display:flex;\n",
              "      flex-wrap:wrap;\n",
              "      gap: 12px;\n",
              "    }\n",
              "\n",
              "    .colab-df-convert {\n",
              "      background-color: #E8F0FE;\n",
              "      border: none;\n",
              "      border-radius: 50%;\n",
              "      cursor: pointer;\n",
              "      display: none;\n",
              "      fill: #1967D2;\n",
              "      height: 32px;\n",
              "      padding: 0 0 0 0;\n",
              "      width: 32px;\n",
              "    }\n",
              "\n",
              "    .colab-df-convert:hover {\n",
              "      background-color: #E2EBFA;\n",
              "      box-shadow: 0px 1px 2px rgba(60, 64, 67, 0.3), 0px 1px 3px 1px rgba(60, 64, 67, 0.15);\n",
              "      fill: #174EA6;\n",
              "    }\n",
              "\n",
              "    [theme=dark] .colab-df-convert {\n",
              "      background-color: #3B4455;\n",
              "      fill: #D2E3FC;\n",
              "    }\n",
              "\n",
              "    [theme=dark] .colab-df-convert:hover {\n",
              "      background-color: #434B5C;\n",
              "      box-shadow: 0px 1px 3px 1px rgba(0, 0, 0, 0.15);\n",
              "      filter: drop-shadow(0px 1px 2px rgba(0, 0, 0, 0.3));\n",
              "      fill: #FFFFFF;\n",
              "    }\n",
              "  </style>\n",
              "\n",
              "      <script>\n",
              "        const buttonEl =\n",
              "          document.querySelector('#df-c0854c2c-7ed7-437b-810c-f59031a422a0 button.colab-df-convert');\n",
              "        buttonEl.style.display =\n",
              "          google.colab.kernel.accessAllowed ? 'block' : 'none';\n",
              "\n",
              "        async function convertToInteractive(key) {\n",
              "          const element = document.querySelector('#df-c0854c2c-7ed7-437b-810c-f59031a422a0');\n",
              "          const dataTable =\n",
              "            await google.colab.kernel.invokeFunction('convertToInteractive',\n",
              "                                                     [key], {});\n",
              "          if (!dataTable) return;\n",
              "\n",
              "          const docLinkHtml = 'Like what you see? Visit the ' +\n",
              "            '<a target=\"_blank\" href=https://colab.research.google.com/notebooks/data_table.ipynb>data table notebook</a>'\n",
              "            + ' to learn more about interactive tables.';\n",
              "          element.innerHTML = '';\n",
              "          dataTable['output_type'] = 'display_data';\n",
              "          await google.colab.output.renderOutput(dataTable, element);\n",
              "          const docLink = document.createElement('div');\n",
              "          docLink.innerHTML = docLinkHtml;\n",
              "          element.appendChild(docLink);\n",
              "        }\n",
              "      </script>\n",
              "    </div>\n",
              "  </div>\n",
              "  "
            ]
          },
          "metadata": {},
          "execution_count": 24
        }
      ]
    },
    {
      "cell_type": "markdown",
      "source": [
        "Data diatas sudah tidak memiliki missing value. Selanjutnya kita men-drop data yang terduplikat."
      ],
      "metadata": {
        "id": "Ty9ARXKvTH0q"
      }
    },
    {
      "cell_type": "markdown",
      "source": [
        "**Menghapus data yang terduplikat pada dataset Sharen_Odd**"
      ],
      "metadata": {
        "id": "lHd21FhvVFtY"
      }
    },
    {
      "cell_type": "code",
      "source": [
        "Sharen_Odd.drop_duplicates()"
      ],
      "metadata": {
        "colab": {
          "base_uri": "https://localhost:8080/",
          "height": 852
        },
        "id": "VTH06NZoTNdB",
        "outputId": "ac10e6c5-2413-4798-902d-c89a65cd66cc"
      },
      "execution_count": 25,
      "outputs": [
        {
          "output_type": "execute_result",
          "data": {
            "text/plain": [
              "         Unnamed:_0        ID Case_Number                    Date  \\\n",
              "0           1024161  11254362    JB183495  03/12/2018 07:32:00 PM   \n",
              "1            428801  10540177    HZ285387  05/29/2016 11:28:00 PM   \n",
              "2           1099812  11624449    JC187320  03/16/2019 02:10:00 AM   \n",
              "3            595228  11109388    JA459177  10/05/2017 11:00:00 AM   \n",
              "4           1033611  11241624    JB166623  02/26/2018 07:51:00 PM   \n",
              "...             ...       ...         ...                     ...   \n",
              "1031739      540482  11182652    JA556030  12/19/2017 08:10:00 PM   \n",
              "1031740      750276  10880463    JA189513  03/16/2017 01:00:00 PM   \n",
              "1031741      122985  10157277    HY346558  07/18/2015 09:30:00 PM   \n",
              "1031742      929773  11383727    JB354262  07/17/2018 10:56:00 PM   \n",
              "1031743      337187  10689428    HZ443522  09/21/2016 01:10:00 PM   \n",
              "\n",
              "                             Block  IUCR       Primary_Type  \\\n",
              "0              017XX W CHICAGO AVE  0560            ASSAULT   \n",
              "1                 027XX S STATE ST  0454            BATTERY   \n",
              "2            101XX S PRINCETON AVE  031A            ROBBERY   \n",
              "3                019XX W OGDEN AVE  0810              THEFT   \n",
              "4        067XX S COTTAGE GROVE AVE  1330  CRIMINAL TRESPASS   \n",
              "...                            ...   ...                ...   \n",
              "1031739         076XX S DREXEL AVE  0486            BATTERY   \n",
              "1031740         028XX N MOBILE AVE  0486            BATTERY   \n",
              "1031741           072XX S LOWE AVE  0620           BURGLARY   \n",
              "1031742          063XX S PEORIA DR  2021          NARCOTICS   \n",
              "1031743           029XX N BROADWAY  1330  CRIMINAL TRESPASS   \n",
              "\n",
              "                        Description       Location_Description  Arrest  ...  \\\n",
              "0                            SIMPLE                 RESTAURANT   False  ...   \n",
              "1        AGG PO HANDS NO/MIN INJURY              CHA APARTMENT    True  ...   \n",
              "2                    ARMED: HANDGUN                     STREET   False  ...   \n",
              "3                         OVER $500  HOSPITAL BUILDING/GROUNDS   False  ...   \n",
              "4                           TO LAND                GAS STATION    True  ...   \n",
              "...                             ...                        ...     ...  ...   \n",
              "1031739     DOMESTIC BATTERY SIMPLE                  APARTMENT   False  ...   \n",
              "1031740     DOMESTIC BATTERY SIMPLE                  RESIDENCE   False  ...   \n",
              "1031741              UNLAWFUL ENTRY                  APARTMENT   False  ...   \n",
              "1031742           POSS: BARBITUATES                     STREET    True  ...   \n",
              "1031743                     TO LAND         SMALL RETAIL STORE   False  ...   \n",
              "\n",
              "         Ward  Community_Area  FBI_Code  X_Coordinate  Y_Coordinate  Year  \\\n",
              "0         1.0            24.0       08A     1164432.0     1905388.0  2018   \n",
              "1         3.0            35.0       08B     1176730.0     1886544.0  2016   \n",
              "2         9.0            49.0        03     1176072.0     1837879.0  2019   \n",
              "3         2.0            28.0        06     1163312.0     1897077.0  2017   \n",
              "4        20.0            42.0        26     1182717.0     1860597.0  2018   \n",
              "...       ...             ...       ...           ...           ...   ...   \n",
              "1031739   8.0            69.0       08B     1183553.0     1854644.0  2017   \n",
              "1031740  29.0            19.0       08B     1133917.0     1918303.0  2017   \n",
              "1031741  17.0            68.0        05     1173398.0     1856921.0  2015   \n",
              "1031742  16.0            68.0        18     1171390.0     1862990.0  2018   \n",
              "1031743  44.0             6.0        26     1171744.0     1919789.0  2016   \n",
              "\n",
              "                     Updated_On   Latitude  Longitude  \\\n",
              "0        05/04/2018 03:51:04 PM  41.896002 -87.671521   \n",
              "1        02/10/2018 03:50:01 PM  41.844024 -87.626923   \n",
              "2        03/23/2019 04:03:16 PM  41.710497 -87.630797   \n",
              "3        02/10/2018 03:50:01 PM  41.873220 -87.675869   \n",
              "4        05/04/2018 03:51:04 PM  41.772686 -87.605758   \n",
              "...                         ...        ...        ...   \n",
              "1031739  05/04/2018 03:51:04 PM  41.756331 -87.602879   \n",
              "1031740  02/10/2018 03:50:01 PM  41.932034 -87.783294   \n",
              "1031741  02/10/2018 03:50:01 PM  41.762810 -87.640028   \n",
              "1031742  07/24/2018 04:15:32 PM  41.779508 -87.647210   \n",
              "1031743  02/10/2018 03:50:01 PM  41.935361 -87.644241   \n",
              "\n",
              "                              Location  \n",
              "0        (41.896002063, -87.671521286)  \n",
              "1        (41.844023772, -87.626923253)  \n",
              "2        (41.710496583, -87.630796959)  \n",
              "3        (41.873219626, -87.675868666)  \n",
              "4         (41.77268594, -87.605758495)  \n",
              "...                                ...  \n",
              "1031739  (41.756330877, -87.602879293)  \n",
              "1031740  (41.932033636, -87.783293785)  \n",
              "1031741  (41.762809823, -87.640027854)  \n",
              "1031742  (41.779508069, -87.647210037)  \n",
              "1031743  (41.935361214, -87.644241031)  \n",
              "\n",
              "[1031744 rows x 23 columns]"
            ],
            "text/html": [
              "\n",
              "  <div id=\"df-6bba9da5-1719-4664-9c21-a0c2d9fbb14a\">\n",
              "    <div class=\"colab-df-container\">\n",
              "      <div>\n",
              "<style scoped>\n",
              "    .dataframe tbody tr th:only-of-type {\n",
              "        vertical-align: middle;\n",
              "    }\n",
              "\n",
              "    .dataframe tbody tr th {\n",
              "        vertical-align: top;\n",
              "    }\n",
              "\n",
              "    .dataframe thead th {\n",
              "        text-align: right;\n",
              "    }\n",
              "</style>\n",
              "<table border=\"1\" class=\"dataframe\">\n",
              "  <thead>\n",
              "    <tr style=\"text-align: right;\">\n",
              "      <th></th>\n",
              "      <th>Unnamed:_0</th>\n",
              "      <th>ID</th>\n",
              "      <th>Case_Number</th>\n",
              "      <th>Date</th>\n",
              "      <th>Block</th>\n",
              "      <th>IUCR</th>\n",
              "      <th>Primary_Type</th>\n",
              "      <th>Description</th>\n",
              "      <th>Location_Description</th>\n",
              "      <th>Arrest</th>\n",
              "      <th>...</th>\n",
              "      <th>Ward</th>\n",
              "      <th>Community_Area</th>\n",
              "      <th>FBI_Code</th>\n",
              "      <th>X_Coordinate</th>\n",
              "      <th>Y_Coordinate</th>\n",
              "      <th>Year</th>\n",
              "      <th>Updated_On</th>\n",
              "      <th>Latitude</th>\n",
              "      <th>Longitude</th>\n",
              "      <th>Location</th>\n",
              "    </tr>\n",
              "  </thead>\n",
              "  <tbody>\n",
              "    <tr>\n",
              "      <th>0</th>\n",
              "      <td>1024161</td>\n",
              "      <td>11254362</td>\n",
              "      <td>JB183495</td>\n",
              "      <td>03/12/2018 07:32:00 PM</td>\n",
              "      <td>017XX W CHICAGO AVE</td>\n",
              "      <td>0560</td>\n",
              "      <td>ASSAULT</td>\n",
              "      <td>SIMPLE</td>\n",
              "      <td>RESTAURANT</td>\n",
              "      <td>False</td>\n",
              "      <td>...</td>\n",
              "      <td>1.0</td>\n",
              "      <td>24.0</td>\n",
              "      <td>08A</td>\n",
              "      <td>1164432.0</td>\n",
              "      <td>1905388.0</td>\n",
              "      <td>2018</td>\n",
              "      <td>05/04/2018 03:51:04 PM</td>\n",
              "      <td>41.896002</td>\n",
              "      <td>-87.671521</td>\n",
              "      <td>(41.896002063, -87.671521286)</td>\n",
              "    </tr>\n",
              "    <tr>\n",
              "      <th>1</th>\n",
              "      <td>428801</td>\n",
              "      <td>10540177</td>\n",
              "      <td>HZ285387</td>\n",
              "      <td>05/29/2016 11:28:00 PM</td>\n",
              "      <td>027XX S STATE ST</td>\n",
              "      <td>0454</td>\n",
              "      <td>BATTERY</td>\n",
              "      <td>AGG PO HANDS NO/MIN INJURY</td>\n",
              "      <td>CHA APARTMENT</td>\n",
              "      <td>True</td>\n",
              "      <td>...</td>\n",
              "      <td>3.0</td>\n",
              "      <td>35.0</td>\n",
              "      <td>08B</td>\n",
              "      <td>1176730.0</td>\n",
              "      <td>1886544.0</td>\n",
              "      <td>2016</td>\n",
              "      <td>02/10/2018 03:50:01 PM</td>\n",
              "      <td>41.844024</td>\n",
              "      <td>-87.626923</td>\n",
              "      <td>(41.844023772, -87.626923253)</td>\n",
              "    </tr>\n",
              "    <tr>\n",
              "      <th>2</th>\n",
              "      <td>1099812</td>\n",
              "      <td>11624449</td>\n",
              "      <td>JC187320</td>\n",
              "      <td>03/16/2019 02:10:00 AM</td>\n",
              "      <td>101XX S PRINCETON AVE</td>\n",
              "      <td>031A</td>\n",
              "      <td>ROBBERY</td>\n",
              "      <td>ARMED: HANDGUN</td>\n",
              "      <td>STREET</td>\n",
              "      <td>False</td>\n",
              "      <td>...</td>\n",
              "      <td>9.0</td>\n",
              "      <td>49.0</td>\n",
              "      <td>03</td>\n",
              "      <td>1176072.0</td>\n",
              "      <td>1837879.0</td>\n",
              "      <td>2019</td>\n",
              "      <td>03/23/2019 04:03:16 PM</td>\n",
              "      <td>41.710497</td>\n",
              "      <td>-87.630797</td>\n",
              "      <td>(41.710496583, -87.630796959)</td>\n",
              "    </tr>\n",
              "    <tr>\n",
              "      <th>3</th>\n",
              "      <td>595228</td>\n",
              "      <td>11109388</td>\n",
              "      <td>JA459177</td>\n",
              "      <td>10/05/2017 11:00:00 AM</td>\n",
              "      <td>019XX W OGDEN AVE</td>\n",
              "      <td>0810</td>\n",
              "      <td>THEFT</td>\n",
              "      <td>OVER $500</td>\n",
              "      <td>HOSPITAL BUILDING/GROUNDS</td>\n",
              "      <td>False</td>\n",
              "      <td>...</td>\n",
              "      <td>2.0</td>\n",
              "      <td>28.0</td>\n",
              "      <td>06</td>\n",
              "      <td>1163312.0</td>\n",
              "      <td>1897077.0</td>\n",
              "      <td>2017</td>\n",
              "      <td>02/10/2018 03:50:01 PM</td>\n",
              "      <td>41.873220</td>\n",
              "      <td>-87.675869</td>\n",
              "      <td>(41.873219626, -87.675868666)</td>\n",
              "    </tr>\n",
              "    <tr>\n",
              "      <th>4</th>\n",
              "      <td>1033611</td>\n",
              "      <td>11241624</td>\n",
              "      <td>JB166623</td>\n",
              "      <td>02/26/2018 07:51:00 PM</td>\n",
              "      <td>067XX S COTTAGE GROVE AVE</td>\n",
              "      <td>1330</td>\n",
              "      <td>CRIMINAL TRESPASS</td>\n",
              "      <td>TO LAND</td>\n",
              "      <td>GAS STATION</td>\n",
              "      <td>True</td>\n",
              "      <td>...</td>\n",
              "      <td>20.0</td>\n",
              "      <td>42.0</td>\n",
              "      <td>26</td>\n",
              "      <td>1182717.0</td>\n",
              "      <td>1860597.0</td>\n",
              "      <td>2018</td>\n",
              "      <td>05/04/2018 03:51:04 PM</td>\n",
              "      <td>41.772686</td>\n",
              "      <td>-87.605758</td>\n",
              "      <td>(41.77268594, -87.605758495)</td>\n",
              "    </tr>\n",
              "    <tr>\n",
              "      <th>...</th>\n",
              "      <td>...</td>\n",
              "      <td>...</td>\n",
              "      <td>...</td>\n",
              "      <td>...</td>\n",
              "      <td>...</td>\n",
              "      <td>...</td>\n",
              "      <td>...</td>\n",
              "      <td>...</td>\n",
              "      <td>...</td>\n",
              "      <td>...</td>\n",
              "      <td>...</td>\n",
              "      <td>...</td>\n",
              "      <td>...</td>\n",
              "      <td>...</td>\n",
              "      <td>...</td>\n",
              "      <td>...</td>\n",
              "      <td>...</td>\n",
              "      <td>...</td>\n",
              "      <td>...</td>\n",
              "      <td>...</td>\n",
              "      <td>...</td>\n",
              "    </tr>\n",
              "    <tr>\n",
              "      <th>1031739</th>\n",
              "      <td>540482</td>\n",
              "      <td>11182652</td>\n",
              "      <td>JA556030</td>\n",
              "      <td>12/19/2017 08:10:00 PM</td>\n",
              "      <td>076XX S DREXEL AVE</td>\n",
              "      <td>0486</td>\n",
              "      <td>BATTERY</td>\n",
              "      <td>DOMESTIC BATTERY SIMPLE</td>\n",
              "      <td>APARTMENT</td>\n",
              "      <td>False</td>\n",
              "      <td>...</td>\n",
              "      <td>8.0</td>\n",
              "      <td>69.0</td>\n",
              "      <td>08B</td>\n",
              "      <td>1183553.0</td>\n",
              "      <td>1854644.0</td>\n",
              "      <td>2017</td>\n",
              "      <td>05/04/2018 03:51:04 PM</td>\n",
              "      <td>41.756331</td>\n",
              "      <td>-87.602879</td>\n",
              "      <td>(41.756330877, -87.602879293)</td>\n",
              "    </tr>\n",
              "    <tr>\n",
              "      <th>1031740</th>\n",
              "      <td>750276</td>\n",
              "      <td>10880463</td>\n",
              "      <td>JA189513</td>\n",
              "      <td>03/16/2017 01:00:00 PM</td>\n",
              "      <td>028XX N MOBILE AVE</td>\n",
              "      <td>0486</td>\n",
              "      <td>BATTERY</td>\n",
              "      <td>DOMESTIC BATTERY SIMPLE</td>\n",
              "      <td>RESIDENCE</td>\n",
              "      <td>False</td>\n",
              "      <td>...</td>\n",
              "      <td>29.0</td>\n",
              "      <td>19.0</td>\n",
              "      <td>08B</td>\n",
              "      <td>1133917.0</td>\n",
              "      <td>1918303.0</td>\n",
              "      <td>2017</td>\n",
              "      <td>02/10/2018 03:50:01 PM</td>\n",
              "      <td>41.932034</td>\n",
              "      <td>-87.783294</td>\n",
              "      <td>(41.932033636, -87.783293785)</td>\n",
              "    </tr>\n",
              "    <tr>\n",
              "      <th>1031741</th>\n",
              "      <td>122985</td>\n",
              "      <td>10157277</td>\n",
              "      <td>HY346558</td>\n",
              "      <td>07/18/2015 09:30:00 PM</td>\n",
              "      <td>072XX S LOWE AVE</td>\n",
              "      <td>0620</td>\n",
              "      <td>BURGLARY</td>\n",
              "      <td>UNLAWFUL ENTRY</td>\n",
              "      <td>APARTMENT</td>\n",
              "      <td>False</td>\n",
              "      <td>...</td>\n",
              "      <td>17.0</td>\n",
              "      <td>68.0</td>\n",
              "      <td>05</td>\n",
              "      <td>1173398.0</td>\n",
              "      <td>1856921.0</td>\n",
              "      <td>2015</td>\n",
              "      <td>02/10/2018 03:50:01 PM</td>\n",
              "      <td>41.762810</td>\n",
              "      <td>-87.640028</td>\n",
              "      <td>(41.762809823, -87.640027854)</td>\n",
              "    </tr>\n",
              "    <tr>\n",
              "      <th>1031742</th>\n",
              "      <td>929773</td>\n",
              "      <td>11383727</td>\n",
              "      <td>JB354262</td>\n",
              "      <td>07/17/2018 10:56:00 PM</td>\n",
              "      <td>063XX S PEORIA DR</td>\n",
              "      <td>2021</td>\n",
              "      <td>NARCOTICS</td>\n",
              "      <td>POSS: BARBITUATES</td>\n",
              "      <td>STREET</td>\n",
              "      <td>True</td>\n",
              "      <td>...</td>\n",
              "      <td>16.0</td>\n",
              "      <td>68.0</td>\n",
              "      <td>18</td>\n",
              "      <td>1171390.0</td>\n",
              "      <td>1862990.0</td>\n",
              "      <td>2018</td>\n",
              "      <td>07/24/2018 04:15:32 PM</td>\n",
              "      <td>41.779508</td>\n",
              "      <td>-87.647210</td>\n",
              "      <td>(41.779508069, -87.647210037)</td>\n",
              "    </tr>\n",
              "    <tr>\n",
              "      <th>1031743</th>\n",
              "      <td>337187</td>\n",
              "      <td>10689428</td>\n",
              "      <td>HZ443522</td>\n",
              "      <td>09/21/2016 01:10:00 PM</td>\n",
              "      <td>029XX N BROADWAY</td>\n",
              "      <td>1330</td>\n",
              "      <td>CRIMINAL TRESPASS</td>\n",
              "      <td>TO LAND</td>\n",
              "      <td>SMALL RETAIL STORE</td>\n",
              "      <td>False</td>\n",
              "      <td>...</td>\n",
              "      <td>44.0</td>\n",
              "      <td>6.0</td>\n",
              "      <td>26</td>\n",
              "      <td>1171744.0</td>\n",
              "      <td>1919789.0</td>\n",
              "      <td>2016</td>\n",
              "      <td>02/10/2018 03:50:01 PM</td>\n",
              "      <td>41.935361</td>\n",
              "      <td>-87.644241</td>\n",
              "      <td>(41.935361214, -87.644241031)</td>\n",
              "    </tr>\n",
              "  </tbody>\n",
              "</table>\n",
              "<p>1031744 rows × 23 columns</p>\n",
              "</div>\n",
              "      <button class=\"colab-df-convert\" onclick=\"convertToInteractive('df-6bba9da5-1719-4664-9c21-a0c2d9fbb14a')\"\n",
              "              title=\"Convert this dataframe to an interactive table.\"\n",
              "              style=\"display:none;\">\n",
              "        \n",
              "  <svg xmlns=\"http://www.w3.org/2000/svg\" height=\"24px\"viewBox=\"0 0 24 24\"\n",
              "       width=\"24px\">\n",
              "    <path d=\"M0 0h24v24H0V0z\" fill=\"none\"/>\n",
              "    <path d=\"M18.56 5.44l.94 2.06.94-2.06 2.06-.94-2.06-.94-.94-2.06-.94 2.06-2.06.94zm-11 1L8.5 8.5l.94-2.06 2.06-.94-2.06-.94L8.5 2.5l-.94 2.06-2.06.94zm10 10l.94 2.06.94-2.06 2.06-.94-2.06-.94-.94-2.06-.94 2.06-2.06.94z\"/><path d=\"M17.41 7.96l-1.37-1.37c-.4-.4-.92-.59-1.43-.59-.52 0-1.04.2-1.43.59L10.3 9.45l-7.72 7.72c-.78.78-.78 2.05 0 2.83L4 21.41c.39.39.9.59 1.41.59.51 0 1.02-.2 1.41-.59l7.78-7.78 2.81-2.81c.8-.78.8-2.07 0-2.86zM5.41 20L4 18.59l7.72-7.72 1.47 1.35L5.41 20z\"/>\n",
              "  </svg>\n",
              "      </button>\n",
              "      \n",
              "  <style>\n",
              "    .colab-df-container {\n",
              "      display:flex;\n",
              "      flex-wrap:wrap;\n",
              "      gap: 12px;\n",
              "    }\n",
              "\n",
              "    .colab-df-convert {\n",
              "      background-color: #E8F0FE;\n",
              "      border: none;\n",
              "      border-radius: 50%;\n",
              "      cursor: pointer;\n",
              "      display: none;\n",
              "      fill: #1967D2;\n",
              "      height: 32px;\n",
              "      padding: 0 0 0 0;\n",
              "      width: 32px;\n",
              "    }\n",
              "\n",
              "    .colab-df-convert:hover {\n",
              "      background-color: #E2EBFA;\n",
              "      box-shadow: 0px 1px 2px rgba(60, 64, 67, 0.3), 0px 1px 3px 1px rgba(60, 64, 67, 0.15);\n",
              "      fill: #174EA6;\n",
              "    }\n",
              "\n",
              "    [theme=dark] .colab-df-convert {\n",
              "      background-color: #3B4455;\n",
              "      fill: #D2E3FC;\n",
              "    }\n",
              "\n",
              "    [theme=dark] .colab-df-convert:hover {\n",
              "      background-color: #434B5C;\n",
              "      box-shadow: 0px 1px 3px 1px rgba(0, 0, 0, 0.15);\n",
              "      filter: drop-shadow(0px 1px 2px rgba(0, 0, 0, 0.3));\n",
              "      fill: #FFFFFF;\n",
              "    }\n",
              "  </style>\n",
              "\n",
              "      <script>\n",
              "        const buttonEl =\n",
              "          document.querySelector('#df-6bba9da5-1719-4664-9c21-a0c2d9fbb14a button.colab-df-convert');\n",
              "        buttonEl.style.display =\n",
              "          google.colab.kernel.accessAllowed ? 'block' : 'none';\n",
              "\n",
              "        async function convertToInteractive(key) {\n",
              "          const element = document.querySelector('#df-6bba9da5-1719-4664-9c21-a0c2d9fbb14a');\n",
              "          const dataTable =\n",
              "            await google.colab.kernel.invokeFunction('convertToInteractive',\n",
              "                                                     [key], {});\n",
              "          if (!dataTable) return;\n",
              "\n",
              "          const docLinkHtml = 'Like what you see? Visit the ' +\n",
              "            '<a target=\"_blank\" href=https://colab.research.google.com/notebooks/data_table.ipynb>data table notebook</a>'\n",
              "            + ' to learn more about interactive tables.';\n",
              "          element.innerHTML = '';\n",
              "          dataTable['output_type'] = 'display_data';\n",
              "          await google.colab.output.renderOutput(dataTable, element);\n",
              "          const docLink = document.createElement('div');\n",
              "          docLink.innerHTML = docLinkHtml;\n",
              "          element.appendChild(docLink);\n",
              "        }\n",
              "      </script>\n",
              "    </div>\n",
              "  </div>\n",
              "  "
            ]
          },
          "metadata": {},
          "execution_count": 25
        }
      ]
    },
    {
      "cell_type": "markdown",
      "source": [
        "Karena sudah tidak ada lagi data yang missing value ataupun terduplikat, kita kembali mengecek bentuk dari dataset Sharen_Odd."
      ],
      "metadata": {
        "id": "WB3CPWoWTUGI"
      }
    },
    {
      "cell_type": "code",
      "source": [
        "Sharen_Odd.shape"
      ],
      "metadata": {
        "colab": {
          "base_uri": "https://localhost:8080/",
          "height": 0
        },
        "id": "QWAT7jZ2VKiO",
        "outputId": "ea2f2164-cee8-4e7d-8672-f0a6d7501019"
      },
      "execution_count": 26,
      "outputs": [
        {
          "output_type": "execute_result",
          "data": {
            "text/plain": [
              "(1031744, 23)"
            ]
          },
          "metadata": {},
          "execution_count": 26
        }
      ]
    },
    {
      "cell_type": "markdown",
      "source": [
        "Dari hasil diatas, karena Shape nya sama yaitu 1031744 baris dan 23 kolom, maka dapat disimpulkan sudah tidak ada lagi data yang duplikat."
      ],
      "metadata": {
        "id": "rkBfNNgBVM2Q"
      }
    },
    {
      "cell_type": "markdown",
      "source": [
        "**Numerical Columns**"
      ],
      "metadata": {
        "id": "_muJNhitICqE"
      }
    },
    {
      "cell_type": "code",
      "source": [
        "NumColumns = Sharen_Odd.select_dtypes(include=[np.float, np.int]).columns\n",
        "print(\"Numerical columns : \" )\n",
        "print(NumColumns)\n",
        "\n",
        "scaler_numerical = StandardScaler()\n",
        "Numerical_transform = Pipeline(steps=[('scale', scaler_numerical)])"
      ],
      "metadata": {
        "colab": {
          "base_uri": "https://localhost:8080/",
          "height": 0
        },
        "id": "MXRh23rnINe1",
        "outputId": "b4194d3b-4fc5-4511-cd65-98143df3536e"
      },
      "execution_count": 27,
      "outputs": [
        {
          "output_type": "stream",
          "name": "stdout",
          "text": [
            "Numerical columns : \n",
            "Index(['Unnamed:_0', 'ID', 'Beat', 'District', 'Ward', 'Community_Area',\n",
            "       'X_Coordinate', 'Y_Coordinate', 'Year', 'Latitude', 'Longitude'],\n",
            "      dtype='object')\n"
          ]
        },
        {
          "output_type": "stream",
          "name": "stderr",
          "text": [
            "/usr/local/lib/python3.7/dist-packages/ipykernel_launcher.py:1: DeprecationWarning: `np.float` is a deprecated alias for the builtin `float`. To silence this warning, use `float` by itself. Doing this will not modify any behavior and is safe. If you specifically wanted the numpy scalar type, use `np.float64` here.\n",
            "Deprecated in NumPy 1.20; for more details and guidance: https://numpy.org/devdocs/release/1.20.0-notes.html#deprecations\n",
            "  \"\"\"Entry point for launching an IPython kernel.\n",
            "/usr/local/lib/python3.7/dist-packages/ipykernel_launcher.py:1: DeprecationWarning: `np.int` is a deprecated alias for the builtin `int`. To silence this warning, use `int` by itself. Doing this will not modify any behavior and is safe. When replacing `np.int`, you may wish to use e.g. `np.int64` or `np.int32` to specify the precision. If you wish to review your current use, check the release note link for additional information.\n",
            "Deprecated in NumPy 1.20; for more details and guidance: https://numpy.org/devdocs/release/1.20.0-notes.html#deprecations\n",
            "  \"\"\"Entry point for launching an IPython kernel.\n"
          ]
        }
      ]
    },
    {
      "cell_type": "markdown",
      "source": [
        "Dari hasil diatas :\n",
        "\n",
        "Numerical columns : \n",
        "\n",
        "Index(['Unnamed:_0', 'ID', 'Beat', 'District', 'Ward', 'Community_Area',\n",
        "       'X_Coordinate', 'Y_Coordinate', 'Year', 'Latitude', 'Longitude']"
      ],
      "metadata": {
        "id": "XbEL51upKiP7"
      }
    },
    {
      "cell_type": "code",
      "source": [
        "CategColumns = Sharen_Odd.select_dtypes(include=[np.object, np.bool]).columns\n",
        "print(\"Categorical columns : \" )\n",
        "print(CategColumns)\n",
        "\n",
        "impute_categorical = SimpleImputer(strategy=\"most_frequent\")\n",
        "onehot_categorical = OneHotEncoder(handle_unknown=\"ignore\")\n",
        "Categorical_transform = Pipeline(steps=[('impute', impute_categorical),('onehot', onehot_categorical)])"
      ],
      "metadata": {
        "colab": {
          "base_uri": "https://localhost:8080/",
          "height": 0
        },
        "id": "5Gq7d4wqKE2Q",
        "outputId": "ca2f23de-a33a-4432-b1aa-8010a4eb83f1"
      },
      "execution_count": 28,
      "outputs": [
        {
          "output_type": "stream",
          "name": "stdout",
          "text": [
            "Categorical columns : \n",
            "Index(['Case_Number', 'Date', 'Block', 'IUCR', 'Primary_Type', 'Description',\n",
            "       'Location_Description', 'Arrest', 'Domestic', 'FBI_Code', 'Updated_On',\n",
            "       'Location'],\n",
            "      dtype='object')\n"
          ]
        },
        {
          "output_type": "stream",
          "name": "stderr",
          "text": [
            "/usr/local/lib/python3.7/dist-packages/ipykernel_launcher.py:1: DeprecationWarning: `np.object` is a deprecated alias for the builtin `object`. To silence this warning, use `object` by itself. Doing this will not modify any behavior and is safe. \n",
            "Deprecated in NumPy 1.20; for more details and guidance: https://numpy.org/devdocs/release/1.20.0-notes.html#deprecations\n",
            "  \"\"\"Entry point for launching an IPython kernel.\n",
            "/usr/local/lib/python3.7/dist-packages/ipykernel_launcher.py:1: DeprecationWarning: `np.bool` is a deprecated alias for the builtin `bool`. To silence this warning, use `bool` by itself. Doing this will not modify any behavior and is safe. If you specifically wanted the numpy scalar type, use `np.bool_` here.\n",
            "Deprecated in NumPy 1.20; for more details and guidance: https://numpy.org/devdocs/release/1.20.0-notes.html#deprecations\n",
            "  \"\"\"Entry point for launching an IPython kernel.\n"
          ]
        }
      ]
    },
    {
      "cell_type": "markdown",
      "source": [
        "Dari hasil diatas :\n",
        "\n",
        "Categorical columns : \n",
        "\n",
        "Index(['Case_Number', 'Date', 'Block', 'IUCR', 'Primary_Type', 'Description',\n",
        "       'Location_Description', 'Arrest', 'Domestic', 'FBI_Code', 'Updated_On',\n",
        "       'Location']"
      ],
      "metadata": {
        "id": "b-kO8eI5Kv06"
      }
    },
    {
      "cell_type": "markdown",
      "source": [
        "###**FEATURE ENGINEERING**"
      ],
      "metadata": {
        "id": "RjNbU6_zOe5-"
      }
    },
    {
      "cell_type": "markdown",
      "source": [
        "**Di bagian HINT soal diminta untuk generate the target by performing engineering on 'DATE' and 'PRIMARY TYPE'. Namun, kedua fitur tersebut memiliki datatype OBJECT yang merupakan categorical, sehingga harus di ubah menjadi numerical terlebih dahulu.**"
      ],
      "metadata": {
        "id": "zq6JprSRPLn6"
      }
    },
    {
      "cell_type": "markdown",
      "source": [
        "**Pertama, mengubah datatype kolom 'Date' dari OBJECT menjadi datetime64[ns]**"
      ],
      "metadata": {
        "id": "GFQW04BtdmLt"
      }
    },
    {
      "cell_type": "code",
      "source": [
        "Sharen_Odd['Date'] = pd.to_datetime(Sharen_Odd['Date'])\n",
        "Sharen_Odd['Year'] = Sharen_Odd['Date'].dt.year\n",
        "Sharen_Odd['Month'] = Sharen_Odd['Date'].dt.month\n",
        "Sharen_Odd['Day'] = Sharen_Odd['Date'].dt.day\n",
        "Sharen_Odd['Hour'] = Sharen_Odd['Date'].dt.hour"
      ],
      "metadata": {
        "id": "fA6HShkQOkFa"
      },
      "execution_count": 29,
      "outputs": []
    },
    {
      "cell_type": "code",
      "source": [
        "print(Sharen_Odd.Date)"
      ],
      "metadata": {
        "colab": {
          "base_uri": "https://localhost:8080/",
          "height": 0
        },
        "id": "TuBD0aQvQHsv",
        "outputId": "185424bb-740c-4325-c6b5-253e3d1b2ac6"
      },
      "execution_count": 30,
      "outputs": [
        {
          "output_type": "stream",
          "name": "stdout",
          "text": [
            "0         2018-03-12 19:32:00\n",
            "1         2016-05-29 23:28:00\n",
            "2         2019-03-16 02:10:00\n",
            "3         2017-10-05 11:00:00\n",
            "4         2018-02-26 19:51:00\n",
            "                  ...        \n",
            "1031739   2017-12-19 20:10:00\n",
            "1031740   2017-03-16 13:00:00\n",
            "1031741   2015-07-18 21:30:00\n",
            "1031742   2018-07-17 22:56:00\n",
            "1031743   2016-09-21 13:10:00\n",
            "Name: Date, Length: 1031744, dtype: datetime64[ns]\n"
          ]
        }
      ]
    },
    {
      "cell_type": "markdown",
      "source": [
        "**Kedua, mengubah datatype kolom 'Primary_Type' dari OBJECT menjadi INT**"
      ],
      "metadata": {
        "id": "3cLfFQ_Ld49N"
      }
    },
    {
      "cell_type": "code",
      "source": [
        "Sharen_Odd['Primary_Type'] = pd.factorize(Sharen_Odd['Primary_Type'])[0]"
      ],
      "metadata": {
        "id": "zufHbH7LQZJ_"
      },
      "execution_count": 31,
      "outputs": []
    },
    {
      "cell_type": "code",
      "source": [
        "print(Sharen_Odd.Primary_Type)"
      ],
      "metadata": {
        "colab": {
          "base_uri": "https://localhost:8080/",
          "height": 0
        },
        "id": "JxHBc8TedNhB",
        "outputId": "28c89b9d-008c-4efd-8c1b-2227ab71392a"
      },
      "execution_count": 32,
      "outputs": [
        {
          "output_type": "stream",
          "name": "stdout",
          "text": [
            "0           0\n",
            "1           1\n",
            "2           2\n",
            "3           3\n",
            "4           4\n",
            "           ..\n",
            "1031739     1\n",
            "1031740     1\n",
            "1031741    14\n",
            "1031742     9\n",
            "1031743     4\n",
            "Name: Primary_Type, Length: 1031744, dtype: int64\n"
          ]
        }
      ]
    },
    {
      "cell_type": "markdown",
      "source": [
        "**Data types terbaru dari yang sudah di update**"
      ],
      "metadata": {
        "id": "czrYoyZOFWHp"
      }
    },
    {
      "cell_type": "code",
      "source": [
        "Sharen_Odd.dtypes"
      ],
      "metadata": {
        "colab": {
          "base_uri": "https://localhost:8080/",
          "height": 0
        },
        "id": "97pUxEURFSf0",
        "outputId": "fa0455b2-5e14-4f8e-aab4-eb6c013adb93"
      },
      "execution_count": 33,
      "outputs": [
        {
          "output_type": "execute_result",
          "data": {
            "text/plain": [
              "Unnamed:_0                       int64\n",
              "ID                               int64\n",
              "Case_Number                     object\n",
              "Date                    datetime64[ns]\n",
              "Block                           object\n",
              "IUCR                            object\n",
              "Primary_Type                     int64\n",
              "Description                     object\n",
              "Location_Description            object\n",
              "Arrest                            bool\n",
              "Domestic                          bool\n",
              "Beat                             int64\n",
              "District                       float64\n",
              "Ward                           float64\n",
              "Community_Area                 float64\n",
              "FBI_Code                        object\n",
              "X_Coordinate                   float64\n",
              "Y_Coordinate                   float64\n",
              "Year                             int64\n",
              "Updated_On                      object\n",
              "Latitude                       float64\n",
              "Longitude                      float64\n",
              "Location                        object\n",
              "Month                            int64\n",
              "Day                              int64\n",
              "Hour                             int64\n",
              "dtype: object"
            ]
          },
          "metadata": {},
          "execution_count": 33
        }
      ]
    },
    {
      "cell_type": "markdown",
      "source": [
        "Dari hasil diatas, dapat dilihat variabel Date sudah berubah datatype menadi Datetime dan variabel Primary_Type sudah berubah datatype menjadi Integer."
      ],
      "metadata": {
        "id": "NXdh9w_LFdIw"
      }
    },
    {
      "cell_type": "markdown",
      "source": [
        "**Data Visualization**"
      ],
      "metadata": {
        "id": "FdEcOvPejCyd"
      }
    },
    {
      "cell_type": "markdown",
      "source": [
        "Visualiasi Data kolom 'Date'"
      ],
      "metadata": {
        "id": "45xHqsQEnRoZ"
      }
    },
    {
      "cell_type": "code",
      "source": [
        "Sharen_Odd['Date'].value_counts()[:15].sort_values(ascending=True).plot(kind='barh', \n",
        "                                                                          title='Date',\n",
        "                                                                          color='purple')"
      ],
      "metadata": {
        "colab": {
          "base_uri": "https://localhost:8080/",
          "height": 299
        },
        "id": "rOkqF1Xli5lA",
        "outputId": "5c919f4f-34aa-4152-828c-bfec5283abe7"
      },
      "execution_count": 34,
      "outputs": [
        {
          "output_type": "execute_result",
          "data": {
            "text/plain": [
              "<matplotlib.axes._subplots.AxesSubplot at 0x7f71a2b56ed0>"
            ]
          },
          "metadata": {},
          "execution_count": 34
        },
        {
          "output_type": "display_data",
          "data": {
            "text/plain": [
              "<Figure size 432x288 with 1 Axes>"
            ],
            "image/png": "[encoded data removed]"
          },
          "metadata": {
            "needs_background": "light"
          }
        }
      ]
    },
    {
      "cell_type": "markdown",
      "source": [
        "Visualiasi Data kolom 'Primary_Type'"
      ],
      "metadata": {
        "id": "-BgMqOBcnVh5"
      }
    },
    {
      "cell_type": "code",
      "source": [
        "Sharen_Odd['Primary_Type'].value_counts()[:15].sort_values(ascending=True).plot(kind='barh', \n",
        "                                                                               title='Primary_Type',\n",
        "                                                                                color='cyan')"
      ],
      "metadata": {
        "colab": {
          "base_uri": "https://localhost:8080/",
          "height": 299
        },
        "id": "MN4jaoDwjI0w",
        "outputId": "c111e41d-fceb-493e-aa5b-ba2d822cd184"
      },
      "execution_count": 35,
      "outputs": [
        {
          "output_type": "execute_result",
          "data": {
            "text/plain": [
              "<matplotlib.axes._subplots.AxesSubplot at 0x7f71a2c00ad0>"
            ]
          },
          "metadata": {},
          "execution_count": 35
        },
        {
          "output_type": "display_data",
          "data": {
            "text/plain": [
              "<Figure size 432x288 with 1 Axes>"
            ],
            "image/png": "[encoded data removed]"
          },
          "metadata": {
            "needs_background": "light"
          }
        }
      ]
    },
    {
      "cell_type": "markdown",
      "source": [
        "Visualisasi scatterplot kolom 'Date' dan 'Primary_Type'"
      ],
      "metadata": {
        "id": "pXeUHhexnasi"
      }
    },
    {
      "cell_type": "code",
      "source": [
        "plt.figure(figsize=(10,6))\n",
        "ax = sns.scatterplot(x='Date',y='Primary_Type', data=Sharen_Odd)"
      ],
      "metadata": {
        "colab": {
          "base_uri": "https://localhost:8080/",
          "height": 388
        },
        "id": "-WVysaJUlrnp",
        "outputId": "68023e92-e52b-4621-c9d5-8d49e063778f"
      },
      "execution_count": 36,
      "outputs": [
        {
          "output_type": "display_data",
          "data": {
            "text/plain": [
              "<Figure size 720x432 with 1 Axes>"
            ],
            "image/png": "[encoded data removed]"
          },
          "metadata": {
            "needs_background": "light"
          }
        }
      ]
    },
    {
      "cell_type": "markdown",
      "source": [
        "Masing-masing teknik dikelompokkan berdasarkan kolom yang mereka butuhkan untuk diterapkan menggunakan **ColumnTransformer**. Idealnya, ini dijalankan dalam pipeline tepat sebelum model dilatih. Namun, untuk memahami seperti apa tampilan data, biasanya data akan diubah menjadi variabel sementara."
      ],
      "metadata": {
        "id": "MyMW8bQ5rTFJ"
      }
    },
    {
      "cell_type": "code",
      "source": [
        "PreprocessorCategoricalCol = ColumnTransformer(transformers=[('categorical', \n",
        "                                                              Categorical_transform,\n",
        "                                                              CategColumns)],\n",
        "                                                              remainder=\"passthrough\")\n",
        "\n",
        "PreprocessorAllCol = ColumnTransformer(transformers=[('categorical', \n",
        "                                                              Categorical_transform,\n",
        "                                                              CategColumns),\n",
        "                                                     ('Numerical', \n",
        "                                                              Numerical_transform,\n",
        "                                                              NumColumns)],\n",
        "                                                              remainder=\"passthrough\")"
      ],
      "metadata": {
        "id": "RVTNuAyXsbDG"
      },
      "execution_count": 37,
      "outputs": []
    },
    {
      "cell_type": "code",
      "source": [
        "Sharen_Odd_temp_1 = PreprocessorCategoricalCol.fit_transform(Sharen_Odd)\n",
        "print(\"Data seleah di transform :\")\n",
        "print(Sharen_Odd_temp_1)\n",
        "\n",
        "Sharen_Odd_temp_2 = PreprocessorAllCol.fit_transform(Sharen_Odd)\n",
        "print(\"Data seleah di transform :\")\n",
        "print(Sharen_Odd_temp_2)"
      ],
      "metadata": {
        "colab": {
          "base_uri": "https://localhost:8080/",
          "height": 0
        },
        "id": "D4fztLp6woRm",
        "outputId": "b78f63fe-4eda-4eb8-c418-1bb33160bce0"
      },
      "execution_count": 38,
      "outputs": [
        {
          "output_type": "stream",
          "name": "stdout",
          "text": [
            "Data seleah di transform :\n",
            "  (0, 757539)\t1.0\n",
            "  (0, 1371188)\t1.0\n",
            "  (0, 1511526)\t1.0\n",
            "  (0, 1535905)\t1.0\n",
            "  (0, 1536188)\t1.0\n",
            "  (0, 1536494)\t1.0\n",
            "  (0, 1536673)\t1.0\n",
            "  (0, 1536706)\t1.0\n",
            "  (0, 1536708)\t1.0\n",
            "  (0, 1536719)\t1.0\n",
            "  (0, 1537556)\t1.0\n",
            "  (0, 1735021)\t1.0\n",
            "  (0, 1841057)\t1024161.0\n",
            "  (0, 1841058)\t11254362.0\n",
            "  (0, 1841059)\t1213.0\n",
            "  (0, 1841060)\t12.0\n",
            "  (0, 1841061)\t1.0\n",
            "  (0, 1841062)\t24.0\n",
            "  (0, 1841063)\t1164432.0\n",
            "  (0, 1841064)\t1905388.0\n",
            "  (0, 1841065)\t2018.0\n",
            "  (0, 1841066)\t41.896002063\n",
            "  (0, 1841067)\t-87.671521286\n",
            "  (0, 1841068)\t3.0\n",
            "  (0, 1841069)\t12.0\n",
            "  :\t:\n",
            "  (1031743, 1213459)\t1.0\n",
            "  (1031743, 1516498)\t1.0\n",
            "  (1031743, 1535978)\t1.0\n",
            "  (1031743, 1536192)\t1.0\n",
            "  (1031743, 1536515)\t1.0\n",
            "  (1031743, 1536684)\t1.0\n",
            "  (1031743, 1536706)\t1.0\n",
            "  (1031743, 1536708)\t1.0\n",
            "  (1031743, 1536735)\t1.0\n",
            "  (1031743, 1536960)\t1.0\n",
            "  (1031743, 1782673)\t1.0\n",
            "  (1031743, 1841057)\t337187.0\n",
            "  (1031743, 1841058)\t10689428.0\n",
            "  (1031743, 1841059)\t1934.0\n",
            "  (1031743, 1841060)\t19.0\n",
            "  (1031743, 1841061)\t44.0\n",
            "  (1031743, 1841062)\t6.0\n",
            "  (1031743, 1841063)\t1171744.0\n",
            "  (1031743, 1841064)\t1919789.0\n",
            "  (1031743, 1841065)\t2016.0\n",
            "  (1031743, 1841066)\t41.935361214\n",
            "  (1031743, 1841067)\t-87.644241031\n",
            "  (1031743, 1841068)\t9.0\n",
            "  (1031743, 1841069)\t21.0\n",
            "  (1031743, 1841070)\t13.0\n",
            "Data seleah di transform :\n",
            "  (0, 757539)\t1.0\n",
            "  (0, 1371188)\t1.0\n",
            "  (0, 1511526)\t1.0\n",
            "  (0, 1535905)\t1.0\n",
            "  (0, 1536188)\t1.0\n",
            "  (0, 1536494)\t1.0\n",
            "  (0, 1536673)\t1.0\n",
            "  (0, 1536706)\t1.0\n",
            "  (0, 1536708)\t1.0\n",
            "  (0, 1536719)\t1.0\n",
            "  (0, 1537556)\t1.0\n",
            "  (0, 1735021)\t1.0\n",
            "  (0, 1841057)\t1.3620995589101363\n",
            "  (0, 1841058)\t0.6033172156125879\n",
            "  (0, 1841059)\t0.0987170127750439\n",
            "  (0, 1841060)\t0.11304381023336667\n",
            "  (0, 1841061)\t-1.5848965493341785\n",
            "  (0, 1841062)\t-0.6006614250776775\n",
            "  (0, 1841063)\t-0.01830855508110071\n",
            "  (0, 1841064)\t0.6125739213802728\n",
            "  (0, 1841065)\t1.060557379035099\n",
            "  (0, 1841066)\t0.6114854377943567\n",
            "  (0, 1841067)\t-0.008598286264049631\n",
            "  (0, 1841068)\t3.0\n",
            "  (0, 1841069)\t12.0\n",
            "  :\t:\n",
            "  (1031743, 1213459)\t1.0\n",
            "  (1031743, 1516498)\t1.0\n",
            "  (1031743, 1535978)\t1.0\n",
            "  (1031743, 1536192)\t1.0\n",
            "  (1031743, 1536515)\t1.0\n",
            "  (1031743, 1536684)\t1.0\n",
            "  (1031743, 1536706)\t1.0\n",
            "  (1031743, 1536708)\t1.0\n",
            "  (1031743, 1536735)\t1.0\n",
            "  (1031743, 1536960)\t1.0\n",
            "  (1031743, 1782673)\t1.0\n",
            "  (1031743, 1841057)\t-0.7140143705409286\n",
            "  (1031743, 1841058)\t-0.17586771506502724\n",
            "  (1031743, 1841059)\t1.1372882441898646\n",
            "  (1031743, 1841060)\t1.1224490402248235\n",
            "  (1031743, 1841061)\t1.4902503559953786\n",
            "  (1031743, 1841062)\t-1.4413124020845758\n",
            "  (1031743, 1841063)\t0.43225387756376626\n",
            "  (1031743, 1841064)\t1.07437806036593\n",
            "  (1031743, 1841065)\t-0.5411765203166606\n",
            "  (1031743, 1841066)\t1.0704296452834323\n",
            "  (1031743, 1841067)\t0.45314994477725185\n",
            "  (1031743, 1841068)\t9.0\n",
            "  (1031743, 1841069)\t21.0\n",
            "  (1031743, 1841070)\t13.0\n"
          ]
        }
      ]
    },
    {
      "cell_type": "markdown",
      "source": [
        "Dari hasil data transforming diatas, terdapat beberapa nilai. Ada yang termasuk ke level crime Low(0-14), medium(15-33), dan high(34 and above)"
      ],
      "metadata": {
        "id": "VXQPhgNbuDw3"
      }
    },
    {
      "cell_type": "markdown",
      "source": [
        "**Plot grafik antara Date(Hour,Day,Month,Year) dengan jumlah crime pada Primary_Type**"
      ],
      "metadata": {
        "id": "52RnZ-PXum4C"
      }
    },
    {
      "cell_type": "code",
      "source": [
        "ig, axes = plt.subplots(2, 2, figsize=(20, 10))\n",
        "\n",
        "Sharen_Odd.groupby('Hour').count()['Primary_Type'].plot(kind='bar', title='Crime Per Hour', ax=axes[0,0])\n",
        "Sharen_Odd.groupby('Day').count()['Primary_Type'].plot(kind='bar', title='Crime Per Day', ax=axes[0,1])\n",
        "Sharen_Odd.groupby('Month').count()['Primary_Type'].plot(kind='bar', title='Crime Per Month', ax=axes[1,0])\n",
        "Sharen_Odd.groupby('Year').count()['Primary_Type'].plot(kind='bar', title='Crime Per Year', ax=axes[1,1])"
      ],
      "metadata": {
        "colab": {
          "base_uri": "https://localhost:8080/",
          "height": 626
        },
        "id": "itglDLVm4Wih",
        "outputId": "a443bfde-f32d-4d16-8431-ee346dc07280"
      },
      "execution_count": 39,
      "outputs": [
        {
          "output_type": "execute_result",
          "data": {
            "text/plain": [
              "<matplotlib.axes._subplots.AxesSubplot at 0x7f719e38fb50>"
            ]
          },
          "metadata": {},
          "execution_count": 39
        },
        {
          "output_type": "display_data",
          "data": {
            "text/plain": [
              "<Figure size 1440x720 with 4 Axes>"
            ],
            "image/png": "[encoded data removed]"
          },
          "metadata": {
            "needs_background": "light"
          }
        }
      ]
    },
    {
      "cell_type": "markdown",
      "source": [
        "**Melihat korelasi**"
      ],
      "metadata": {
        "id": "Ub1Os4QU2oro"
      }
    },
    {
      "cell_type": "code",
      "source": [
        "corr = Sharen_Odd.corr()\n",
        "corr.style.background_gradient(cmap='coolwarm')"
      ],
      "metadata": {
        "colab": {
          "base_uri": "https://localhost:8080/",
          "height": 602
        },
        "id": "WfnIEZ1h2I0c",
        "outputId": "14ae600c-0ca6-42a9-bf38-ff53734d64e8"
      },
      "execution_count": 40,
      "outputs": [
        {
          "output_type": "execute_result",
          "data": {
            "text/plain": [
              "<pandas.io.formats.style.Styler at 0x7f71a2b47250>"
            ],
            "text/html": [
              "<style type=\"text/css\">\n",
              "#T_48dd2_row0_col0, #T_48dd2_row1_col1, #T_48dd2_row2_col2, #T_48dd2_row3_col3, #T_48dd2_row4_col4, #T_48dd2_row5_col5, #T_48dd2_row5_col6, #T_48dd2_row6_col5, #T_48dd2_row6_col6, #T_48dd2_row7_col7, #T_48dd2_row8_col8, #T_48dd2_row9_col9, #T_48dd2_row9_col13, #T_48dd2_row10_col10, #T_48dd2_row10_col12, #T_48dd2_row11_col11, #T_48dd2_row12_col10, #T_48dd2_row12_col12, #T_48dd2_row13_col9, #T_48dd2_row13_col13, #T_48dd2_row14_col14, #T_48dd2_row15_col15, #T_48dd2_row16_col16 {\n",
              "  background-color: #b40426;\n",
              "  color: #f1f1f1;\n",
              "}\n",
              "#T_48dd2_row0_col1 {\n",
              "  background-color: #f7b99e;\n",
              "  color: #000000;\n",
              "}\n",
              "#T_48dd2_row0_col2 {\n",
              "  background-color: #6c8ff1;\n",
              "  color: #f1f1f1;\n",
              "}\n",
              "#T_48dd2_row0_col3 {\n",
              "  background-color: #3d50c3;\n",
              "  color: #f1f1f1;\n",
              "}\n",
              "#T_48dd2_row0_col4, #T_48dd2_row1_col4 {\n",
              "  background-color: #7597f6;\n",
              "  color: #f1f1f1;\n",
              "}\n",
              "#T_48dd2_row0_col5, #T_48dd2_row0_col6, #T_48dd2_row11_col5, #T_48dd2_row11_col6, #T_48dd2_row14_col5, #T_48dd2_row15_col5, #T_48dd2_row15_col6, #T_48dd2_row15_col13 {\n",
              "  background-color: #b1cbfc;\n",
              "  color: #000000;\n",
              "}\n",
              "#T_48dd2_row0_col7, #T_48dd2_row1_col5, #T_48dd2_row1_col6, #T_48dd2_row1_col13, #T_48dd2_row2_col5, #T_48dd2_row2_col6, #T_48dd2_row11_col7, #T_48dd2_row14_col6, #T_48dd2_row14_col9, #T_48dd2_row14_col13, #T_48dd2_row15_col9 {\n",
              "  background-color: #b2ccfb;\n",
              "  color: #000000;\n",
              "}\n",
              "#T_48dd2_row0_col8, #T_48dd2_row11_col8 {\n",
              "  background-color: #c9d7f0;\n",
              "  color: #000000;\n",
              "}\n",
              "#T_48dd2_row0_col9, #T_48dd2_row0_col13, #T_48dd2_row1_col7, #T_48dd2_row1_col9, #T_48dd2_row4_col13, #T_48dd2_row11_col13 {\n",
              "  background-color: #b3cdfb;\n",
              "  color: #000000;\n",
              "}\n",
              "#T_48dd2_row0_col10, #T_48dd2_row0_col12, #T_48dd2_row11_col10, #T_48dd2_row11_col12 {\n",
              "  background-color: #cdd9ec;\n",
              "  color: #000000;\n",
              "}\n",
              "#T_48dd2_row0_col11 {\n",
              "  background-color: #bd1f2d;\n",
              "  color: #f1f1f1;\n",
              "}\n",
              "#T_48dd2_row0_col14, #T_48dd2_row0_col15, #T_48dd2_row1_col3, #T_48dd2_row2_col1, #T_48dd2_row2_col4, #T_48dd2_row4_col2, #T_48dd2_row4_col16, #T_48dd2_row5_col9, #T_48dd2_row5_col13, #T_48dd2_row6_col9, #T_48dd2_row6_col13, #T_48dd2_row8_col7, #T_48dd2_row8_col10, #T_48dd2_row8_col12, #T_48dd2_row9_col5, #T_48dd2_row9_col6, #T_48dd2_row10_col8, #T_48dd2_row10_col9, #T_48dd2_row11_col3, #T_48dd2_row12_col8, #T_48dd2_row12_col9, #T_48dd2_row12_col13, #T_48dd2_row13_col5, #T_48dd2_row13_col6, #T_48dd2_row14_col0, #T_48dd2_row14_col11 {\n",
              "  background-color: #3b4cc0;\n",
              "  color: #f1f1f1;\n",
              "}\n",
              "#T_48dd2_row0_col16, #T_48dd2_row9_col16, #T_48dd2_row11_col16, #T_48dd2_row13_col16 {\n",
              "  background-color: #445acc;\n",
              "  color: #f1f1f1;\n",
              "}\n",
              "#T_48dd2_row1_col0 {\n",
              "  background-color: #f7a688;\n",
              "  color: #000000;\n",
              "}\n",
              "#T_48dd2_row1_col2, #T_48dd2_row3_col1 {\n",
              "  background-color: #4f69d9;\n",
              "  color: #f1f1f1;\n",
              "}\n",
              "#T_48dd2_row1_col8, #T_48dd2_row2_col10, #T_48dd2_row2_col12 {\n",
              "  background-color: #c7d7f0;\n",
              "  color: #000000;\n",
              "}\n",
              "#T_48dd2_row1_col10, #T_48dd2_row1_col12 {\n",
              "  background-color: #cedaeb;\n",
              "  color: #000000;\n",
              "}\n",
              "#T_48dd2_row1_col11 {\n",
              "  background-color: #f7a889;\n",
              "  color: #000000;\n",
              "}\n",
              "#T_48dd2_row1_col14, #T_48dd2_row3_col2 {\n",
              "  background-color: #9ebeff;\n",
              "  color: #000000;\n",
              "}\n",
              "#T_48dd2_row1_col15, #T_48dd2_row3_col15, #T_48dd2_row9_col15, #T_48dd2_row13_col15 {\n",
              "  background-color: #4257c9;\n",
              "  color: #f1f1f1;\n",
              "}\n",
              "#T_48dd2_row1_col16, #T_48dd2_row7_col16, #T_48dd2_row10_col16, #T_48dd2_row12_col16 {\n",
              "  background-color: #455cce;\n",
              "  color: #f1f1f1;\n",
              "}\n",
              "#T_48dd2_row2_col0, #T_48dd2_row8_col0 {\n",
              "  background-color: #8badfd;\n",
              "  color: #000000;\n",
              "}\n",
              "#T_48dd2_row2_col3 {\n",
              "  background-color: #779af7;\n",
              "  color: #f1f1f1;\n",
              "}\n",
              "#T_48dd2_row2_col7 {\n",
              "  background-color: #adc9fd;\n",
              "  color: #000000;\n",
              "}\n",
              "#T_48dd2_row2_col8 {\n",
              "  background-color: #cfdaea;\n",
              "  color: #000000;\n",
              "}\n",
              "#T_48dd2_row2_col9 {\n",
              "  background-color: #a7c5fe;\n",
              "  color: #000000;\n",
              "}\n",
              "#T_48dd2_row2_col11, #T_48dd2_row5_col1, #T_48dd2_row6_col1, #T_48dd2_row8_col11, #T_48dd2_row15_col1 {\n",
              "  background-color: #5e7de7;\n",
              "  color: #f1f1f1;\n",
              "}\n",
              "#T_48dd2_row2_col13 {\n",
              "  background-color: #a6c4fe;\n",
              "  color: #000000;\n",
              "}\n",
              "#T_48dd2_row2_col14, #T_48dd2_row4_col14 {\n",
              "  background-color: #8caffe;\n",
              "  color: #000000;\n",
              "}\n",
              "#T_48dd2_row2_col15, #T_48dd2_row9_col3, #T_48dd2_row13_col3 {\n",
              "  background-color: #3f53c6;\n",
              "  color: #f1f1f1;\n",
              "}\n",
              "#T_48dd2_row2_col16, #T_48dd2_row5_col16, #T_48dd2_row6_col16 {\n",
              "  background-color: #4358cb;\n",
              "  color: #f1f1f1;\n",
              "}\n",
              "#T_48dd2_row3_col0 {\n",
              "  background-color: #85a8fc;\n",
              "  color: #f1f1f1;\n",
              "}\n",
              "#T_48dd2_row3_col4, #T_48dd2_row10_col11, #T_48dd2_row11_col14, #T_48dd2_row12_col11 {\n",
              "  background-color: #6788ee;\n",
              "  color: #f1f1f1;\n",
              "}\n",
              "#T_48dd2_row3_col5, #T_48dd2_row3_col6, #T_48dd2_row3_col7, #T_48dd2_row3_col9, #T_48dd2_row3_col13 {\n",
              "  background-color: #aac7fd;\n",
              "  color: #000000;\n",
              "}\n",
              "#T_48dd2_row3_col8 {\n",
              "  background-color: #d1dae9;\n",
              "  color: #000000;\n",
              "}\n",
              "#T_48dd2_row3_col10 {\n",
              "  background-color: #c5d6f2;\n",
              "  color: #000000;\n",
              "}\n",
              "#T_48dd2_row3_col11 {\n",
              "  background-color: #5673e0;\n",
              "  color: #f1f1f1;\n",
              "}\n",
              "#T_48dd2_row3_col12 {\n",
              "  background-color: #c4d5f3;\n",
              "  color: #000000;\n",
              "}\n",
              "#T_48dd2_row3_col14 {\n",
              "  background-color: #86a9fc;\n",
              "  color: #f1f1f1;\n",
              "}\n",
              "#T_48dd2_row3_col16 {\n",
              "  background-color: #5977e3;\n",
              "  color: #f1f1f1;\n",
              "}\n",
              "#T_48dd2_row4_col0, #T_48dd2_row9_col0, #T_48dd2_row10_col0, #T_48dd2_row12_col0 {\n",
              "  background-color: #92b4fe;\n",
              "  color: #000000;\n",
              "}\n",
              "#T_48dd2_row4_col1, #T_48dd2_row9_col1, #T_48dd2_row13_col1 {\n",
              "  background-color: #5f7fe8;\n",
              "  color: #f1f1f1;\n",
              "}\n",
              "#T_48dd2_row4_col3, #T_48dd2_row5_col3, #T_48dd2_row6_col3, #T_48dd2_row11_col15, #T_48dd2_row14_col3 {\n",
              "  background-color: #3e51c5;\n",
              "  color: #f1f1f1;\n",
              "}\n",
              "#T_48dd2_row4_col5, #T_48dd2_row4_col6 {\n",
              "  background-color: #a5c3fe;\n",
              "  color: #000000;\n",
              "}\n",
              "#T_48dd2_row4_col7 {\n",
              "  background-color: #9dbdff;\n",
              "  color: #000000;\n",
              "}\n",
              "#T_48dd2_row4_col8 {\n",
              "  background-color: #dadce0;\n",
              "  color: #000000;\n",
              "}\n",
              "#T_48dd2_row4_col9, #T_48dd2_row11_col9 {\n",
              "  background-color: #b5cdfa;\n",
              "  color: #000000;\n",
              "}\n",
              "#T_48dd2_row4_col10, #T_48dd2_row4_col12 {\n",
              "  background-color: #b7cff9;\n",
              "  color: #000000;\n",
              "}\n",
              "#T_48dd2_row4_col11, #T_48dd2_row9_col2, #T_48dd2_row16_col4 {\n",
              "  background-color: #6687ed;\n",
              "  color: #f1f1f1;\n",
              "}\n",
              "#T_48dd2_row4_col15, #T_48dd2_row5_col15, #T_48dd2_row6_col15, #T_48dd2_row7_col3, #T_48dd2_row7_col15, #T_48dd2_row8_col15, #T_48dd2_row10_col15, #T_48dd2_row12_col15, #T_48dd2_row14_col15 {\n",
              "  background-color: #4055c8;\n",
              "  color: #f1f1f1;\n",
              "}\n",
              "#T_48dd2_row5_col0, #T_48dd2_row5_col14, #T_48dd2_row6_col0, #T_48dd2_row6_col14, #T_48dd2_row15_col14, #T_48dd2_row16_col14 {\n",
              "  background-color: #8fb1fe;\n",
              "  color: #000000;\n",
              "}\n",
              "#T_48dd2_row5_col2, #T_48dd2_row6_col2, #T_48dd2_row11_col4 {\n",
              "  background-color: #7396f5;\n",
              "  color: #f1f1f1;\n",
              "}\n",
              "#T_48dd2_row5_col4, #T_48dd2_row6_col4, #T_48dd2_row7_col1, #T_48dd2_row9_col12, #T_48dd2_row16_col11 {\n",
              "  background-color: #6282ea;\n",
              "  color: #f1f1f1;\n",
              "}\n",
              "#T_48dd2_row5_col7, #T_48dd2_row6_col7, #T_48dd2_row7_col5, #T_48dd2_row7_col6 {\n",
              "  background-color: #f18d6f;\n",
              "  color: #f1f1f1;\n",
              "}\n",
              "#T_48dd2_row5_col8, #T_48dd2_row6_col8, #T_48dd2_row7_col2, #T_48dd2_row14_col1 {\n",
              "  background-color: #6e90f2;\n",
              "  color: #f1f1f1;\n",
              "}\n",
              "#T_48dd2_row5_col10, #T_48dd2_row5_col12 {\n",
              "  background-color: #f08a6c;\n",
              "  color: #f1f1f1;\n",
              "}\n",
              "#T_48dd2_row5_col11, #T_48dd2_row6_col11, #T_48dd2_row9_col10, #T_48dd2_row10_col1, #T_48dd2_row12_col1 {\n",
              "  background-color: #6384eb;\n",
              "  color: #f1f1f1;\n",
              "}\n",
              "#T_48dd2_row6_col10, #T_48dd2_row6_col12 {\n",
              "  background-color: #ef886b;\n",
              "  color: #f1f1f1;\n",
              "}\n",
              "#T_48dd2_row7_col0, #T_48dd2_row13_col0 {\n",
              "  background-color: #93b5fe;\n",
              "  color: #000000;\n",
              "}\n",
              "#T_48dd2_row7_col4 {\n",
              "  background-color: #5a78e4;\n",
              "  color: #f1f1f1;\n",
              "}\n",
              "#T_48dd2_row7_col8, #T_48dd2_row13_col2, #T_48dd2_row13_col10, #T_48dd2_row13_col12 {\n",
              "  background-color: #6485ec;\n",
              "  color: #f1f1f1;\n",
              "}\n",
              "#T_48dd2_row7_col9, #T_48dd2_row7_col13 {\n",
              "  background-color: #506bda;\n",
              "  color: #f1f1f1;\n",
              "}\n",
              "#T_48dd2_row7_col10, #T_48dd2_row7_col12 {\n",
              "  background-color: #ec8165;\n",
              "  color: #f1f1f1;\n",
              "}\n",
              "#T_48dd2_row7_col11, #T_48dd2_row9_col11, #T_48dd2_row13_col11 {\n",
              "  background-color: #688aef;\n",
              "  color: #f1f1f1;\n",
              "}\n",
              "#T_48dd2_row7_col14, #T_48dd2_row9_col14, #T_48dd2_row10_col14, #T_48dd2_row12_col14, #T_48dd2_row13_col14 {\n",
              "  background-color: #90b2fe;\n",
              "  color: #000000;\n",
              "}\n",
              "#T_48dd2_row8_col1 {\n",
              "  background-color: #5572df;\n",
              "  color: #f1f1f1;\n",
              "}\n",
              "#T_48dd2_row8_col2 {\n",
              "  background-color: #799cf8;\n",
              "  color: #f1f1f1;\n",
              "}\n",
              "#T_48dd2_row8_col3 {\n",
              "  background-color: #516ddb;\n",
              "  color: #f1f1f1;\n",
              "}\n",
              "#T_48dd2_row8_col4, #T_48dd2_row8_col14, #T_48dd2_row16_col0 {\n",
              "  background-color: #8db0fe;\n",
              "  color: #000000;\n",
              "}\n",
              "#T_48dd2_row8_col5, #T_48dd2_row8_col6, #T_48dd2_row8_col16, #T_48dd2_row14_col16, #T_48dd2_row16_col15 {\n",
              "  background-color: #465ecf;\n",
              "  color: #f1f1f1;\n",
              "}\n",
              "#T_48dd2_row8_col9 {\n",
              "  background-color: #dfdbd9;\n",
              "  color: #000000;\n",
              "}\n",
              "#T_48dd2_row8_col13 {\n",
              "  background-color: #dddcdc;\n",
              "  color: #000000;\n",
              "}\n",
              "#T_48dd2_row9_col4, #T_48dd2_row13_col4 {\n",
              "  background-color: #7699f6;\n",
              "  color: #f1f1f1;\n",
              "}\n",
              "#T_48dd2_row9_col7 {\n",
              "  background-color: #4c66d6;\n",
              "  color: #f1f1f1;\n",
              "}\n",
              "#T_48dd2_row9_col8 {\n",
              "  background-color: #edd1c2;\n",
              "  color: #000000;\n",
              "}\n",
              "#T_48dd2_row10_col2, #T_48dd2_row11_col2, #T_48dd2_row12_col2 {\n",
              "  background-color: #6b8df0;\n",
              "  color: #f1f1f1;\n",
              "}\n",
              "#T_48dd2_row10_col3, #T_48dd2_row10_col13, #T_48dd2_row12_col3 {\n",
              "  background-color: #3c4ec2;\n",
              "  color: #f1f1f1;\n",
              "}\n",
              "#T_48dd2_row10_col4, #T_48dd2_row12_col4 {\n",
              "  background-color: #536edd;\n",
              "  color: #f1f1f1;\n",
              "}\n",
              "#T_48dd2_row10_col5 {\n",
              "  background-color: #f39778;\n",
              "  color: #000000;\n",
              "}\n",
              "#T_48dd2_row10_col6, #T_48dd2_row12_col5, #T_48dd2_row12_col6 {\n",
              "  background-color: #f39577;\n",
              "  color: #000000;\n",
              "}\n",
              "#T_48dd2_row10_col7, #T_48dd2_row12_col7 {\n",
              "  background-color: #f18f71;\n",
              "  color: #f1f1f1;\n",
              "}\n",
              "#T_48dd2_row11_col0 {\n",
              "  background-color: #bb1b2c;\n",
              "  color: #f1f1f1;\n",
              "}\n",
              "#T_48dd2_row11_col1 {\n",
              "  background-color: #f7aa8c;\n",
              "  color: #000000;\n",
              "}\n",
              "#T_48dd2_row13_col7 {\n",
              "  background-color: #4e68d8;\n",
              "  color: #f1f1f1;\n",
              "}\n",
              "#T_48dd2_row13_col8 {\n",
              "  background-color: #edd2c3;\n",
              "  color: #000000;\n",
              "}\n",
              "#T_48dd2_row14_col2, #T_48dd2_row14_col4, #T_48dd2_row16_col2 {\n",
              "  background-color: #6f92f3;\n",
              "  color: #f1f1f1;\n",
              "}\n",
              "#T_48dd2_row14_col7, #T_48dd2_row16_col5, #T_48dd2_row16_col6, #T_48dd2_row16_col7, #T_48dd2_row16_col9, #T_48dd2_row16_col13 {\n",
              "  background-color: #afcafc;\n",
              "  color: #000000;\n",
              "}\n",
              "#T_48dd2_row14_col8 {\n",
              "  background-color: #cad8ef;\n",
              "  color: #000000;\n",
              "}\n",
              "#T_48dd2_row14_col10, #T_48dd2_row14_col12, #T_48dd2_row16_col8 {\n",
              "  background-color: #ccd9ed;\n",
              "  color: #000000;\n",
              "}\n",
              "#T_48dd2_row15_col0 {\n",
              "  background-color: #89acfd;\n",
              "  color: #000000;\n",
              "}\n",
              "#T_48dd2_row15_col2 {\n",
              "  background-color: #7093f3;\n",
              "  color: #f1f1f1;\n",
              "}\n",
              "#T_48dd2_row15_col3 {\n",
              "  background-color: #485fd1;\n",
              "  color: #f1f1f1;\n",
              "}\n",
              "#T_48dd2_row15_col4 {\n",
              "  background-color: #7295f4;\n",
              "  color: #f1f1f1;\n",
              "}\n",
              "#T_48dd2_row15_col7 {\n",
              "  background-color: #aec9fc;\n",
              "  color: #000000;\n",
              "}\n",
              "#T_48dd2_row15_col8, #T_48dd2_row15_col10, #T_48dd2_row15_col12, #T_48dd2_row16_col10, #T_48dd2_row16_col12 {\n",
              "  background-color: #cbd8ee;\n",
              "  color: #000000;\n",
              "}\n",
              "#T_48dd2_row15_col11 {\n",
              "  background-color: #6180e9;\n",
              "  color: #f1f1f1;\n",
              "}\n",
              "#T_48dd2_row15_col16 {\n",
              "  background-color: #4a63d3;\n",
              "  color: #f1f1f1;\n",
              "}\n",
              "#T_48dd2_row16_col1, #T_48dd2_row16_col3 {\n",
              "  background-color: #5b7ae5;\n",
              "  color: #f1f1f1;\n",
              "}\n",
              "</style>\n",
              "<table id=\"T_48dd2_\" class=\"dataframe\">\n",
              "  <thead>\n",
              "    <tr>\n",
              "      <th class=\"blank level0\" >&nbsp;</th>\n",
              "      <th class=\"col_heading level0 col0\" >Unnamed:_0</th>\n",
              "      <th class=\"col_heading level0 col1\" >ID</th>\n",
              "      <th class=\"col_heading level0 col2\" >Primary_Type</th>\n",
              "      <th class=\"col_heading level0 col3\" >Arrest</th>\n",
              "      <th class=\"col_heading level0 col4\" >Domestic</th>\n",
              "      <th class=\"col_heading level0 col5\" >Beat</th>\n",
              "      <th class=\"col_heading level0 col6\" >District</th>\n",
              "      <th class=\"col_heading level0 col7\" >Ward</th>\n",
              "      <th class=\"col_heading level0 col8\" >Community_Area</th>\n",
              "      <th class=\"col_heading level0 col9\" >X_Coordinate</th>\n",
              "      <th class=\"col_heading level0 col10\" >Y_Coordinate</th>\n",
              "      <th class=\"col_heading level0 col11\" >Year</th>\n",
              "      <th class=\"col_heading level0 col12\" >Latitude</th>\n",
              "      <th class=\"col_heading level0 col13\" >Longitude</th>\n",
              "      <th class=\"col_heading level0 col14\" >Month</th>\n",
              "      <th class=\"col_heading level0 col15\" >Day</th>\n",
              "      <th class=\"col_heading level0 col16\" >Hour</th>\n",
              "    </tr>\n",
              "  </thead>\n",
              "  <tbody>\n",
              "    <tr>\n",
              "      <th id=\"T_48dd2_level0_row0\" class=\"row_heading level0 row0\" >Unnamed:_0</th>\n",
              "      <td id=\"T_48dd2_row0_col0\" class=\"data row0 col0\" >1.000000</td>\n",
              "      <td id=\"T_48dd2_row0_col1\" class=\"data row0 col1\" >0.619242</td>\n",
              "      <td id=\"T_48dd2_row0_col2\" class=\"data row0 col2\" >-0.018518</td>\n",
              "      <td id=\"T_48dd2_row0_col3\" class=\"data row0 col3\" >-0.038335</td>\n",
              "      <td id=\"T_48dd2_row0_col4\" class=\"data row0 col4\" >0.009086</td>\n",
              "      <td id=\"T_48dd2_row0_col5\" class=\"data row0 col5\" >-0.002889</td>\n",
              "      <td id=\"T_48dd2_row0_col6\" class=\"data row0 col6\" >-0.002882</td>\n",
              "      <td id=\"T_48dd2_row0_col7\" class=\"data row0 col7\" >0.014496</td>\n",
              "      <td id=\"T_48dd2_row0_col8\" class=\"data row0 col8\" >-0.015820</td>\n",
              "      <td id=\"T_48dd2_row0_col9\" class=\"data row0 col9\" >0.012545</td>\n",
              "      <td id=\"T_48dd2_row0_col10\" class=\"data row0 col10\" >0.008968</td>\n",
              "      <td id=\"T_48dd2_row0_col11\" class=\"data row0 col11\" >0.972282</td>\n",
              "      <td id=\"T_48dd2_row0_col12\" class=\"data row0 col12\" >0.008901</td>\n",
              "      <td id=\"T_48dd2_row0_col13\" class=\"data row0 col13\" >0.012798</td>\n",
              "      <td id=\"T_48dd2_row0_col14\" class=\"data row0 col14\" >-0.344569</td>\n",
              "      <td id=\"T_48dd2_row0_col15\" class=\"data row0 col15\" >-0.023802</td>\n",
              "      <td id=\"T_48dd2_row0_col16\" class=\"data row0 col16\" >-0.004619</td>\n",
              "    </tr>\n",
              "    <tr>\n",
              "      <th id=\"T_48dd2_level0_row1\" class=\"row_heading level0 row1\" >ID</th>\n",
              "      <td id=\"T_48dd2_row1_col0\" class=\"data row1 col0\" >0.619242</td>\n",
              "      <td id=\"T_48dd2_row1_col1\" class=\"data row1 col1\" >1.000000</td>\n",
              "      <td id=\"T_48dd2_row1_col2\" class=\"data row1 col2\" >-0.124232</td>\n",
              "      <td id=\"T_48dd2_row1_col3\" class=\"data row1 col3\" >-0.047438</td>\n",
              "      <td id=\"T_48dd2_row1_col4\" class=\"data row1 col4\" >0.011389</td>\n",
              "      <td id=\"T_48dd2_row1_col5\" class=\"data row1 col5\" >0.005324</td>\n",
              "      <td id=\"T_48dd2_row1_col6\" class=\"data row1 col6\" >0.005378</td>\n",
              "      <td id=\"T_48dd2_row1_col7\" class=\"data row1 col7\" >0.020361</td>\n",
              "      <td id=\"T_48dd2_row1_col8\" class=\"data row1 col8\" >-0.024534</td>\n",
              "      <td id=\"T_48dd2_row1_col9\" class=\"data row1 col9\" >0.010323</td>\n",
              "      <td id=\"T_48dd2_row1_col10\" class=\"data row1 col10\" >0.021032</td>\n",
              "      <td id=\"T_48dd2_row1_col11\" class=\"data row1 col11\" >0.668731</td>\n",
              "      <td id=\"T_48dd2_row1_col12\" class=\"data row1 col12\" >0.020947</td>\n",
              "      <td id=\"T_48dd2_row1_col13\" class=\"data row1 col13\" >0.010740</td>\n",
              "      <td id=\"T_48dd2_row1_col14\" class=\"data row1 col14\" >0.057405</td>\n",
              "      <td id=\"T_48dd2_row1_col15\" class=\"data row1 col15\" >0.003543</td>\n",
              "      <td id=\"T_48dd2_row1_col16\" class=\"data row1 col16\" >-0.002634</td>\n",
              "    </tr>\n",
              "    <tr>\n",
              "      <th id=\"T_48dd2_level0_row2\" class=\"row_heading level0 row2\" >Primary_Type</th>\n",
              "      <td id=\"T_48dd2_row2_col0\" class=\"data row2 col0\" >-0.018518</td>\n",
              "      <td id=\"T_48dd2_row2_col1\" class=\"data row2 col1\" >-0.124232</td>\n",
              "      <td id=\"T_48dd2_row2_col2\" class=\"data row2 col2\" >1.000000</td>\n",
              "      <td id=\"T_48dd2_row2_col3\" class=\"data row2 col3\" >0.152579</td>\n",
              "      <td id=\"T_48dd2_row2_col4\" class=\"data row2 col4\" >-0.208837</td>\n",
              "      <td id=\"T_48dd2_row2_col5\" class=\"data row2 col5\" >0.006367</td>\n",
              "      <td id=\"T_48dd2_row2_col6\" class=\"data row2 col6\" >0.006365</td>\n",
              "      <td id=\"T_48dd2_row2_col7\" class=\"data row2 col7\" >-0.010559</td>\n",
              "      <td id=\"T_48dd2_row2_col8\" class=\"data row2 col8\" >0.026138</td>\n",
              "      <td id=\"T_48dd2_row2_col9\" class=\"data row2 col9\" >-0.043487</td>\n",
              "      <td id=\"T_48dd2_row2_col10\" class=\"data row2 col10\" >-0.021171</td>\n",
              "      <td id=\"T_48dd2_row2_col11\" class=\"data row2 col11\" >-0.020240</td>\n",
              "      <td id=\"T_48dd2_row2_col12\" class=\"data row2 col12\" >-0.020954</td>\n",
              "      <td id=\"T_48dd2_row2_col13\" class=\"data row2 col13\" >-0.044184</td>\n",
              "      <td id=\"T_48dd2_row2_col14\" class=\"data row2 col14\" >-0.009783</td>\n",
              "      <td id=\"T_48dd2_row2_col15\" class=\"data row2 col15\" >-0.005436</td>\n",
              "      <td id=\"T_48dd2_row2_col16\" class=\"data row2 col16\" >-0.007431</td>\n",
              "    </tr>\n",
              "    <tr>\n",
              "      <th id=\"T_48dd2_level0_row3\" class=\"row_heading level0 row3\" >Arrest</th>\n",
              "      <td id=\"T_48dd2_row3_col0\" class=\"data row3 col0\" >-0.038335</td>\n",
              "      <td id=\"T_48dd2_row3_col1\" class=\"data row3 col1\" >-0.047438</td>\n",
              "      <td id=\"T_48dd2_row3_col2\" class=\"data row3 col2\" >0.152579</td>\n",
              "      <td id=\"T_48dd2_row3_col3\" class=\"data row3 col3\" >1.000000</td>\n",
              "      <td id=\"T_48dd2_row3_col4\" class=\"data row3 col4\" >-0.035033</td>\n",
              "      <td id=\"T_48dd2_row3_col5\" class=\"data row3 col5\" >-0.031986</td>\n",
              "      <td id=\"T_48dd2_row3_col6\" class=\"data row3 col6\" >-0.032082</td>\n",
              "      <td id=\"T_48dd2_row3_col7\" class=\"data row3 col7\" >-0.023560</td>\n",
              "      <td id=\"T_48dd2_row3_col8\" class=\"data row3 col8\" >0.034056</td>\n",
              "      <td id=\"T_48dd2_row3_col9\" class=\"data row3 col9\" >-0.028767</td>\n",
              "      <td id=\"T_48dd2_row3_col10\" class=\"data row3 col10\" >-0.040441</td>\n",
              "      <td id=\"T_48dd2_row3_col11\" class=\"data row3 col11\" >-0.045000</td>\n",
              "      <td id=\"T_48dd2_row3_col12\" class=\"data row3 col12\" >-0.040240</td>\n",
              "      <td id=\"T_48dd2_row3_col13\" class=\"data row3 col13\" >-0.029623</td>\n",
              "      <td id=\"T_48dd2_row3_col14\" class=\"data row3 col14\" >-0.033944</td>\n",
              "      <td id=\"T_48dd2_row3_col15\" class=\"data row3 col15\" >0.000546</td>\n",
              "      <td id=\"T_48dd2_row3_col16\" class=\"data row3 col16\" >0.064174</td>\n",
              "    </tr>\n",
              "    <tr>\n",
              "      <th id=\"T_48dd2_level0_row4\" class=\"row_heading level0 row4\" >Domestic</th>\n",
              "      <td id=\"T_48dd2_row4_col0\" class=\"data row4 col0\" >0.009086</td>\n",
              "      <td id=\"T_48dd2_row4_col1\" class=\"data row4 col1\" >0.011389</td>\n",
              "      <td id=\"T_48dd2_row4_col2\" class=\"data row4 col2\" >-0.208837</td>\n",
              "      <td id=\"T_48dd2_row4_col3\" class=\"data row4 col3\" >-0.035033</td>\n",
              "      <td id=\"T_48dd2_row4_col4\" class=\"data row4 col4\" >1.000000</td>\n",
              "      <td id=\"T_48dd2_row4_col5\" class=\"data row4 col5\" >-0.054418</td>\n",
              "      <td id=\"T_48dd2_row4_col6\" class=\"data row4 col6\" >-0.054452</td>\n",
              "      <td id=\"T_48dd2_row4_col7\" class=\"data row4 col7\" >-0.081570</td>\n",
              "      <td id=\"T_48dd2_row4_col8\" class=\"data row4 col8\" >0.096904</td>\n",
              "      <td id=\"T_48dd2_row4_col9\" class=\"data row4 col9\" >0.017577</td>\n",
              "      <td id=\"T_48dd2_row4_col10\" class=\"data row4 col10\" >-0.111847</td>\n",
              "      <td id=\"T_48dd2_row4_col11\" class=\"data row4 col11\" >0.007442</td>\n",
              "      <td id=\"T_48dd2_row4_col12\" class=\"data row4 col12\" >-0.111680</td>\n",
              "      <td id=\"T_48dd2_row4_col13\" class=\"data row4 col13\" >0.015962</td>\n",
              "      <td id=\"T_48dd2_row4_col14\" class=\"data row4 col14\" >-0.009358</td>\n",
              "      <td id=\"T_48dd2_row4_col15\" class=\"data row4 col15\" >-0.000066</td>\n",
              "      <td id=\"T_48dd2_row4_col16\" class=\"data row4 col16\" >-0.039845</td>\n",
              "    </tr>\n",
              "    <tr>\n",
              "      <th id=\"T_48dd2_level0_row5\" class=\"row_heading level0 row5\" >Beat</th>\n",
              "      <td id=\"T_48dd2_row5_col0\" class=\"data row5 col0\" >-0.002889</td>\n",
              "      <td id=\"T_48dd2_row5_col1\" class=\"data row5 col1\" >0.005324</td>\n",
              "      <td id=\"T_48dd2_row5_col2\" class=\"data row5 col2\" >0.006367</td>\n",
              "      <td id=\"T_48dd2_row5_col3\" class=\"data row5 col3\" >-0.031986</td>\n",
              "      <td id=\"T_48dd2_row5_col4\" class=\"data row5 col4\" >-0.054418</td>\n",
              "      <td id=\"T_48dd2_row5_col5\" class=\"data row5 col5\" >1.000000</td>\n",
              "      <td id=\"T_48dd2_row5_col6\" class=\"data row5 col6\" >0.999723</td>\n",
              "      <td id=\"T_48dd2_row5_col7\" class=\"data row5 col7\" >0.659778</td>\n",
              "      <td id=\"T_48dd2_row5_col8\" class=\"data row5 col8\" >-0.485325</td>\n",
              "      <td id=\"T_48dd2_row5_col9\" class=\"data row5 col9\" >-0.547681</td>\n",
              "      <td id=\"T_48dd2_row5_col10\" class=\"data row5 col10\" >0.624609</td>\n",
              "      <td id=\"T_48dd2_row5_col11\" class=\"data row5 col11\" >-0.002826</td>\n",
              "      <td id=\"T_48dd2_row5_col12\" class=\"data row5 col12\" >0.625438</td>\n",
              "      <td id=\"T_48dd2_row5_col13\" class=\"data row5 col13\" >-0.542703</td>\n",
              "      <td id=\"T_48dd2_row5_col14\" class=\"data row5 col14\" >0.001895</td>\n",
              "      <td id=\"T_48dd2_row5_col15\" class=\"data row5 col15\" >-0.002569</td>\n",
              "      <td id=\"T_48dd2_row5_col16\" class=\"data row5 col16\" >-0.008228</td>\n",
              "    </tr>\n",
              "    <tr>\n",
              "      <th id=\"T_48dd2_level0_row6\" class=\"row_heading level0 row6\" >District</th>\n",
              "      <td id=\"T_48dd2_row6_col0\" class=\"data row6 col0\" >-0.002882</td>\n",
              "      <td id=\"T_48dd2_row6_col1\" class=\"data row6 col1\" >0.005378</td>\n",
              "      <td id=\"T_48dd2_row6_col2\" class=\"data row6 col2\" >0.006365</td>\n",
              "      <td id=\"T_48dd2_row6_col3\" class=\"data row6 col3\" >-0.032082</td>\n",
              "      <td id=\"T_48dd2_row6_col4\" class=\"data row6 col4\" >-0.054452</td>\n",
              "      <td id=\"T_48dd2_row6_col5\" class=\"data row6 col5\" >0.999723</td>\n",
              "      <td id=\"T_48dd2_row6_col6\" class=\"data row6 col6\" >1.000000</td>\n",
              "      <td id=\"T_48dd2_row6_col7\" class=\"data row6 col7\" >0.661105</td>\n",
              "      <td id=\"T_48dd2_row6_col8\" class=\"data row6 col8\" >-0.485908</td>\n",
              "      <td id=\"T_48dd2_row6_col9\" class=\"data row6 col9\" >-0.548559</td>\n",
              "      <td id=\"T_48dd2_row6_col10\" class=\"data row6 col10\" >0.625830</td>\n",
              "      <td id=\"T_48dd2_row6_col11\" class=\"data row6 col11\" >-0.002817</td>\n",
              "      <td id=\"T_48dd2_row6_col12\" class=\"data row6 col12\" >0.626660</td>\n",
              "      <td id=\"T_48dd2_row6_col13\" class=\"data row6 col13\" >-0.543568</td>\n",
              "      <td id=\"T_48dd2_row6_col14\" class=\"data row6 col14\" >0.001908</td>\n",
              "      <td id=\"T_48dd2_row6_col15\" class=\"data row6 col15\" >-0.002611</td>\n",
              "      <td id=\"T_48dd2_row6_col16\" class=\"data row6 col16\" >-0.008154</td>\n",
              "    </tr>\n",
              "    <tr>\n",
              "      <th id=\"T_48dd2_level0_row7\" class=\"row_heading level0 row7\" >Ward</th>\n",
              "      <td id=\"T_48dd2_row7_col0\" class=\"data row7 col0\" >0.014496</td>\n",
              "      <td id=\"T_48dd2_row7_col1\" class=\"data row7 col1\" >0.020361</td>\n",
              "      <td id=\"T_48dd2_row7_col2\" class=\"data row7 col2\" >-0.010559</td>\n",
              "      <td id=\"T_48dd2_row7_col3\" class=\"data row7 col3\" >-0.023560</td>\n",
              "      <td id=\"T_48dd2_row7_col4\" class=\"data row7 col4\" >-0.081570</td>\n",
              "      <td id=\"T_48dd2_row7_col5\" class=\"data row7 col5\" >0.659778</td>\n",
              "      <td id=\"T_48dd2_row7_col6\" class=\"data row7 col6\" >0.661105</td>\n",
              "      <td id=\"T_48dd2_row7_col7\" class=\"data row7 col7\" >1.000000</td>\n",
              "      <td id=\"T_48dd2_row7_col8\" class=\"data row7 col8\" >-0.533907</td>\n",
              "      <td id=\"T_48dd2_row7_col9\" class=\"data row7 col9\" >-0.438736</td>\n",
              "      <td id=\"T_48dd2_row7_col10\" class=\"data row7 col10\" >0.656941</td>\n",
              "      <td id=\"T_48dd2_row7_col11\" class=\"data row7 col11\" >0.016120</td>\n",
              "      <td id=\"T_48dd2_row7_col12\" class=\"data row7 col12\" >0.657259</td>\n",
              "      <td id=\"T_48dd2_row7_col13\" class=\"data row7 col13\" >-0.432346</td>\n",
              "      <td id=\"T_48dd2_row7_col14\" class=\"data row7 col14\" >0.004973</td>\n",
              "      <td id=\"T_48dd2_row7_col15\" class=\"data row7 col15\" >-0.001007</td>\n",
              "      <td id=\"T_48dd2_row7_col16\" class=\"data row7 col16\" >0.000306</td>\n",
              "    </tr>\n",
              "    <tr>\n",
              "      <th id=\"T_48dd2_level0_row8\" class=\"row_heading level0 row8\" >Community_Area</th>\n",
              "      <td id=\"T_48dd2_row8_col0\" class=\"data row8 col0\" >-0.015820</td>\n",
              "      <td id=\"T_48dd2_row8_col1\" class=\"data row8 col1\" >-0.024534</td>\n",
              "      <td id=\"T_48dd2_row8_col2\" class=\"data row8 col2\" >0.026138</td>\n",
              "      <td id=\"T_48dd2_row8_col3\" class=\"data row8 col3\" >0.034056</td>\n",
              "      <td id=\"T_48dd2_row8_col4\" class=\"data row8 col4\" >0.096904</td>\n",
              "      <td id=\"T_48dd2_row8_col5\" class=\"data row8 col5\" >-0.485325</td>\n",
              "      <td id=\"T_48dd2_row8_col6\" class=\"data row8 col6\" >-0.485908</td>\n",
              "      <td id=\"T_48dd2_row8_col7\" class=\"data row8 col7\" >-0.533907</td>\n",
              "      <td id=\"T_48dd2_row8_col8\" class=\"data row8 col8\" >1.000000</td>\n",
              "      <td id=\"T_48dd2_row8_col9\" class=\"data row8 col9\" >0.243417</td>\n",
              "      <td id=\"T_48dd2_row8_col10\" class=\"data row8 col10\" >-0.775952</td>\n",
              "      <td id=\"T_48dd2_row8_col11\" class=\"data row8 col11\" >-0.018341</td>\n",
              "      <td id=\"T_48dd2_row8_col12\" class=\"data row8 col12\" >-0.775239</td>\n",
              "      <td id=\"T_48dd2_row8_col13\" class=\"data row8 col13\" >0.233717</td>\n",
              "      <td id=\"T_48dd2_row8_col14\" class=\"data row8 col14\" >-0.008267</td>\n",
              "      <td id=\"T_48dd2_row8_col15\" class=\"data row8 col15\" >-0.000668</td>\n",
              "      <td id=\"T_48dd2_row8_col16\" class=\"data row8 col16\" >0.001835</td>\n",
              "    </tr>\n",
              "    <tr>\n",
              "      <th id=\"T_48dd2_level0_row9\" class=\"row_heading level0 row9\" >X_Coordinate</th>\n",
              "      <td id=\"T_48dd2_row9_col0\" class=\"data row9 col0\" >0.012545</td>\n",
              "      <td id=\"T_48dd2_row9_col1\" class=\"data row9 col1\" >0.010323</td>\n",
              "      <td id=\"T_48dd2_row9_col2\" class=\"data row9 col2\" >-0.043487</td>\n",
              "      <td id=\"T_48dd2_row9_col3\" class=\"data row9 col3\" >-0.028767</td>\n",
              "      <td id=\"T_48dd2_row9_col4\" class=\"data row9 col4\" >0.017577</td>\n",
              "      <td id=\"T_48dd2_row9_col5\" class=\"data row9 col5\" >-0.547681</td>\n",
              "      <td id=\"T_48dd2_row9_col6\" class=\"data row9 col6\" >-0.548559</td>\n",
              "      <td id=\"T_48dd2_row9_col7\" class=\"data row9 col7\" >-0.438736</td>\n",
              "      <td id=\"T_48dd2_row9_col8\" class=\"data row9 col8\" >0.243417</td>\n",
              "      <td id=\"T_48dd2_row9_col9\" class=\"data row9 col9\" >1.000000</td>\n",
              "      <td id=\"T_48dd2_row9_col10\" class=\"data row9 col10\" >-0.546065</td>\n",
              "      <td id=\"T_48dd2_row9_col11\" class=\"data row9 col11\" >0.014228</td>\n",
              "      <td id=\"T_48dd2_row9_col12\" class=\"data row9 col12\" >-0.548815</td>\n",
              "      <td id=\"T_48dd2_row9_col13\" class=\"data row9 col13\" >0.999918</td>\n",
              "      <td id=\"T_48dd2_row9_col14\" class=\"data row9 col14\" >0.005542</td>\n",
              "      <td id=\"T_48dd2_row9_col15\" class=\"data row9 col15\" >0.004054</td>\n",
              "      <td id=\"T_48dd2_row9_col16\" class=\"data row9 col16\" >-0.005789</td>\n",
              "    </tr>\n",
              "    <tr>\n",
              "      <th id=\"T_48dd2_level0_row10\" class=\"row_heading level0 row10\" >Y_Coordinate</th>\n",
              "      <td id=\"T_48dd2_row10_col0\" class=\"data row10 col0\" >0.008968</td>\n",
              "      <td id=\"T_48dd2_row10_col1\" class=\"data row10 col1\" >0.021032</td>\n",
              "      <td id=\"T_48dd2_row10_col2\" class=\"data row10 col2\" >-0.021171</td>\n",
              "      <td id=\"T_48dd2_row10_col3\" class=\"data row10 col3\" >-0.040441</td>\n",
              "      <td id=\"T_48dd2_row10_col4\" class=\"data row10 col4\" >-0.111847</td>\n",
              "      <td id=\"T_48dd2_row10_col5\" class=\"data row10 col5\" >0.624609</td>\n",
              "      <td id=\"T_48dd2_row10_col6\" class=\"data row10 col6\" >0.625830</td>\n",
              "      <td id=\"T_48dd2_row10_col7\" class=\"data row10 col7\" >0.656941</td>\n",
              "      <td id=\"T_48dd2_row10_col8\" class=\"data row10 col8\" >-0.775952</td>\n",
              "      <td id=\"T_48dd2_row10_col9\" class=\"data row10 col9\" >-0.546065</td>\n",
              "      <td id=\"T_48dd2_row10_col10\" class=\"data row10 col10\" >1.000000</td>\n",
              "      <td id=\"T_48dd2_row10_col11\" class=\"data row10 col11\" >0.010902</td>\n",
              "      <td id=\"T_48dd2_row10_col12\" class=\"data row10 col12\" >0.999995</td>\n",
              "      <td id=\"T_48dd2_row10_col13\" class=\"data row10 col13\" >-0.535363</td>\n",
              "      <td id=\"T_48dd2_row10_col14\" class=\"data row10 col14\" >0.007103</td>\n",
              "      <td id=\"T_48dd2_row10_col15\" class=\"data row10 col15\" >-0.000484</td>\n",
              "      <td id=\"T_48dd2_row10_col16\" class=\"data row10 col16\" >-0.000097</td>\n",
              "    </tr>\n",
              "    <tr>\n",
              "      <th id=\"T_48dd2_level0_row11\" class=\"row_heading level0 row11\" >Year</th>\n",
              "      <td id=\"T_48dd2_row11_col0\" class=\"data row11 col0\" >0.972282</td>\n",
              "      <td id=\"T_48dd2_row11_col1\" class=\"data row11 col1\" >0.668731</td>\n",
              "      <td id=\"T_48dd2_row11_col2\" class=\"data row11 col2\" >-0.020240</td>\n",
              "      <td id=\"T_48dd2_row11_col3\" class=\"data row11 col3\" >-0.045000</td>\n",
              "      <td id=\"T_48dd2_row11_col4\" class=\"data row11 col4\" >0.007442</td>\n",
              "      <td id=\"T_48dd2_row11_col5\" class=\"data row11 col5\" >-0.002826</td>\n",
              "      <td id=\"T_48dd2_row11_col6\" class=\"data row11 col6\" >-0.002817</td>\n",
              "      <td id=\"T_48dd2_row11_col7\" class=\"data row11 col7\" >0.016120</td>\n",
              "      <td id=\"T_48dd2_row11_col8\" class=\"data row11 col8\" >-0.018341</td>\n",
              "      <td id=\"T_48dd2_row11_col9\" class=\"data row11 col9\" >0.014228</td>\n",
              "      <td id=\"T_48dd2_row11_col10\" class=\"data row11 col10\" >0.010902</td>\n",
              "      <td id=\"T_48dd2_row11_col11\" class=\"data row11 col11\" >1.000000</td>\n",
              "      <td id=\"T_48dd2_row11_col12\" class=\"data row11 col12\" >0.010825</td>\n",
              "      <td id=\"T_48dd2_row11_col13\" class=\"data row11 col13\" >0.014526</td>\n",
              "      <td id=\"T_48dd2_row11_col14\" class=\"data row11 col14\" >-0.152328</td>\n",
              "      <td id=\"T_48dd2_row11_col15\" class=\"data row11 col15\" >-0.008558</td>\n",
              "      <td id=\"T_48dd2_row11_col16\" class=\"data row11 col16\" >-0.004105</td>\n",
              "    </tr>\n",
              "    <tr>\n",
              "      <th id=\"T_48dd2_level0_row12\" class=\"row_heading level0 row12\" >Latitude</th>\n",
              "      <td id=\"T_48dd2_row12_col0\" class=\"data row12 col0\" >0.008901</td>\n",
              "      <td id=\"T_48dd2_row12_col1\" class=\"data row12 col1\" >0.020947</td>\n",
              "      <td id=\"T_48dd2_row12_col2\" class=\"data row12 col2\" >-0.020954</td>\n",
              "      <td id=\"T_48dd2_row12_col3\" class=\"data row12 col3\" >-0.040240</td>\n",
              "      <td id=\"T_48dd2_row12_col4\" class=\"data row12 col4\" >-0.111680</td>\n",
              "      <td id=\"T_48dd2_row12_col5\" class=\"data row12 col5\" >0.625438</td>\n",
              "      <td id=\"T_48dd2_row12_col6\" class=\"data row12 col6\" >0.626660</td>\n",
              "      <td id=\"T_48dd2_row12_col7\" class=\"data row12 col7\" >0.657259</td>\n",
              "      <td id=\"T_48dd2_row12_col8\" class=\"data row12 col8\" >-0.775239</td>\n",
              "      <td id=\"T_48dd2_row12_col9\" class=\"data row12 col9\" >-0.548815</td>\n",
              "      <td id=\"T_48dd2_row12_col10\" class=\"data row12 col10\" >0.999995</td>\n",
              "      <td id=\"T_48dd2_row12_col11\" class=\"data row12 col11\" >0.010825</td>\n",
              "      <td id=\"T_48dd2_row12_col12\" class=\"data row12 col12\" >1.000000</td>\n",
              "      <td id=\"T_48dd2_row12_col13\" class=\"data row12 col13\" >-0.538135</td>\n",
              "      <td id=\"T_48dd2_row12_col14\" class=\"data row12 col14\" >0.007067</td>\n",
              "      <td id=\"T_48dd2_row12_col15\" class=\"data row12 col15\" >-0.000499</td>\n",
              "      <td id=\"T_48dd2_row12_col16\" class=\"data row12 col16\" >-0.000072</td>\n",
              "    </tr>\n",
              "    <tr>\n",
              "      <th id=\"T_48dd2_level0_row13\" class=\"row_heading level0 row13\" >Longitude</th>\n",
              "      <td id=\"T_48dd2_row13_col0\" class=\"data row13 col0\" >0.012798</td>\n",
              "      <td id=\"T_48dd2_row13_col1\" class=\"data row13 col1\" >0.010740</td>\n",
              "      <td id=\"T_48dd2_row13_col2\" class=\"data row13 col2\" >-0.044184</td>\n",
              "      <td id=\"T_48dd2_row13_col3\" class=\"data row13 col3\" >-0.029623</td>\n",
              "      <td id=\"T_48dd2_row13_col4\" class=\"data row13 col4\" >0.015962</td>\n",
              "      <td id=\"T_48dd2_row13_col5\" class=\"data row13 col5\" >-0.542703</td>\n",
              "      <td id=\"T_48dd2_row13_col6\" class=\"data row13 col6\" >-0.543568</td>\n",
              "      <td id=\"T_48dd2_row13_col7\" class=\"data row13 col7\" >-0.432346</td>\n",
              "      <td id=\"T_48dd2_row13_col8\" class=\"data row13 col8\" >0.233717</td>\n",
              "      <td id=\"T_48dd2_row13_col9\" class=\"data row13 col9\" >0.999918</td>\n",
              "      <td id=\"T_48dd2_row13_col10\" class=\"data row13 col10\" >-0.535363</td>\n",
              "      <td id=\"T_48dd2_row13_col11\" class=\"data row13 col11\" >0.014526</td>\n",
              "      <td id=\"T_48dd2_row13_col12\" class=\"data row13 col12\" >-0.538135</td>\n",
              "      <td id=\"T_48dd2_row13_col13\" class=\"data row13 col13\" >1.000000</td>\n",
              "      <td id=\"T_48dd2_row13_col14\" class=\"data row13 col14\" >0.005703</td>\n",
              "      <td id=\"T_48dd2_row13_col15\" class=\"data row13 col15\" >0.004080</td>\n",
              "      <td id=\"T_48dd2_row13_col16\" class=\"data row13 col16\" >-0.005832</td>\n",
              "    </tr>\n",
              "    <tr>\n",
              "      <th id=\"T_48dd2_level0_row14\" class=\"row_heading level0 row14\" >Month</th>\n",
              "      <td id=\"T_48dd2_row14_col0\" class=\"data row14 col0\" >-0.344569</td>\n",
              "      <td id=\"T_48dd2_row14_col1\" class=\"data row14 col1\" >0.057405</td>\n",
              "      <td id=\"T_48dd2_row14_col2\" class=\"data row14 col2\" >-0.009783</td>\n",
              "      <td id=\"T_48dd2_row14_col3\" class=\"data row14 col3\" >-0.033944</td>\n",
              "      <td id=\"T_48dd2_row14_col4\" class=\"data row14 col4\" >-0.009358</td>\n",
              "      <td id=\"T_48dd2_row14_col5\" class=\"data row14 col5\" >0.001895</td>\n",
              "      <td id=\"T_48dd2_row14_col6\" class=\"data row14 col6\" >0.001908</td>\n",
              "      <td id=\"T_48dd2_row14_col7\" class=\"data row14 col7\" >0.004973</td>\n",
              "      <td id=\"T_48dd2_row14_col8\" class=\"data row14 col8\" >-0.008267</td>\n",
              "      <td id=\"T_48dd2_row14_col9\" class=\"data row14 col9\" >0.005542</td>\n",
              "      <td id=\"T_48dd2_row14_col10\" class=\"data row14 col10\" >0.007103</td>\n",
              "      <td id=\"T_48dd2_row14_col11\" class=\"data row14 col11\" >-0.152328</td>\n",
              "      <td id=\"T_48dd2_row14_col12\" class=\"data row14 col12\" >0.007067</td>\n",
              "      <td id=\"T_48dd2_row14_col13\" class=\"data row14 col13\" >0.005703</td>\n",
              "      <td id=\"T_48dd2_row14_col14\" class=\"data row14 col14\" >1.000000</td>\n",
              "      <td id=\"T_48dd2_row14_col15\" class=\"data row14 col15\" >-0.001617</td>\n",
              "      <td id=\"T_48dd2_row14_col16\" class=\"data row14 col16\" >0.001184</td>\n",
              "    </tr>\n",
              "    <tr>\n",
              "      <th id=\"T_48dd2_level0_row15\" class=\"row_heading level0 row15\" >Day</th>\n",
              "      <td id=\"T_48dd2_row15_col0\" class=\"data row15 col0\" >-0.023802</td>\n",
              "      <td id=\"T_48dd2_row15_col1\" class=\"data row15 col1\" >0.003543</td>\n",
              "      <td id=\"T_48dd2_row15_col2\" class=\"data row15 col2\" >-0.005436</td>\n",
              "      <td id=\"T_48dd2_row15_col3\" class=\"data row15 col3\" >0.000546</td>\n",
              "      <td id=\"T_48dd2_row15_col4\" class=\"data row15 col4\" >-0.000066</td>\n",
              "      <td id=\"T_48dd2_row15_col5\" class=\"data row15 col5\" >-0.002569</td>\n",
              "      <td id=\"T_48dd2_row15_col6\" class=\"data row15 col6\" >-0.002611</td>\n",
              "      <td id=\"T_48dd2_row15_col7\" class=\"data row15 col7\" >-0.001007</td>\n",
              "      <td id=\"T_48dd2_row15_col8\" class=\"data row15 col8\" >-0.000668</td>\n",
              "      <td id=\"T_48dd2_row15_col9\" class=\"data row15 col9\" >0.004054</td>\n",
              "      <td id=\"T_48dd2_row15_col10\" class=\"data row15 col10\" >-0.000484</td>\n",
              "      <td id=\"T_48dd2_row15_col11\" class=\"data row15 col11\" >-0.008558</td>\n",
              "      <td id=\"T_48dd2_row15_col12\" class=\"data row15 col12\" >-0.000499</td>\n",
              "      <td id=\"T_48dd2_row15_col13\" class=\"data row15 col13\" >0.004080</td>\n",
              "      <td id=\"T_48dd2_row15_col14\" class=\"data row15 col14\" >-0.001617</td>\n",
              "      <td id=\"T_48dd2_row15_col15\" class=\"data row15 col15\" >1.000000</td>\n",
              "      <td id=\"T_48dd2_row15_col16\" class=\"data row15 col16\" >0.016548</td>\n",
              "    </tr>\n",
              "    <tr>\n",
              "      <th id=\"T_48dd2_level0_row16\" class=\"row_heading level0 row16\" >Hour</th>\n",
              "      <td id=\"T_48dd2_row16_col0\" class=\"data row16 col0\" >-0.004619</td>\n",
              "      <td id=\"T_48dd2_row16_col1\" class=\"data row16 col1\" >-0.002634</td>\n",
              "      <td id=\"T_48dd2_row16_col2\" class=\"data row16 col2\" >-0.007431</td>\n",
              "      <td id=\"T_48dd2_row16_col3\" class=\"data row16 col3\" >0.064174</td>\n",
              "      <td id=\"T_48dd2_row16_col4\" class=\"data row16 col4\" >-0.039845</td>\n",
              "      <td id=\"T_48dd2_row16_col5\" class=\"data row16 col5\" >-0.008228</td>\n",
              "      <td id=\"T_48dd2_row16_col6\" class=\"data row16 col6\" >-0.008154</td>\n",
              "      <td id=\"T_48dd2_row16_col7\" class=\"data row16 col7\" >0.000306</td>\n",
              "      <td id=\"T_48dd2_row16_col8\" class=\"data row16 col8\" >0.001835</td>\n",
              "      <td id=\"T_48dd2_row16_col9\" class=\"data row16 col9\" >-0.005789</td>\n",
              "      <td id=\"T_48dd2_row16_col10\" class=\"data row16 col10\" >-0.000097</td>\n",
              "      <td id=\"T_48dd2_row16_col11\" class=\"data row16 col11\" >-0.004105</td>\n",
              "      <td id=\"T_48dd2_row16_col12\" class=\"data row16 col12\" >-0.000072</td>\n",
              "      <td id=\"T_48dd2_row16_col13\" class=\"data row16 col13\" >-0.005832</td>\n",
              "      <td id=\"T_48dd2_row16_col14\" class=\"data row16 col14\" >0.001184</td>\n",
              "      <td id=\"T_48dd2_row16_col15\" class=\"data row16 col15\" >0.016548</td>\n",
              "      <td id=\"T_48dd2_row16_col16\" class=\"data row16 col16\" >1.000000</td>\n",
              "    </tr>\n",
              "  </tbody>\n",
              "</table>\n"
            ]
          },
          "metadata": {},
          "execution_count": 40
        }
      ]
    },
    {
      "cell_type": "markdown",
      "source": [
        "A value closer to 0 implies weaker correlation \n",
        "\n",
        "A value closer to 1 implies stronger positive correlation\n",
        "\n",
        "A value closer to -1 implies stronger negative correlation"
      ],
      "metadata": {
        "id": "IMUvCKL82rQh"
      }
    },
    {
      "cell_type": "markdown",
      "source": [
        "**Machine Learning tidak dapat menggunakan teks sederhana. Kita harus mengubah data dari teks menjadi angka. Oleh karena itu, untuk setiap string yang merupakan kelas, kami menetapkan label yang berupa angka.**"
      ],
      "metadata": {
        "id": "zVIVnFTSvFZi"
      }
    },
    {
      "cell_type": "markdown",
      "source": [
        "Misalnya, dalam kumpulan data 'Date' pelanggan, mereka diklasifikasikan menjadi 3 bagian, yaitu high, medium, atau low dan diberi label 0, 1, atau 2. Kami menggunakan kelas LabelEncoder yang disediakan oleh Sklearn untuk ini."
      ],
      "metadata": {
        "id": "5hMGgquGvKqS"
      }
    },
    {
      "cell_type": "markdown",
      "source": [
        "Oleh karena itu, variabel 'Date' akan di LabelEncoder agar bisa dipakai sebagai data numerical."
      ],
      "metadata": {
        "id": "syNhcphnGTAp"
      }
    },
    {
      "cell_type": "code",
      "source": [
        "features = []\n",
        "features = Sharen_Odd.drop(['Date'], axis = 1)\n",
        "\n",
        "Label_Date = pd.DataFrame(Sharen_Odd, columns = ['Date'])\n",
        "Label_encorder = LabelEncoder()\n",
        "Label = Sharen_Odd['Date']\n",
        "\n",
        "Label = Label_encorder.fit_transform(Label)\n",
        "print(\"Nilai 'Date' setelah diberi label encoder : \"+str(Label))"
      ],
      "metadata": {
        "colab": {
          "base_uri": "https://localhost:8080/",
          "height": 0
        },
        "id": "5NJQ7WxCvQAC",
        "outputId": "a9a41cf9-5c43-498b-eb96-4d714df89899"
      },
      "execution_count": 41,
      "outputs": [
        {
          "output_type": "stream",
          "name": "stdout",
          "text": [
            "Nilai 'Date' setelah diberi label encoder : [339569 146852 455574 ...  56455 380484 181840]\n"
          ]
        }
      ]
    },
    {
      "cell_type": "markdown",
      "source": [
        "**Splitting data for training and testing**"
      ],
      "metadata": {
        "id": "ZS3owiPX5oTm"
      }
    },
    {
      "cell_type": "code",
      "source": [
        "X = Label.reshape(-1, 1)\n",
        "y = Sharen_Odd['Primary_Type']\n",
        "\n",
        "X_train, X_test, y_train, y_test = train_test_split(X, y, test_size=0.2, random_state=1)\n",
        "print(\"Training dan testing split was successfulpada dataset HousingData : BERHASIL\")"
      ],
      "metadata": {
        "colab": {
          "base_uri": "https://localhost:8080/",
          "height": 0
        },
        "id": "F9ZM9riJ5ZG9",
        "outputId": "08694615-4b32-4b76-9a29-746a55997732"
      },
      "execution_count": 42,
      "outputs": [
        {
          "output_type": "stream",
          "name": "stdout",
          "text": [
            "Training dan testing split was successfulpada dataset HousingData : BERHASIL\n"
          ]
        }
      ]
    },
    {
      "cell_type": "markdown",
      "metadata": {
        "id": "2fr7w2ak3RmS"
      },
      "source": [
        "## 4. Build and Assess the machine learning models (35 pts.)"
      ]
    },
    {
      "cell_type": "markdown",
      "source": [
        "###**Mencoba Model ML**"
      ],
      "metadata": {
        "id": "YzFON2dU48Ke"
      }
    },
    {
      "cell_type": "markdown",
      "metadata": {
        "id": "fZAHwLxa3RmS"
      },
      "source": [
        "**You have to evaluate the machine learning models using at least two performance metrics (for example: precision and recall)**. "
      ]
    },
    {
      "cell_type": "markdown",
      "metadata": {
        "id": "Nqu_WX1y3RmS"
      },
      "source": [
        "### First Model : Logistic Regression"
      ]
    },
    {
      "cell_type": "code",
      "source": [
        "LG = LogisticRegression()\n",
        "LG.fit(X_train,y_train)\n",
        "pred_LG = LG.predict(X_test)\n",
        "\n",
        "confusion_matrix(y_test, pred_LG)\n",
        "\n",
        "print ('\\n confussion matrix Logistic Regression :\\n',confusion_matrix(y_test, pred_LG))"
      ],
      "metadata": {
        "colab": {
          "base_uri": "https://localhost:8080/",
          "height": 0
        },
        "id": "NKPYzZgB4cc4",
        "outputId": "b59cf01d-895b-42d6-d991-2f2e3e99397f"
      },
      "execution_count": 43,
      "outputs": [
        {
          "output_type": "stream",
          "name": "stdout",
          "text": [
            "\n",
            " confussion matrix Logistic Regression :\n",
            " [[0 0 0 ... 0 0 0]\n",
            " [0 0 0 ... 0 0 0]\n",
            " [0 0 0 ... 0 0 0]\n",
            " ...\n",
            " [0 0 0 ... 0 0 0]\n",
            " [0 0 0 ... 0 0 0]\n",
            " [0 0 0 ... 0 0 0]]\n"
          ]
        },
        {
          "output_type": "stream",
          "name": "stderr",
          "text": [
            "/usr/local/lib/python3.7/dist-packages/sklearn/linear_model/_logistic.py:818: ConvergenceWarning: lbfgs failed to converge (status=1):\n",
            "STOP: TOTAL NO. of ITERATIONS REACHED LIMIT.\n",
            "\n",
            "Increase the number of iterations (max_iter) or scale the data as shown in:\n",
            "    https://scikit-learn.org/stable/modules/preprocessing.html\n",
            "Please also refer to the documentation for alternative solver options:\n",
            "    https://scikit-learn.org/stable/modules/linear_model.html#logistic-regression\n",
            "  extra_warning_msg=_LOGISTIC_SOLVER_CONVERGENCE_MSG,\n"
          ]
        }
      ]
    },
    {
      "cell_type": "code",
      "source": [
        "print ('Accuracy:', accuracy_score(y_test, pred_LG))"
      ],
      "metadata": {
        "colab": {
          "base_uri": "https://localhost:8080/",
          "height": 0
        },
        "id": "VsgOIgib8z0r",
        "outputId": "91bd0de7-5c82-45ae-cb85-21e5265212fc"
      },
      "execution_count": 44,
      "outputs": [
        {
          "output_type": "stream",
          "name": "stdout",
          "text": [
            "Accuracy: 0.23304692535461766\n"
          ]
        }
      ]
    },
    {
      "cell_type": "code",
      "source": [
        "Class_report_LogistrikRegression = print(classification_report(y_test, pred_LG))\n",
        "Class_report_LogistrikRegression"
      ],
      "metadata": {
        "colab": {
          "base_uri": "https://localhost:8080/",
          "height": 0
        },
        "id": "3vNvZrYG86n2",
        "outputId": "bfe84db4-5956-4af2-fbda-ced21a1e5b16"
      },
      "execution_count": 45,
      "outputs": [
        {
          "output_type": "stream",
          "name": "stderr",
          "text": [
            "/usr/local/lib/python3.7/dist-packages/sklearn/metrics/_classification.py:1318: UndefinedMetricWarning: Precision and F-score are ill-defined and being set to 0.0 in labels with no predicted samples. Use `zero_division` parameter to control this behavior.\n",
            "  _warn_prf(average, modifier, msg_start, len(result))\n",
            "/usr/local/lib/python3.7/dist-packages/sklearn/metrics/_classification.py:1318: UndefinedMetricWarning: Precision and F-score are ill-defined and being set to 0.0 in labels with no predicted samples. Use `zero_division` parameter to control this behavior.\n",
            "  _warn_prf(average, modifier, msg_start, len(result))\n"
          ]
        },
        {
          "output_type": "stream",
          "name": "stdout",
          "text": [
            "              precision    recall  f1-score   support\n",
            "\n",
            "           0       0.00      0.00      0.00     14860\n",
            "           1       0.00      0.00      0.00     38522\n",
            "           2       0.00      0.00      0.00      8122\n",
            "           3       0.23      1.00      0.38     48089\n",
            "           4       0.00      0.00      0.00      5122\n",
            "           5       0.00      0.00      0.00      1862\n",
            "           6       0.00      0.00      0.00      8175\n",
            "           7       0.00      0.00      0.00     13718\n",
            "           8       0.00      0.00      0.00     22326\n",
            "           9       0.00      0.00      0.00     11932\n",
            "          10       0.00      0.00      0.00     13473\n",
            "          11       0.00      0.00      0.00       945\n",
            "          12       0.00      0.00      0.00      1277\n",
            "          13       0.00      0.00      0.00       145\n",
            "          14       0.00      0.00      0.00      9997\n",
            "          15       0.00      0.00      0.00       831\n",
            "          16       0.00      0.00      0.00      3447\n",
            "          17       0.00      0.00      0.00       161\n",
            "          18       0.00      0.00      0.00       701\n",
            "          19       0.00      0.00      0.00       336\n",
            "          20       0.00      0.00      0.00       493\n",
            "          21       0.00      0.00      0.00      1208\n",
            "          22       0.00      0.00      0.00       145\n",
            "          23       0.00      0.00      0.00       122\n",
            "          24       0.00      0.00      0.00       164\n",
            "          25       0.00      0.00      0.00        72\n",
            "          26       0.00      0.00      0.00        30\n",
            "          27       0.00      0.00      0.00        55\n",
            "          28       0.00      0.00      0.00         5\n",
            "          29       0.00      0.00      0.00         6\n",
            "          30       0.00      0.00      0.00         4\n",
            "          31       0.00      0.00      0.00         2\n",
            "          32       0.00      0.00      0.00         2\n",
            "\n",
            "    accuracy                           0.23    206349\n",
            "   macro avg       0.01      0.03      0.01    206349\n",
            "weighted avg       0.05      0.23      0.09    206349\n",
            "\n"
          ]
        },
        {
          "output_type": "stream",
          "name": "stderr",
          "text": [
            "/usr/local/lib/python3.7/dist-packages/sklearn/metrics/_classification.py:1318: UndefinedMetricWarning: Precision and F-score are ill-defined and being set to 0.0 in labels with no predicted samples. Use `zero_division` parameter to control this behavior.\n",
            "  _warn_prf(average, modifier, msg_start, len(result))\n"
          ]
        }
      ]
    },
    {
      "cell_type": "markdown",
      "metadata": {
        "id": "gFgtGOIL3RmU"
      },
      "source": [
        "### Second Model : KNeighborsClassifier (KNN)"
      ]
    },
    {
      "cell_type": "code",
      "source": [
        "knn = KNN()\n",
        "knn.fit(X_train, y_train)\n",
        "pred_KNN = knn.predict(X_test)\n",
        "\n",
        "confusion_matrix(y_test, pred_KNN)\n",
        "\n",
        "print ('\\n confussion matrix KNN:\\n',confusion_matrix(y_test, pred_KNN))"
      ],
      "metadata": {
        "colab": {
          "base_uri": "https://localhost:8080/",
          "height": 0
        },
        "id": "Qj7EkwfX2kXq",
        "outputId": "d7ca916c-f975-46fb-82ab-882c3d1df71f"
      },
      "execution_count": 46,
      "outputs": [
        {
          "output_type": "stream",
          "name": "stdout",
          "text": [
            "\n",
            " confussion matrix KNN:\n",
            " [[ 2100  4615   356 ...     0     0     0]\n",
            " [ 5147 13165  1110 ...     0     0     0]\n",
            " [ 1097  2760   295 ...     0     0     0]\n",
            " ...\n",
            " [    0     1     0 ...     0     0     0]\n",
            " [    0     0     0 ...     0     0     0]\n",
            " [    0     1     0 ...     0     0     0]]\n"
          ]
        }
      ]
    },
    {
      "cell_type": "code",
      "source": [
        "print ('Accuracy KNN:', accuracy_score(y_test, pred_KNN))"
      ],
      "metadata": {
        "colab": {
          "base_uri": "https://localhost:8080/",
          "height": 0
        },
        "id": "MJjObe52-rUf",
        "outputId": "fc5142d1-f3bd-4341-b908-2ed5a0e9b018"
      },
      "execution_count": 47,
      "outputs": [
        {
          "output_type": "stream",
          "name": "stdout",
          "text": [
            "Accuracy KNN: 0.19013903629288245\n"
          ]
        }
      ]
    },
    {
      "cell_type": "code",
      "source": [
        "Class_report_KNN = print(classification_report(y_test, pred_KNN))\n",
        "Class_report_KNN"
      ],
      "metadata": {
        "colab": {
          "base_uri": "https://localhost:8080/",
          "height": 0
        },
        "id": "_7merUmwCDft",
        "outputId": "c36d59e4-ae37-4e89-df1a-b1e0a5afbf69"
      },
      "execution_count": 48,
      "outputs": [
        {
          "output_type": "stream",
          "name": "stderr",
          "text": [
            "/usr/local/lib/python3.7/dist-packages/sklearn/metrics/_classification.py:1318: UndefinedMetricWarning: Precision and F-score are ill-defined and being set to 0.0 in labels with no predicted samples. Use `zero_division` parameter to control this behavior.\n",
            "  _warn_prf(average, modifier, msg_start, len(result))\n"
          ]
        },
        {
          "output_type": "stream",
          "name": "stdout",
          "text": [
            "              precision    recall  f1-score   support\n",
            "\n",
            "           0       0.08      0.14      0.10     14860\n",
            "           1       0.22      0.34      0.27     38522\n",
            "           2       0.05      0.04      0.04      8122\n",
            "           3       0.26      0.38      0.31     48089\n",
            "           4       0.03      0.01      0.01      5122\n",
            "           5       0.16      0.04      0.06      1862\n",
            "           6       0.06      0.03      0.04      8175\n",
            "           7       0.18      0.14      0.15     13718\n",
            "           8       0.13      0.09      0.10     22326\n",
            "           9       0.14      0.06      0.08     11932\n",
            "          10       0.07      0.03      0.04     13473\n",
            "          11       0.00      0.00      0.00       945\n",
            "          12       0.01      0.00      0.00      1277\n",
            "          13       0.00      0.00      0.00       145\n",
            "          14       0.08      0.03      0.04      9997\n",
            "          15       0.00      0.00      0.00       831\n",
            "          16       0.06      0.01      0.01      3447\n",
            "          17       0.00      0.00      0.00       161\n",
            "          18       0.09      0.02      0.03       701\n",
            "          19       0.00      0.00      0.00       336\n",
            "          20       0.10      0.01      0.01       493\n",
            "          21       0.03      0.00      0.01      1208\n",
            "          22       0.00      0.00      0.00       145\n",
            "          23       0.00      0.00      0.00       122\n",
            "          24       0.00      0.00      0.00       164\n",
            "          25       0.00      0.00      0.00        72\n",
            "          26       0.00      0.00      0.00        30\n",
            "          27       0.00      0.00      0.00        55\n",
            "          28       0.00      0.00      0.00         5\n",
            "          29       0.00      0.00      0.00         6\n",
            "          30       0.00      0.00      0.00         4\n",
            "          31       0.00      0.00      0.00         2\n",
            "          32       0.00      0.00      0.00         2\n",
            "\n",
            "    accuracy                           0.19    206349\n",
            "   macro avg       0.05      0.04      0.04    206349\n",
            "weighted avg       0.16      0.19      0.16    206349\n",
            "\n"
          ]
        },
        {
          "output_type": "stream",
          "name": "stderr",
          "text": [
            "/usr/local/lib/python3.7/dist-packages/sklearn/metrics/_classification.py:1318: UndefinedMetricWarning: Precision and F-score are ill-defined and being set to 0.0 in labels with no predicted samples. Use `zero_division` parameter to control this behavior.\n",
            "  _warn_prf(average, modifier, msg_start, len(result))\n",
            "/usr/local/lib/python3.7/dist-packages/sklearn/metrics/_classification.py:1318: UndefinedMetricWarning: Precision and F-score are ill-defined and being set to 0.0 in labels with no predicted samples. Use `zero_division` parameter to control this behavior.\n",
            "  _warn_prf(average, modifier, msg_start, len(result))\n"
          ]
        }
      ]
    },
    {
      "cell_type": "markdown",
      "source": [
        "### Third Model : Decision Tree  Classifier(DTC)"
      ],
      "metadata": {
        "id": "UVCz53OoUh4v"
      }
    },
    {
      "cell_type": "code",
      "source": [
        "from sklearn.tree import DecisionTreeClassifier\n",
        "DTC = DecisionTreeClassifier()\n",
        "DTC.fit(X_train, y_train)\n",
        "pred_DTC = DTC.predict(X_test)\n",
        "\n",
        "confusion_matrix(y_test, pred_DTC)\n",
        "\n",
        "print ('\\n confussion matrix DTC:\\n',confusion_matrix(y_test, pred_DTC))"
      ],
      "metadata": {
        "id": "IfHof-JCU_xc",
        "colab": {
          "base_uri": "https://localhost:8080/",
          "height": 0
        },
        "outputId": "0f1d7543-5340-4680-c44d-f04d5c7c351a"
      },
      "execution_count": 49,
      "outputs": [
        {
          "output_type": "stream",
          "name": "stdout",
          "text": [
            "\n",
            " confussion matrix DTC:\n",
            " [[ 1553  3541   546 ...     0     0     0]\n",
            " [ 3770 10119  1655 ...     2     0     0]\n",
            " [  790  2137   400 ...     0     0     0]\n",
            " ...\n",
            " [    0     0     1 ...     0     0     0]\n",
            " [    0     0     0 ...     0     0     0]\n",
            " [    0     0     0 ...     0     0     0]]\n"
          ]
        }
      ]
    },
    {
      "cell_type": "code",
      "source": [
        "print ('Accuracy DTC:', accuracy_score(y_test, pred_DTC))"
      ],
      "metadata": {
        "id": "ethsQchfDHT-",
        "colab": {
          "base_uri": "https://localhost:8080/",
          "height": 0
        },
        "outputId": "7b438c73-5e5d-4df2-fe46-9f71f4935efb"
      },
      "execution_count": 50,
      "outputs": [
        {
          "output_type": "stream",
          "name": "stdout",
          "text": [
            "Accuracy DTC: 0.186208801593417\n"
          ]
        }
      ]
    },
    {
      "cell_type": "code",
      "source": [
        "Class_report_DTC = print(classification_report(y_test, pred_DTC))\n",
        "Class_report_DTC"
      ],
      "metadata": {
        "id": "WPRzR29ZDJ9a",
        "colab": {
          "base_uri": "https://localhost:8080/",
          "height": 0
        },
        "outputId": "d32cad4a-b991-4b34-d00e-84175e7ddfea"
      },
      "execution_count": 51,
      "outputs": [
        {
          "output_type": "stream",
          "name": "stderr",
          "text": [
            "/usr/local/lib/python3.7/dist-packages/sklearn/metrics/_classification.py:1318: UndefinedMetricWarning: Precision and F-score are ill-defined and being set to 0.0 in labels with no predicted samples. Use `zero_division` parameter to control this behavior.\n",
            "  _warn_prf(average, modifier, msg_start, len(result))\n"
          ]
        },
        {
          "output_type": "stream",
          "name": "stdout",
          "text": [
            "              precision    recall  f1-score   support\n",
            "\n",
            "           0       0.08      0.10      0.09     14860\n",
            "           1       0.22      0.26      0.24     38522\n",
            "           2       0.05      0.05      0.05      8122\n",
            "           3       0.27      0.40      0.32     48089\n",
            "           4       0.03      0.02      0.02      5122\n",
            "           5       0.10      0.05      0.07      1862\n",
            "           6       0.05      0.03      0.04      8175\n",
            "           7       0.18      0.17      0.17     13718\n",
            "           8       0.13      0.09      0.11     22326\n",
            "           9       0.14      0.09      0.11     11932\n",
            "          10       0.08      0.04      0.05     13473\n",
            "          11       0.00      0.00      0.00       945\n",
            "          12       0.01      0.01      0.01      1277\n",
            "          13       0.00      0.00      0.00       145\n",
            "          14       0.07      0.03      0.04      9997\n",
            "          15       0.00      0.00      0.00       831\n",
            "          16       0.05      0.03      0.04      3447\n",
            "          17       0.01      0.01      0.01       161\n",
            "          18       0.07      0.04      0.05       701\n",
            "          19       0.03      0.01      0.02       336\n",
            "          20       0.07      0.04      0.05       493\n",
            "          21       0.01      0.00      0.00      1208\n",
            "          22       0.00      0.00      0.00       145\n",
            "          23       0.00      0.00      0.00       122\n",
            "          24       0.01      0.01      0.01       164\n",
            "          25       0.00      0.00      0.00        72\n",
            "          26       0.00      0.00      0.00        30\n",
            "          27       0.00      0.00      0.00        55\n",
            "          28       0.00      0.00      0.00         5\n",
            "          29       0.00      0.00      0.00         6\n",
            "          30       0.00      0.00      0.00         4\n",
            "          31       0.00      0.00      0.00         2\n",
            "          32       0.00      0.00      0.00         2\n",
            "\n",
            "    accuracy                           0.19    206349\n",
            "   macro avg       0.05      0.05      0.05    206349\n",
            "weighted avg       0.16      0.19      0.17    206349\n",
            "\n"
          ]
        },
        {
          "output_type": "stream",
          "name": "stderr",
          "text": [
            "/usr/local/lib/python3.7/dist-packages/sklearn/metrics/_classification.py:1318: UndefinedMetricWarning: Precision and F-score are ill-defined and being set to 0.0 in labels with no predicted samples. Use `zero_division` parameter to control this behavior.\n",
            "  _warn_prf(average, modifier, msg_start, len(result))\n",
            "/usr/local/lib/python3.7/dist-packages/sklearn/metrics/_classification.py:1318: UndefinedMetricWarning: Precision and F-score are ill-defined and being set to 0.0 in labels with no predicted samples. Use `zero_division` parameter to control this behavior.\n",
            "  _warn_prf(average, modifier, msg_start, len(result))\n"
          ]
        }
      ]
    },
    {
      "cell_type": "markdown",
      "source": [
        "### Fourth Model : GaussianNB"
      ],
      "metadata": {
        "id": "GUMuRIOkZn9n"
      }
    },
    {
      "cell_type": "code",
      "source": [
        "from sklearn.naive_bayes import GaussianNB\n",
        "NB = GaussianNB()\n",
        "NB.fit(X_train, y_train)\n",
        "pred_NB = NB.predict(X_test)\n",
        "\n",
        "confusion_matrix(y_test, pred_NB)\n",
        "\n",
        "print ('\\n confussion matrix pred_NB:\\n',confusion_matrix(y_test, pred_NB))"
      ],
      "metadata": {
        "colab": {
          "base_uri": "https://localhost:8080/",
          "height": 0
        },
        "id": "tJJQ9h2pZbca",
        "outputId": "9fc61966-54ae-4b67-bc91-b637d405c169"
      },
      "execution_count": 53,
      "outputs": [
        {
          "output_type": "stream",
          "name": "stdout",
          "text": [
            "\n",
            " confussion matrix pred_NB:\n",
            " [[0 0 0 ... 0 0 0]\n",
            " [0 0 0 ... 0 0 0]\n",
            " [0 0 0 ... 0 0 0]\n",
            " ...\n",
            " [0 0 0 ... 0 0 0]\n",
            " [0 0 0 ... 0 0 0]\n",
            " [0 0 0 ... 0 0 0]]\n"
          ]
        }
      ]
    },
    {
      "cell_type": "code",
      "source": [
        "print ('Accuracy NB:', accuracy_score(y_test, pred_NB))"
      ],
      "metadata": {
        "colab": {
          "base_uri": "https://localhost:8080/",
          "height": 0
        },
        "id": "wAyXwY3BZjPh",
        "outputId": "ca3d9153-b5d1-40ef-b188-fe9c30540503"
      },
      "execution_count": 54,
      "outputs": [
        {
          "output_type": "stream",
          "name": "stdout",
          "text": [
            "Accuracy NB: 0.23304692535461766\n"
          ]
        }
      ]
    },
    {
      "cell_type": "code",
      "source": [
        "Class_report_NB = print(classification_report(y_test, pred_NB))\n",
        "Class_report_NB"
      ],
      "metadata": {
        "colab": {
          "base_uri": "https://localhost:8080/",
          "height": 0
        },
        "id": "LC2d-KXoZlGZ",
        "outputId": "6ae4a8e0-43d8-4006-ed69-d1a148f8fc82"
      },
      "execution_count": 55,
      "outputs": [
        {
          "output_type": "stream",
          "name": "stderr",
          "text": [
            "/usr/local/lib/python3.7/dist-packages/sklearn/metrics/_classification.py:1318: UndefinedMetricWarning: Precision and F-score are ill-defined and being set to 0.0 in labels with no predicted samples. Use `zero_division` parameter to control this behavior.\n",
            "  _warn_prf(average, modifier, msg_start, len(result))\n"
          ]
        },
        {
          "output_type": "stream",
          "name": "stdout",
          "text": [
            "              precision    recall  f1-score   support\n",
            "\n",
            "           0       0.00      0.00      0.00     14860\n",
            "           1       0.00      0.00      0.00     38522\n",
            "           2       0.00      0.00      0.00      8122\n",
            "           3       0.23      1.00      0.38     48089\n",
            "           4       0.00      0.00      0.00      5122\n",
            "           5       0.00      0.00      0.00      1862\n",
            "           6       0.00      0.00      0.00      8175\n",
            "           7       0.00      0.00      0.00     13718\n",
            "           8       0.00      0.00      0.00     22326\n",
            "           9       0.00      0.00      0.00     11932\n",
            "          10       0.00      0.00      0.00     13473\n",
            "          11       0.00      0.00      0.00       945\n",
            "          12       0.00      0.00      0.00      1277\n",
            "          13       0.00      0.00      0.00       145\n",
            "          14       0.00      0.00      0.00      9997\n",
            "          15       0.00      0.00      0.00       831\n",
            "          16       0.00      0.00      0.00      3447\n",
            "          17       0.00      0.00      0.00       161\n",
            "          18       0.00      0.00      0.00       701\n",
            "          19       0.00      0.00      0.00       336\n",
            "          20       0.00      0.00      0.00       493\n",
            "          21       0.00      0.00      0.00      1208\n",
            "          22       0.00      0.00      0.00       145\n",
            "          23       0.00      0.00      0.00       122\n",
            "          24       0.00      0.00      0.00       164\n",
            "          25       0.00      0.00      0.00        72\n",
            "          26       0.00      0.00      0.00        30\n",
            "          27       0.00      0.00      0.00        55\n",
            "          28       0.00      0.00      0.00         5\n",
            "          29       0.00      0.00      0.00         6\n",
            "          30       0.00      0.00      0.00         4\n",
            "          31       0.00      0.00      0.00         2\n",
            "          32       0.00      0.00      0.00         2\n",
            "\n",
            "    accuracy                           0.23    206349\n",
            "   macro avg       0.01      0.03      0.01    206349\n",
            "weighted avg       0.05      0.23      0.09    206349\n",
            "\n"
          ]
        },
        {
          "output_type": "stream",
          "name": "stderr",
          "text": [
            "/usr/local/lib/python3.7/dist-packages/sklearn/metrics/_classification.py:1318: UndefinedMetricWarning: Precision and F-score are ill-defined and being set to 0.0 in labels with no predicted samples. Use `zero_division` parameter to control this behavior.\n",
            "  _warn_prf(average, modifier, msg_start, len(result))\n",
            "/usr/local/lib/python3.7/dist-packages/sklearn/metrics/_classification.py:1318: UndefinedMetricWarning: Precision and F-score are ill-defined and being set to 0.0 in labels with no predicted samples. Use `zero_division` parameter to control this behavior.\n",
            "  _warn_prf(average, modifier, msg_start, len(result))\n"
          ]
        }
      ]
    },
    {
      "cell_type": "markdown",
      "metadata": {
        "id": "rkcbi4f83RmV"
      },
      "source": [
        "## 5. Choose your Final Model (3 pts.)"
      ]
    },
    {
      "cell_type": "markdown",
      "metadata": {
        "id": "kal-cH0x3RmV"
      },
      "source": [
        "**You finally have your final model. Write comments to justify your final model**"
      ]
    },
    {
      "cell_type": "markdown",
      "source": [
        "###**KESIMPULAN :**"
      ],
      "metadata": {
        "id": "qTaWaxjWbyRx"
      }
    },
    {
      "cell_type": "markdown",
      "source": [
        "**Confusion matrix** dapat mengetahui keakuratan dari model yang kita buat dengan performance metrics seperti: accuracy, recall, dan precision."
      ],
      "metadata": {
        "id": "tiVRv5woaPzC"
      }
    },
    {
      "cell_type": "markdown",
      "source": [
        "**Recall** menggambarkan keberhasilan model dalam menemukan kembali sebuah informasi. Maka, recall merupakan rasio prediksi benar positif dibandingkan dengan keseluruhan data yang benar positif. "
      ],
      "metadata": {
        "id": "1h2LBieBaGfE"
      }
    },
    {
      "cell_type": "markdown",
      "source": [
        "Pada dataset Sharen_Odd, dapat dilihat bahwa data menginginkan terjadinya True Negatif dan sangat tidak menginginkan terjadinya False Positif. Oleh sebab itu, dalam pemilihan model sebaiknya dapat dilihat dari Precision-nya.\n",
        "\n",
        "Berdasarkan pengujian terhadap beberapa model ML, saya memilih model ketiga : **Decision Tree Classifier(DTC)**. Dapat dilihat dari nilai precision dan recallnya, Model DTC ini memliki nilai yang lebih tinggi dari model-model lainnya. "
      ],
      "metadata": {
        "id": "qSSJMc8DbxdL"
      }
    }
  ],
  "metadata": {
    "kernelspec": {
      "display_name": "Python 3 (ipykernel)",
      "language": "python",
      "name": "python3"
    },
    "language_info": {
      "codemirror_mode": {
        "name": "ipython",
        "version": 3
      },
      "file_extension": ".py",
      "mimetype": "text/x-python",
      "name": "python",
      "nbconvert_exporter": "python",
      "pygments_lexer": "ipython3",
      "version": "3.8.12"
    },
    "colab": {
      "name": "2440086155_FinalExam.ipynb",
      "provenance": [],
      "collapsed_sections": []
    }
  },
  "nbformat": 4,
  "nbformat_minor": 0
}